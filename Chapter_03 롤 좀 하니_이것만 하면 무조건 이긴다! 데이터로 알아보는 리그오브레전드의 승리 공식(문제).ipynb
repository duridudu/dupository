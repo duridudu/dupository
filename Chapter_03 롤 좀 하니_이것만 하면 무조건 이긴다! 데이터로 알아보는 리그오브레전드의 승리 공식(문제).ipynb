{
  "nbformat": 4,
  "nbformat_minor": 0,
  "metadata": {
    "kernelspec": {
      "display_name": "Python 3",
      "language": "python",
      "name": "python3"
    },
    "language_info": {
      "codemirror_mode": {
        "name": "ipython",
        "version": 3
      },
      "file_extension": ".py",
      "mimetype": "text/x-python",
      "name": "python",
      "nbconvert_exporter": "python",
      "pygments_lexer": "ipython3",
      "version": "3.7.7"
    },
    "colab": {
      "name": "Chapter 03 - 롤 좀 하니_ 이것만 하면 무조건 이긴다! - 데이터로 알아보는 리그 오브 레전드의 승리 공식(문제).ipynb",
      "provenance": [],
      "collapsed_sections": [],
      "include_colab_link": true
    }
  },
  "cells": [
    {
      "cell_type": "markdown",
      "metadata": {
        "id": "view-in-github",
        "colab_type": "text"
      },
      "source": [
        "<a href=\"https://colab.research.google.com/github/duridudu/dupository/blob/%EB%A8%B8%EC%8B%A0%EB%9F%AC%EB%8B%9D%EA%B3%B5%EB%B6%80/Chapter_03%20%E1%84%85%E1%85%A9%E1%86%AF%20%E1%84%8C%E1%85%A9%E1%86%B7%20%E1%84%92%E1%85%A1%E1%84%82%E1%85%B5_%E1%84%8B%E1%85%B5%E1%84%80%E1%85%A5%E1%86%BA%E1%84%86%E1%85%A1%E1%86%AB%20%E1%84%92%E1%85%A1%E1%84%86%E1%85%A7%E1%86%AB%20%E1%84%86%E1%85%AE%E1%84%8C%E1%85%A9%E1%84%80%E1%85%A5%E1%86%AB%20%E1%84%8B%E1%85%B5%E1%84%80%E1%85%B5%E1%86%AB%E1%84%83%E1%85%A1!%20%E1%84%83%E1%85%A6%E1%84%8B%E1%85%B5%E1%84%90%E1%85%A5%E1%84%85%E1%85%A9%20%E1%84%8B%E1%85%A1%E1%86%AF%E1%84%8B%E1%85%A1%E1%84%87%E1%85%A9%E1%84%82%E1%85%B3%E1%86%AB%20%E1%84%85%E1%85%B5%E1%84%80%E1%85%B3%E1%84%8B%E1%85%A9%E1%84%87%E1%85%B3%E1%84%85%E1%85%A6%E1%84%8C%E1%85%A5%E1%86%AB%E1%84%83%E1%85%B3%E1%84%8B%E1%85%B4%20%E1%84%89%E1%85%B3%E1%86%BC%E1%84%85%E1%85%B5%20%E1%84%80%E1%85%A9%E1%86%BC%E1%84%89%E1%85%B5%E1%86%A8(%E1%84%86%E1%85%AE%E1%86%AB%E1%84%8C%E1%85%A6).ipynb\" target=\"_parent\"><img src=\"https://colab.research.google.com/assets/colab-badge.svg\" alt=\"Open In Colab\"/></a>"
      ]
    },
    {
      "cell_type": "markdown",
      "metadata": {
        "id": "NqqLNJZjfi8U"
      },
      "source": [
        "# 주제 : 롤 좀 하니? '이것'만 하면 무조건 이긴다!<br> - 데이터로 알아보는 리그 오브 레전드의 승리 공식\n",
        "----------\n",
        "\n",
        "## 실습 가이드\n",
        "    1. 데이터를 다운로드하여 Colab에 불러옵니다.\n",
        "    2. 필요한 라이브러리는 모두 코드로 작성되어 있습니다.\n",
        "    3. 코드는 위에서부터 아래로 순서대로 실행합니다.\n",
        "    \n",
        "    \n",
        "## 데이터 소개\n",
        "    - 이번 주제는 League of Legends Diamond Ranked Games (10 min) 데이터셋을 사용합니다.\n",
        "    \n",
        "    - 다음 1개의 csv 파일을 사용합니다.\n",
        "    high_diamond_ranked_10min.csv\n",
        "    \n",
        "    - 각 파일의 컬럼은 아래와 같습니다.\n",
        "    gameId: 게임 판의 고유 ID\n",
        "    blueWins: 블루팀의 승리 여부 (0: 패배, 1: 승리)\n",
        "    xxxWardsPlaced: xxx팀에서 설치한 와드의 수 \n",
        "    xxxWardsDestroyed: xxx팀에서 파괴한 와드의 수\n",
        "    xxxFirstBlood: xxx팀의 첫번째 킬 달성 여부\n",
        "    xxxKills: xxx팀의 킬 수\n",
        "    xxxDeaths: xxx팀의 죽음 수\n",
        "    xxxAssists: xxx팀의 어시스트 수\n",
        "    xxxEliteMonsters: xxx팀이 죽인 엘리트 몬스터 수\n",
        "    xxxDragons: xxx팀이 죽인 용의 수\n",
        "    xxxHeralds: xxx팀이 죽인 전령의 수\n",
        "    xxxTowersDestroyed: xxx팀이 파괴한 탑의 수\n",
        "    xxxTotalGold: xxx팀의 전체 획득 골드\n",
        "    xxxAvgLevel: xxx팀의 평균 레벨\n",
        "    xxxTotalExperience: xxx팀의 총 경험치 획득량\n",
        "    xxxTotalMinionsKilled: xxx팀의 총 미니언 킬 수\n",
        "    xxxTotalJungleMinionsKilled: xxx팀의 총 정글 미니언 킬 수\n",
        "    xxxGoldDiff: xxx팀과 다른 팀 간의 골드 획득량 차이\n",
        "    xxxExperienceDiff: xxx팀과 다른 팀과의 경험치 획득량 차이\n",
        "    xxxCSPerMin: xxx팀의 분당 CS 스코어\n",
        "    xxxGoldPerMin: xxx팀의 분당 골드 획득량\n",
        "      \n",
        "    \n",
        "    \n",
        "- 데이터 출처: https://www.kaggle.com/bobbyscience/league-of-legends-diamond-ranked-games-10-min\n",
        "\n",
        "## 최종 목표\n",
        "    - 일상에서 볼 수 있는 데이터의 활용\n",
        "    - 데이터 시각화를 통한 인사이트 습득 방법의 이해\n",
        "    - Scikit-learn 기반의 모델 학습 방법 습득\n",
        "    - 학습된 모델로부터 인사이트 습득 방법 이해\n",
        "\n",
        "- 출제자 : 신제용 강사\n",
        "---"
      ]
    },
    {
      "cell_type": "markdown",
      "metadata": {
        "id": "ODJVmYvIP3x-"
      },
      "source": [
        "## Step 0. 리그 오브 레전드 데이터셋"
      ]
    },
    {
      "cell_type": "markdown",
      "metadata": {
        "id": "c0iKTnLNsraM"
      },
      "source": [
        "### E-스포츠와 리그 오브 레전드\n"
      ]
    },
    {
      "cell_type": "markdown",
      "metadata": {
        "id": "cxZwPnfms0-9"
      },
      "source": [
        "### 리그 오브 레전드 데이터셋에 관하여\n"
      ]
    },
    {
      "cell_type": "markdown",
      "metadata": {
        "id": "IRssoNrgP7So"
      },
      "source": [
        "## Step 1. 데이터셋 준비하기"
      ]
    },
    {
      "cell_type": "code",
      "metadata": {
        "id": "g49RuFGrBvt7"
      },
      "source": [
        "import pandas as pd\n",
        "import numpy as np\n",
        "import matplotlib.pyplot as plt\n",
        "import seaborn as sns"
      ],
      "execution_count": 6,
      "outputs": []
    },
    {
      "cell_type": "markdown",
      "metadata": {
        "id": "paInbv8Ys-Qy"
      },
      "source": [
        "### 문제 1. Colab Notebook에 Kaggle API 세팅하기\n"
      ]
    },
    {
      "cell_type": "code",
      "metadata": {
        "id": "RRXGYV60B7FX"
      },
      "source": [
        "import os"
      ],
      "execution_count": 2,
      "outputs": []
    },
    {
      "cell_type": "code",
      "metadata": {
        "id": "mMKFOC0OBtHO"
      },
      "source": [
        "# os.environ을 이용하여 Kaggle API Username, Key 세팅하기\n",
        "os.environ['KAGGLE_USERNAME']='duridudu'\n",
        "os.environ['KAGGLE_KEY']='3eddf9536202b01203d960b5d2bf7337'"
      ],
      "execution_count": 3,
      "outputs": []
    },
    {
      "cell_type": "markdown",
      "metadata": {
        "id": "zvbeoB_WtBi-"
      },
      "source": [
        "### 문제 2. 데이터 다운로드 및 압축 해제하기\n"
      ]
    },
    {
      "cell_type": "code",
      "metadata": {
        "id": "JSblp2NsCGbh",
        "colab": {
          "base_uri": "https://localhost:8080/"
        },
        "outputId": "b125816a-351c-4a5e-f80b-d52ded7b100a"
      },
      "source": [
        "# Linux 명령어로 Kaggle API를 이용하여 데이터셋 다운로드하기 (!kaggle ~)\n",
        "# Linux 명령어로 압축 해제하기\n",
        "!kaggle datasets download -d bobbyscience/league-of-legends-diamond-ranked-games-10-min\n",
        "!unzip '*.zip'"
      ],
      "execution_count": 4,
      "outputs": [
        {
          "output_type": "stream",
          "text": [
            "Downloading league-of-legends-diamond-ranked-games-10-min.zip to /content\n",
            "\r  0% 0.00/539k [00:00<?, ?B/s]\n",
            "\r100% 539k/539k [00:00<00:00, 34.3MB/s]\n",
            "Archive:  league-of-legends-diamond-ranked-games-10-min.zip\n",
            "  inflating: high_diamond_ranked_10min.csv  \n"
          ],
          "name": "stdout"
        }
      ]
    },
    {
      "cell_type": "markdown",
      "metadata": {
        "id": "aJ34SovLtFI8"
      },
      "source": [
        "### 문제 3. Pandas 라이브러리로 csv파일 읽어들이기\n"
      ]
    },
    {
      "cell_type": "code",
      "metadata": {
        "id": "RnJv-4YwCMSx",
        "colab": {
          "base_uri": "https://localhost:8080/",
          "height": 224
        },
        "outputId": "4fa74b8e-7ae0-4038-e439-bda835c6c6e3"
      },
      "source": [
        "# pd.read_csv()로 csv파일 읽어들이기\n",
        "df = pd.read_csv('high_diamond_ranked_10min.csv')\n",
        "df.head()"
      ],
      "execution_count": 8,
      "outputs": [
        {
          "output_type": "execute_result",
          "data": {
            "text/html": [
              "<div>\n",
              "<style scoped>\n",
              "    .dataframe tbody tr th:only-of-type {\n",
              "        vertical-align: middle;\n",
              "    }\n",
              "\n",
              "    .dataframe tbody tr th {\n",
              "        vertical-align: top;\n",
              "    }\n",
              "\n",
              "    .dataframe thead th {\n",
              "        text-align: right;\n",
              "    }\n",
              "</style>\n",
              "<table border=\"1\" class=\"dataframe\">\n",
              "  <thead>\n",
              "    <tr style=\"text-align: right;\">\n",
              "      <th></th>\n",
              "      <th>gameId</th>\n",
              "      <th>blueWins</th>\n",
              "      <th>blueWardsPlaced</th>\n",
              "      <th>blueWardsDestroyed</th>\n",
              "      <th>blueFirstBlood</th>\n",
              "      <th>blueKills</th>\n",
              "      <th>blueDeaths</th>\n",
              "      <th>blueAssists</th>\n",
              "      <th>blueEliteMonsters</th>\n",
              "      <th>blueDragons</th>\n",
              "      <th>blueHeralds</th>\n",
              "      <th>blueTowersDestroyed</th>\n",
              "      <th>blueTotalGold</th>\n",
              "      <th>blueAvgLevel</th>\n",
              "      <th>blueTotalExperience</th>\n",
              "      <th>blueTotalMinionsKilled</th>\n",
              "      <th>blueTotalJungleMinionsKilled</th>\n",
              "      <th>blueGoldDiff</th>\n",
              "      <th>blueExperienceDiff</th>\n",
              "      <th>blueCSPerMin</th>\n",
              "      <th>blueGoldPerMin</th>\n",
              "      <th>redWardsPlaced</th>\n",
              "      <th>redWardsDestroyed</th>\n",
              "      <th>redFirstBlood</th>\n",
              "      <th>redKills</th>\n",
              "      <th>redDeaths</th>\n",
              "      <th>redAssists</th>\n",
              "      <th>redEliteMonsters</th>\n",
              "      <th>redDragons</th>\n",
              "      <th>redHeralds</th>\n",
              "      <th>redTowersDestroyed</th>\n",
              "      <th>redTotalGold</th>\n",
              "      <th>redAvgLevel</th>\n",
              "      <th>redTotalExperience</th>\n",
              "      <th>redTotalMinionsKilled</th>\n",
              "      <th>redTotalJungleMinionsKilled</th>\n",
              "      <th>redGoldDiff</th>\n",
              "      <th>redExperienceDiff</th>\n",
              "      <th>redCSPerMin</th>\n",
              "      <th>redGoldPerMin</th>\n",
              "    </tr>\n",
              "  </thead>\n",
              "  <tbody>\n",
              "    <tr>\n",
              "      <th>0</th>\n",
              "      <td>4519157822</td>\n",
              "      <td>0</td>\n",
              "      <td>28</td>\n",
              "      <td>2</td>\n",
              "      <td>1</td>\n",
              "      <td>9</td>\n",
              "      <td>6</td>\n",
              "      <td>11</td>\n",
              "      <td>0</td>\n",
              "      <td>0</td>\n",
              "      <td>0</td>\n",
              "      <td>0</td>\n",
              "      <td>17210</td>\n",
              "      <td>6.6</td>\n",
              "      <td>17039</td>\n",
              "      <td>195</td>\n",
              "      <td>36</td>\n",
              "      <td>643</td>\n",
              "      <td>-8</td>\n",
              "      <td>19.5</td>\n",
              "      <td>1721.0</td>\n",
              "      <td>15</td>\n",
              "      <td>6</td>\n",
              "      <td>0</td>\n",
              "      <td>6</td>\n",
              "      <td>9</td>\n",
              "      <td>8</td>\n",
              "      <td>0</td>\n",
              "      <td>0</td>\n",
              "      <td>0</td>\n",
              "      <td>0</td>\n",
              "      <td>16567</td>\n",
              "      <td>6.8</td>\n",
              "      <td>17047</td>\n",
              "      <td>197</td>\n",
              "      <td>55</td>\n",
              "      <td>-643</td>\n",
              "      <td>8</td>\n",
              "      <td>19.7</td>\n",
              "      <td>1656.7</td>\n",
              "    </tr>\n",
              "    <tr>\n",
              "      <th>1</th>\n",
              "      <td>4523371949</td>\n",
              "      <td>0</td>\n",
              "      <td>12</td>\n",
              "      <td>1</td>\n",
              "      <td>0</td>\n",
              "      <td>5</td>\n",
              "      <td>5</td>\n",
              "      <td>5</td>\n",
              "      <td>0</td>\n",
              "      <td>0</td>\n",
              "      <td>0</td>\n",
              "      <td>0</td>\n",
              "      <td>14712</td>\n",
              "      <td>6.6</td>\n",
              "      <td>16265</td>\n",
              "      <td>174</td>\n",
              "      <td>43</td>\n",
              "      <td>-2908</td>\n",
              "      <td>-1173</td>\n",
              "      <td>17.4</td>\n",
              "      <td>1471.2</td>\n",
              "      <td>12</td>\n",
              "      <td>1</td>\n",
              "      <td>1</td>\n",
              "      <td>5</td>\n",
              "      <td>5</td>\n",
              "      <td>2</td>\n",
              "      <td>2</td>\n",
              "      <td>1</td>\n",
              "      <td>1</td>\n",
              "      <td>1</td>\n",
              "      <td>17620</td>\n",
              "      <td>6.8</td>\n",
              "      <td>17438</td>\n",
              "      <td>240</td>\n",
              "      <td>52</td>\n",
              "      <td>2908</td>\n",
              "      <td>1173</td>\n",
              "      <td>24.0</td>\n",
              "      <td>1762.0</td>\n",
              "    </tr>\n",
              "    <tr>\n",
              "      <th>2</th>\n",
              "      <td>4521474530</td>\n",
              "      <td>0</td>\n",
              "      <td>15</td>\n",
              "      <td>0</td>\n",
              "      <td>0</td>\n",
              "      <td>7</td>\n",
              "      <td>11</td>\n",
              "      <td>4</td>\n",
              "      <td>1</td>\n",
              "      <td>1</td>\n",
              "      <td>0</td>\n",
              "      <td>0</td>\n",
              "      <td>16113</td>\n",
              "      <td>6.4</td>\n",
              "      <td>16221</td>\n",
              "      <td>186</td>\n",
              "      <td>46</td>\n",
              "      <td>-1172</td>\n",
              "      <td>-1033</td>\n",
              "      <td>18.6</td>\n",
              "      <td>1611.3</td>\n",
              "      <td>15</td>\n",
              "      <td>3</td>\n",
              "      <td>1</td>\n",
              "      <td>11</td>\n",
              "      <td>7</td>\n",
              "      <td>14</td>\n",
              "      <td>0</td>\n",
              "      <td>0</td>\n",
              "      <td>0</td>\n",
              "      <td>0</td>\n",
              "      <td>17285</td>\n",
              "      <td>6.8</td>\n",
              "      <td>17254</td>\n",
              "      <td>203</td>\n",
              "      <td>28</td>\n",
              "      <td>1172</td>\n",
              "      <td>1033</td>\n",
              "      <td>20.3</td>\n",
              "      <td>1728.5</td>\n",
              "    </tr>\n",
              "    <tr>\n",
              "      <th>3</th>\n",
              "      <td>4524384067</td>\n",
              "      <td>0</td>\n",
              "      <td>43</td>\n",
              "      <td>1</td>\n",
              "      <td>0</td>\n",
              "      <td>4</td>\n",
              "      <td>5</td>\n",
              "      <td>5</td>\n",
              "      <td>1</td>\n",
              "      <td>0</td>\n",
              "      <td>1</td>\n",
              "      <td>0</td>\n",
              "      <td>15157</td>\n",
              "      <td>7.0</td>\n",
              "      <td>17954</td>\n",
              "      <td>201</td>\n",
              "      <td>55</td>\n",
              "      <td>-1321</td>\n",
              "      <td>-7</td>\n",
              "      <td>20.1</td>\n",
              "      <td>1515.7</td>\n",
              "      <td>15</td>\n",
              "      <td>2</td>\n",
              "      <td>1</td>\n",
              "      <td>5</td>\n",
              "      <td>4</td>\n",
              "      <td>10</td>\n",
              "      <td>0</td>\n",
              "      <td>0</td>\n",
              "      <td>0</td>\n",
              "      <td>0</td>\n",
              "      <td>16478</td>\n",
              "      <td>7.0</td>\n",
              "      <td>17961</td>\n",
              "      <td>235</td>\n",
              "      <td>47</td>\n",
              "      <td>1321</td>\n",
              "      <td>7</td>\n",
              "      <td>23.5</td>\n",
              "      <td>1647.8</td>\n",
              "    </tr>\n",
              "    <tr>\n",
              "      <th>4</th>\n",
              "      <td>4436033771</td>\n",
              "      <td>0</td>\n",
              "      <td>75</td>\n",
              "      <td>4</td>\n",
              "      <td>0</td>\n",
              "      <td>6</td>\n",
              "      <td>6</td>\n",
              "      <td>6</td>\n",
              "      <td>0</td>\n",
              "      <td>0</td>\n",
              "      <td>0</td>\n",
              "      <td>0</td>\n",
              "      <td>16400</td>\n",
              "      <td>7.0</td>\n",
              "      <td>18543</td>\n",
              "      <td>210</td>\n",
              "      <td>57</td>\n",
              "      <td>-1004</td>\n",
              "      <td>230</td>\n",
              "      <td>21.0</td>\n",
              "      <td>1640.0</td>\n",
              "      <td>17</td>\n",
              "      <td>2</td>\n",
              "      <td>1</td>\n",
              "      <td>6</td>\n",
              "      <td>6</td>\n",
              "      <td>7</td>\n",
              "      <td>1</td>\n",
              "      <td>1</td>\n",
              "      <td>0</td>\n",
              "      <td>0</td>\n",
              "      <td>17404</td>\n",
              "      <td>7.0</td>\n",
              "      <td>18313</td>\n",
              "      <td>225</td>\n",
              "      <td>67</td>\n",
              "      <td>1004</td>\n",
              "      <td>-230</td>\n",
              "      <td>22.5</td>\n",
              "      <td>1740.4</td>\n",
              "    </tr>\n",
              "  </tbody>\n",
              "</table>\n",
              "</div>"
            ],
            "text/plain": [
              "       gameId  blueWins  ...  redCSPerMin  redGoldPerMin\n",
              "0  4519157822         0  ...         19.7         1656.7\n",
              "1  4523371949         0  ...         24.0         1762.0\n",
              "2  4521474530         0  ...         20.3         1728.5\n",
              "3  4524384067         0  ...         23.5         1647.8\n",
              "4  4436033771         0  ...         22.5         1740.4\n",
              "\n",
              "[5 rows x 40 columns]"
            ]
          },
          "metadata": {},
          "execution_count": 8
        }
      ]
    },
    {
      "cell_type": "markdown",
      "metadata": {
        "id": "9L3BNVM7tHN5"
      },
      "source": [
        "## Step 2. EDA 및 데이터 기초 통계 분석\n"
      ]
    },
    {
      "cell_type": "markdown",
      "metadata": {
        "id": "HyFm33tNtVn7"
      },
      "source": [
        "### 문제 4. 데이터프레임의 각 컬럼 분석하기\n"
      ]
    },
    {
      "cell_type": "code",
      "metadata": {
        "id": "YcR9BX23DIFW",
        "colab": {
          "base_uri": "https://localhost:8080/",
          "height": 317
        },
        "outputId": "738a25fc-6117-4ddb-a80a-eab936e221b4"
      },
      "source": [
        "# DataFrame에서 제공하는 메소드를 이용하여 컬럼 분석하기 (head(), info(), describe())\n",
        "df.head()\n",
        "df.describe()"
      ],
      "execution_count": 11,
      "outputs": [
        {
          "output_type": "execute_result",
          "data": {
            "text/html": [
              "<div>\n",
              "<style scoped>\n",
              "    .dataframe tbody tr th:only-of-type {\n",
              "        vertical-align: middle;\n",
              "    }\n",
              "\n",
              "    .dataframe tbody tr th {\n",
              "        vertical-align: top;\n",
              "    }\n",
              "\n",
              "    .dataframe thead th {\n",
              "        text-align: right;\n",
              "    }\n",
              "</style>\n",
              "<table border=\"1\" class=\"dataframe\">\n",
              "  <thead>\n",
              "    <tr style=\"text-align: right;\">\n",
              "      <th></th>\n",
              "      <th>gameId</th>\n",
              "      <th>blueWins</th>\n",
              "      <th>blueWardsPlaced</th>\n",
              "      <th>blueWardsDestroyed</th>\n",
              "      <th>blueFirstBlood</th>\n",
              "      <th>blueKills</th>\n",
              "      <th>blueDeaths</th>\n",
              "      <th>blueAssists</th>\n",
              "      <th>blueEliteMonsters</th>\n",
              "      <th>blueDragons</th>\n",
              "      <th>blueHeralds</th>\n",
              "      <th>blueTowersDestroyed</th>\n",
              "      <th>blueTotalGold</th>\n",
              "      <th>blueAvgLevel</th>\n",
              "      <th>blueTotalExperience</th>\n",
              "      <th>blueTotalMinionsKilled</th>\n",
              "      <th>blueTotalJungleMinionsKilled</th>\n",
              "      <th>blueGoldDiff</th>\n",
              "      <th>blueExperienceDiff</th>\n",
              "      <th>blueCSPerMin</th>\n",
              "      <th>blueGoldPerMin</th>\n",
              "      <th>redWardsPlaced</th>\n",
              "      <th>redWardsDestroyed</th>\n",
              "      <th>redFirstBlood</th>\n",
              "      <th>redKills</th>\n",
              "      <th>redDeaths</th>\n",
              "      <th>redAssists</th>\n",
              "      <th>redEliteMonsters</th>\n",
              "      <th>redDragons</th>\n",
              "      <th>redHeralds</th>\n",
              "      <th>redTowersDestroyed</th>\n",
              "      <th>redTotalGold</th>\n",
              "      <th>redAvgLevel</th>\n",
              "      <th>redTotalExperience</th>\n",
              "      <th>redTotalMinionsKilled</th>\n",
              "      <th>redTotalJungleMinionsKilled</th>\n",
              "      <th>redGoldDiff</th>\n",
              "      <th>redExperienceDiff</th>\n",
              "      <th>redCSPerMin</th>\n",
              "      <th>redGoldPerMin</th>\n",
              "    </tr>\n",
              "  </thead>\n",
              "  <tbody>\n",
              "    <tr>\n",
              "      <th>count</th>\n",
              "      <td>9.879000e+03</td>\n",
              "      <td>9879.000000</td>\n",
              "      <td>9879.000000</td>\n",
              "      <td>9879.000000</td>\n",
              "      <td>9879.000000</td>\n",
              "      <td>9879.000000</td>\n",
              "      <td>9879.000000</td>\n",
              "      <td>9879.000000</td>\n",
              "      <td>9879.000000</td>\n",
              "      <td>9879.000000</td>\n",
              "      <td>9879.000000</td>\n",
              "      <td>9879.000000</td>\n",
              "      <td>9879.000000</td>\n",
              "      <td>9879.000000</td>\n",
              "      <td>9879.000000</td>\n",
              "      <td>9879.000000</td>\n",
              "      <td>9879.000000</td>\n",
              "      <td>9879.000000</td>\n",
              "      <td>9879.000000</td>\n",
              "      <td>9879.000000</td>\n",
              "      <td>9879.000000</td>\n",
              "      <td>9879.000000</td>\n",
              "      <td>9879.000000</td>\n",
              "      <td>9879.000000</td>\n",
              "      <td>9879.000000</td>\n",
              "      <td>9879.000000</td>\n",
              "      <td>9879.000000</td>\n",
              "      <td>9879.000000</td>\n",
              "      <td>9879.000000</td>\n",
              "      <td>9879.000000</td>\n",
              "      <td>9879.000000</td>\n",
              "      <td>9879.000000</td>\n",
              "      <td>9879.000000</td>\n",
              "      <td>9879.000000</td>\n",
              "      <td>9879.000000</td>\n",
              "      <td>9879.000000</td>\n",
              "      <td>9879.000000</td>\n",
              "      <td>9879.000000</td>\n",
              "      <td>9879.000000</td>\n",
              "      <td>9879.000000</td>\n",
              "    </tr>\n",
              "    <tr>\n",
              "      <th>mean</th>\n",
              "      <td>4.500084e+09</td>\n",
              "      <td>0.499038</td>\n",
              "      <td>22.288288</td>\n",
              "      <td>2.824881</td>\n",
              "      <td>0.504808</td>\n",
              "      <td>6.183925</td>\n",
              "      <td>6.137666</td>\n",
              "      <td>6.645106</td>\n",
              "      <td>0.549954</td>\n",
              "      <td>0.361980</td>\n",
              "      <td>0.187974</td>\n",
              "      <td>0.051422</td>\n",
              "      <td>16503.455512</td>\n",
              "      <td>6.916004</td>\n",
              "      <td>17928.110133</td>\n",
              "      <td>216.699565</td>\n",
              "      <td>50.509667</td>\n",
              "      <td>14.414111</td>\n",
              "      <td>-33.620306</td>\n",
              "      <td>21.669956</td>\n",
              "      <td>1650.345551</td>\n",
              "      <td>22.367952</td>\n",
              "      <td>2.723150</td>\n",
              "      <td>0.495192</td>\n",
              "      <td>6.137666</td>\n",
              "      <td>6.183925</td>\n",
              "      <td>6.662112</td>\n",
              "      <td>0.573135</td>\n",
              "      <td>0.413098</td>\n",
              "      <td>0.160036</td>\n",
              "      <td>0.043021</td>\n",
              "      <td>16489.041401</td>\n",
              "      <td>6.925316</td>\n",
              "      <td>17961.730438</td>\n",
              "      <td>217.349226</td>\n",
              "      <td>51.313088</td>\n",
              "      <td>-14.414111</td>\n",
              "      <td>33.620306</td>\n",
              "      <td>21.734923</td>\n",
              "      <td>1648.904140</td>\n",
              "    </tr>\n",
              "    <tr>\n",
              "      <th>std</th>\n",
              "      <td>2.757328e+07</td>\n",
              "      <td>0.500024</td>\n",
              "      <td>18.019177</td>\n",
              "      <td>2.174998</td>\n",
              "      <td>0.500002</td>\n",
              "      <td>3.011028</td>\n",
              "      <td>2.933818</td>\n",
              "      <td>4.064520</td>\n",
              "      <td>0.625527</td>\n",
              "      <td>0.480597</td>\n",
              "      <td>0.390712</td>\n",
              "      <td>0.244369</td>\n",
              "      <td>1535.446636</td>\n",
              "      <td>0.305146</td>\n",
              "      <td>1200.523764</td>\n",
              "      <td>21.858437</td>\n",
              "      <td>9.898282</td>\n",
              "      <td>2453.349179</td>\n",
              "      <td>1920.370438</td>\n",
              "      <td>2.185844</td>\n",
              "      <td>153.544664</td>\n",
              "      <td>18.457427</td>\n",
              "      <td>2.138356</td>\n",
              "      <td>0.500002</td>\n",
              "      <td>2.933818</td>\n",
              "      <td>3.011028</td>\n",
              "      <td>4.060612</td>\n",
              "      <td>0.626482</td>\n",
              "      <td>0.492415</td>\n",
              "      <td>0.366658</td>\n",
              "      <td>0.216900</td>\n",
              "      <td>1490.888406</td>\n",
              "      <td>0.305311</td>\n",
              "      <td>1198.583912</td>\n",
              "      <td>21.911668</td>\n",
              "      <td>10.027885</td>\n",
              "      <td>2453.349179</td>\n",
              "      <td>1920.370438</td>\n",
              "      <td>2.191167</td>\n",
              "      <td>149.088841</td>\n",
              "    </tr>\n",
              "    <tr>\n",
              "      <th>min</th>\n",
              "      <td>4.295358e+09</td>\n",
              "      <td>0.000000</td>\n",
              "      <td>5.000000</td>\n",
              "      <td>0.000000</td>\n",
              "      <td>0.000000</td>\n",
              "      <td>0.000000</td>\n",
              "      <td>0.000000</td>\n",
              "      <td>0.000000</td>\n",
              "      <td>0.000000</td>\n",
              "      <td>0.000000</td>\n",
              "      <td>0.000000</td>\n",
              "      <td>0.000000</td>\n",
              "      <td>10730.000000</td>\n",
              "      <td>4.600000</td>\n",
              "      <td>10098.000000</td>\n",
              "      <td>90.000000</td>\n",
              "      <td>0.000000</td>\n",
              "      <td>-10830.000000</td>\n",
              "      <td>-9333.000000</td>\n",
              "      <td>9.000000</td>\n",
              "      <td>1073.000000</td>\n",
              "      <td>6.000000</td>\n",
              "      <td>0.000000</td>\n",
              "      <td>0.000000</td>\n",
              "      <td>0.000000</td>\n",
              "      <td>0.000000</td>\n",
              "      <td>0.000000</td>\n",
              "      <td>0.000000</td>\n",
              "      <td>0.000000</td>\n",
              "      <td>0.000000</td>\n",
              "      <td>0.000000</td>\n",
              "      <td>11212.000000</td>\n",
              "      <td>4.800000</td>\n",
              "      <td>10465.000000</td>\n",
              "      <td>107.000000</td>\n",
              "      <td>4.000000</td>\n",
              "      <td>-11467.000000</td>\n",
              "      <td>-8348.000000</td>\n",
              "      <td>10.700000</td>\n",
              "      <td>1121.200000</td>\n",
              "    </tr>\n",
              "    <tr>\n",
              "      <th>25%</th>\n",
              "      <td>4.483301e+09</td>\n",
              "      <td>0.000000</td>\n",
              "      <td>14.000000</td>\n",
              "      <td>1.000000</td>\n",
              "      <td>0.000000</td>\n",
              "      <td>4.000000</td>\n",
              "      <td>4.000000</td>\n",
              "      <td>4.000000</td>\n",
              "      <td>0.000000</td>\n",
              "      <td>0.000000</td>\n",
              "      <td>0.000000</td>\n",
              "      <td>0.000000</td>\n",
              "      <td>15415.500000</td>\n",
              "      <td>6.800000</td>\n",
              "      <td>17168.000000</td>\n",
              "      <td>202.000000</td>\n",
              "      <td>44.000000</td>\n",
              "      <td>-1585.500000</td>\n",
              "      <td>-1290.500000</td>\n",
              "      <td>20.200000</td>\n",
              "      <td>1541.550000</td>\n",
              "      <td>14.000000</td>\n",
              "      <td>1.000000</td>\n",
              "      <td>0.000000</td>\n",
              "      <td>4.000000</td>\n",
              "      <td>4.000000</td>\n",
              "      <td>4.000000</td>\n",
              "      <td>0.000000</td>\n",
              "      <td>0.000000</td>\n",
              "      <td>0.000000</td>\n",
              "      <td>0.000000</td>\n",
              "      <td>15427.500000</td>\n",
              "      <td>6.800000</td>\n",
              "      <td>17209.500000</td>\n",
              "      <td>203.000000</td>\n",
              "      <td>44.000000</td>\n",
              "      <td>-1596.000000</td>\n",
              "      <td>-1212.000000</td>\n",
              "      <td>20.300000</td>\n",
              "      <td>1542.750000</td>\n",
              "    </tr>\n",
              "    <tr>\n",
              "      <th>50%</th>\n",
              "      <td>4.510920e+09</td>\n",
              "      <td>0.000000</td>\n",
              "      <td>16.000000</td>\n",
              "      <td>3.000000</td>\n",
              "      <td>1.000000</td>\n",
              "      <td>6.000000</td>\n",
              "      <td>6.000000</td>\n",
              "      <td>6.000000</td>\n",
              "      <td>0.000000</td>\n",
              "      <td>0.000000</td>\n",
              "      <td>0.000000</td>\n",
              "      <td>0.000000</td>\n",
              "      <td>16398.000000</td>\n",
              "      <td>7.000000</td>\n",
              "      <td>17951.000000</td>\n",
              "      <td>218.000000</td>\n",
              "      <td>50.000000</td>\n",
              "      <td>14.000000</td>\n",
              "      <td>-28.000000</td>\n",
              "      <td>21.800000</td>\n",
              "      <td>1639.800000</td>\n",
              "      <td>16.000000</td>\n",
              "      <td>2.000000</td>\n",
              "      <td>0.000000</td>\n",
              "      <td>6.000000</td>\n",
              "      <td>6.000000</td>\n",
              "      <td>6.000000</td>\n",
              "      <td>0.000000</td>\n",
              "      <td>0.000000</td>\n",
              "      <td>0.000000</td>\n",
              "      <td>0.000000</td>\n",
              "      <td>16378.000000</td>\n",
              "      <td>7.000000</td>\n",
              "      <td>17974.000000</td>\n",
              "      <td>218.000000</td>\n",
              "      <td>51.000000</td>\n",
              "      <td>-14.000000</td>\n",
              "      <td>28.000000</td>\n",
              "      <td>21.800000</td>\n",
              "      <td>1637.800000</td>\n",
              "    </tr>\n",
              "    <tr>\n",
              "      <th>75%</th>\n",
              "      <td>4.521733e+09</td>\n",
              "      <td>1.000000</td>\n",
              "      <td>20.000000</td>\n",
              "      <td>4.000000</td>\n",
              "      <td>1.000000</td>\n",
              "      <td>8.000000</td>\n",
              "      <td>8.000000</td>\n",
              "      <td>9.000000</td>\n",
              "      <td>1.000000</td>\n",
              "      <td>1.000000</td>\n",
              "      <td>0.000000</td>\n",
              "      <td>0.000000</td>\n",
              "      <td>17459.000000</td>\n",
              "      <td>7.200000</td>\n",
              "      <td>18724.000000</td>\n",
              "      <td>232.000000</td>\n",
              "      <td>56.000000</td>\n",
              "      <td>1596.000000</td>\n",
              "      <td>1212.000000</td>\n",
              "      <td>23.200000</td>\n",
              "      <td>1745.900000</td>\n",
              "      <td>20.000000</td>\n",
              "      <td>4.000000</td>\n",
              "      <td>1.000000</td>\n",
              "      <td>8.000000</td>\n",
              "      <td>8.000000</td>\n",
              "      <td>9.000000</td>\n",
              "      <td>1.000000</td>\n",
              "      <td>1.000000</td>\n",
              "      <td>0.000000</td>\n",
              "      <td>0.000000</td>\n",
              "      <td>17418.500000</td>\n",
              "      <td>7.200000</td>\n",
              "      <td>18764.500000</td>\n",
              "      <td>233.000000</td>\n",
              "      <td>57.000000</td>\n",
              "      <td>1585.500000</td>\n",
              "      <td>1290.500000</td>\n",
              "      <td>23.300000</td>\n",
              "      <td>1741.850000</td>\n",
              "    </tr>\n",
              "    <tr>\n",
              "      <th>max</th>\n",
              "      <td>4.527991e+09</td>\n",
              "      <td>1.000000</td>\n",
              "      <td>250.000000</td>\n",
              "      <td>27.000000</td>\n",
              "      <td>1.000000</td>\n",
              "      <td>22.000000</td>\n",
              "      <td>22.000000</td>\n",
              "      <td>29.000000</td>\n",
              "      <td>2.000000</td>\n",
              "      <td>1.000000</td>\n",
              "      <td>1.000000</td>\n",
              "      <td>4.000000</td>\n",
              "      <td>23701.000000</td>\n",
              "      <td>8.000000</td>\n",
              "      <td>22224.000000</td>\n",
              "      <td>283.000000</td>\n",
              "      <td>92.000000</td>\n",
              "      <td>11467.000000</td>\n",
              "      <td>8348.000000</td>\n",
              "      <td>28.300000</td>\n",
              "      <td>2370.100000</td>\n",
              "      <td>276.000000</td>\n",
              "      <td>24.000000</td>\n",
              "      <td>1.000000</td>\n",
              "      <td>22.000000</td>\n",
              "      <td>22.000000</td>\n",
              "      <td>28.000000</td>\n",
              "      <td>2.000000</td>\n",
              "      <td>1.000000</td>\n",
              "      <td>1.000000</td>\n",
              "      <td>2.000000</td>\n",
              "      <td>22732.000000</td>\n",
              "      <td>8.200000</td>\n",
              "      <td>22269.000000</td>\n",
              "      <td>289.000000</td>\n",
              "      <td>92.000000</td>\n",
              "      <td>10830.000000</td>\n",
              "      <td>9333.000000</td>\n",
              "      <td>28.900000</td>\n",
              "      <td>2273.200000</td>\n",
              "    </tr>\n",
              "  </tbody>\n",
              "</table>\n",
              "</div>"
            ],
            "text/plain": [
              "             gameId     blueWins  ...  redCSPerMin  redGoldPerMin\n",
              "count  9.879000e+03  9879.000000  ...  9879.000000    9879.000000\n",
              "mean   4.500084e+09     0.499038  ...    21.734923    1648.904140\n",
              "std    2.757328e+07     0.500024  ...     2.191167     149.088841\n",
              "min    4.295358e+09     0.000000  ...    10.700000    1121.200000\n",
              "25%    4.483301e+09     0.000000  ...    20.300000    1542.750000\n",
              "50%    4.510920e+09     0.000000  ...    21.800000    1637.800000\n",
              "75%    4.521733e+09     1.000000  ...    23.300000    1741.850000\n",
              "max    4.527991e+09     1.000000  ...    28.900000    2273.200000\n",
              "\n",
              "[8 rows x 40 columns]"
            ]
          },
          "metadata": {},
          "execution_count": 11
        }
      ]
    },
    {
      "cell_type": "code",
      "metadata": {
        "colab": {
          "base_uri": "https://localhost:8080/",
          "height": 439
        },
        "id": "5yMaHOkSTGNP",
        "outputId": "07ef98c8-4649-438d-8877-76f58cda2111"
      },
      "source": [
        "df\n"
      ],
      "execution_count": 16,
      "outputs": [
        {
          "output_type": "execute_result",
          "data": {
            "text/html": [
              "<div>\n",
              "<style scoped>\n",
              "    .dataframe tbody tr th:only-of-type {\n",
              "        vertical-align: middle;\n",
              "    }\n",
              "\n",
              "    .dataframe tbody tr th {\n",
              "        vertical-align: top;\n",
              "    }\n",
              "\n",
              "    .dataframe thead th {\n",
              "        text-align: right;\n",
              "    }\n",
              "</style>\n",
              "<table border=\"1\" class=\"dataframe\">\n",
              "  <thead>\n",
              "    <tr style=\"text-align: right;\">\n",
              "      <th></th>\n",
              "      <th>gameId</th>\n",
              "      <th>blueWins</th>\n",
              "      <th>blueWardsPlaced</th>\n",
              "      <th>blueWardsDestroyed</th>\n",
              "      <th>blueFirstBlood</th>\n",
              "      <th>blueKills</th>\n",
              "      <th>blueDeaths</th>\n",
              "      <th>blueAssists</th>\n",
              "      <th>blueEliteMonsters</th>\n",
              "      <th>blueDragons</th>\n",
              "      <th>blueHeralds</th>\n",
              "      <th>blueTowersDestroyed</th>\n",
              "      <th>blueTotalGold</th>\n",
              "      <th>blueAvgLevel</th>\n",
              "      <th>blueTotalExperience</th>\n",
              "      <th>blueTotalMinionsKilled</th>\n",
              "      <th>blueTotalJungleMinionsKilled</th>\n",
              "      <th>blueGoldDiff</th>\n",
              "      <th>blueExperienceDiff</th>\n",
              "      <th>blueCSPerMin</th>\n",
              "      <th>blueGoldPerMin</th>\n",
              "      <th>redWardsPlaced</th>\n",
              "      <th>redWardsDestroyed</th>\n",
              "      <th>redFirstBlood</th>\n",
              "      <th>redKills</th>\n",
              "      <th>redDeaths</th>\n",
              "      <th>redAssists</th>\n",
              "      <th>redEliteMonsters</th>\n",
              "      <th>redDragons</th>\n",
              "      <th>redHeralds</th>\n",
              "      <th>redTowersDestroyed</th>\n",
              "      <th>redTotalGold</th>\n",
              "      <th>redAvgLevel</th>\n",
              "      <th>redTotalExperience</th>\n",
              "      <th>redTotalMinionsKilled</th>\n",
              "      <th>redTotalJungleMinionsKilled</th>\n",
              "      <th>redGoldDiff</th>\n",
              "      <th>redExperienceDiff</th>\n",
              "      <th>redCSPerMin</th>\n",
              "      <th>redGoldPerMin</th>\n",
              "    </tr>\n",
              "  </thead>\n",
              "  <tbody>\n",
              "    <tr>\n",
              "      <th>0</th>\n",
              "      <td>4519157822</td>\n",
              "      <td>0</td>\n",
              "      <td>28</td>\n",
              "      <td>2</td>\n",
              "      <td>1</td>\n",
              "      <td>9</td>\n",
              "      <td>6</td>\n",
              "      <td>11</td>\n",
              "      <td>0</td>\n",
              "      <td>0</td>\n",
              "      <td>0</td>\n",
              "      <td>0</td>\n",
              "      <td>17210</td>\n",
              "      <td>6.6</td>\n",
              "      <td>17039</td>\n",
              "      <td>195</td>\n",
              "      <td>36</td>\n",
              "      <td>643</td>\n",
              "      <td>-8</td>\n",
              "      <td>19.5</td>\n",
              "      <td>1721.0</td>\n",
              "      <td>15</td>\n",
              "      <td>6</td>\n",
              "      <td>0</td>\n",
              "      <td>6</td>\n",
              "      <td>9</td>\n",
              "      <td>8</td>\n",
              "      <td>0</td>\n",
              "      <td>0</td>\n",
              "      <td>0</td>\n",
              "      <td>0</td>\n",
              "      <td>16567</td>\n",
              "      <td>6.8</td>\n",
              "      <td>17047</td>\n",
              "      <td>197</td>\n",
              "      <td>55</td>\n",
              "      <td>-643</td>\n",
              "      <td>8</td>\n",
              "      <td>19.7</td>\n",
              "      <td>1656.7</td>\n",
              "    </tr>\n",
              "    <tr>\n",
              "      <th>1</th>\n",
              "      <td>4523371949</td>\n",
              "      <td>0</td>\n",
              "      <td>12</td>\n",
              "      <td>1</td>\n",
              "      <td>0</td>\n",
              "      <td>5</td>\n",
              "      <td>5</td>\n",
              "      <td>5</td>\n",
              "      <td>0</td>\n",
              "      <td>0</td>\n",
              "      <td>0</td>\n",
              "      <td>0</td>\n",
              "      <td>14712</td>\n",
              "      <td>6.6</td>\n",
              "      <td>16265</td>\n",
              "      <td>174</td>\n",
              "      <td>43</td>\n",
              "      <td>-2908</td>\n",
              "      <td>-1173</td>\n",
              "      <td>17.4</td>\n",
              "      <td>1471.2</td>\n",
              "      <td>12</td>\n",
              "      <td>1</td>\n",
              "      <td>1</td>\n",
              "      <td>5</td>\n",
              "      <td>5</td>\n",
              "      <td>2</td>\n",
              "      <td>2</td>\n",
              "      <td>1</td>\n",
              "      <td>1</td>\n",
              "      <td>1</td>\n",
              "      <td>17620</td>\n",
              "      <td>6.8</td>\n",
              "      <td>17438</td>\n",
              "      <td>240</td>\n",
              "      <td>52</td>\n",
              "      <td>2908</td>\n",
              "      <td>1173</td>\n",
              "      <td>24.0</td>\n",
              "      <td>1762.0</td>\n",
              "    </tr>\n",
              "    <tr>\n",
              "      <th>2</th>\n",
              "      <td>4521474530</td>\n",
              "      <td>0</td>\n",
              "      <td>15</td>\n",
              "      <td>0</td>\n",
              "      <td>0</td>\n",
              "      <td>7</td>\n",
              "      <td>11</td>\n",
              "      <td>4</td>\n",
              "      <td>1</td>\n",
              "      <td>1</td>\n",
              "      <td>0</td>\n",
              "      <td>0</td>\n",
              "      <td>16113</td>\n",
              "      <td>6.4</td>\n",
              "      <td>16221</td>\n",
              "      <td>186</td>\n",
              "      <td>46</td>\n",
              "      <td>-1172</td>\n",
              "      <td>-1033</td>\n",
              "      <td>18.6</td>\n",
              "      <td>1611.3</td>\n",
              "      <td>15</td>\n",
              "      <td>3</td>\n",
              "      <td>1</td>\n",
              "      <td>11</td>\n",
              "      <td>7</td>\n",
              "      <td>14</td>\n",
              "      <td>0</td>\n",
              "      <td>0</td>\n",
              "      <td>0</td>\n",
              "      <td>0</td>\n",
              "      <td>17285</td>\n",
              "      <td>6.8</td>\n",
              "      <td>17254</td>\n",
              "      <td>203</td>\n",
              "      <td>28</td>\n",
              "      <td>1172</td>\n",
              "      <td>1033</td>\n",
              "      <td>20.3</td>\n",
              "      <td>1728.5</td>\n",
              "    </tr>\n",
              "    <tr>\n",
              "      <th>3</th>\n",
              "      <td>4524384067</td>\n",
              "      <td>0</td>\n",
              "      <td>43</td>\n",
              "      <td>1</td>\n",
              "      <td>0</td>\n",
              "      <td>4</td>\n",
              "      <td>5</td>\n",
              "      <td>5</td>\n",
              "      <td>1</td>\n",
              "      <td>0</td>\n",
              "      <td>1</td>\n",
              "      <td>0</td>\n",
              "      <td>15157</td>\n",
              "      <td>7.0</td>\n",
              "      <td>17954</td>\n",
              "      <td>201</td>\n",
              "      <td>55</td>\n",
              "      <td>-1321</td>\n",
              "      <td>-7</td>\n",
              "      <td>20.1</td>\n",
              "      <td>1515.7</td>\n",
              "      <td>15</td>\n",
              "      <td>2</td>\n",
              "      <td>1</td>\n",
              "      <td>5</td>\n",
              "      <td>4</td>\n",
              "      <td>10</td>\n",
              "      <td>0</td>\n",
              "      <td>0</td>\n",
              "      <td>0</td>\n",
              "      <td>0</td>\n",
              "      <td>16478</td>\n",
              "      <td>7.0</td>\n",
              "      <td>17961</td>\n",
              "      <td>235</td>\n",
              "      <td>47</td>\n",
              "      <td>1321</td>\n",
              "      <td>7</td>\n",
              "      <td>23.5</td>\n",
              "      <td>1647.8</td>\n",
              "    </tr>\n",
              "    <tr>\n",
              "      <th>4</th>\n",
              "      <td>4436033771</td>\n",
              "      <td>0</td>\n",
              "      <td>75</td>\n",
              "      <td>4</td>\n",
              "      <td>0</td>\n",
              "      <td>6</td>\n",
              "      <td>6</td>\n",
              "      <td>6</td>\n",
              "      <td>0</td>\n",
              "      <td>0</td>\n",
              "      <td>0</td>\n",
              "      <td>0</td>\n",
              "      <td>16400</td>\n",
              "      <td>7.0</td>\n",
              "      <td>18543</td>\n",
              "      <td>210</td>\n",
              "      <td>57</td>\n",
              "      <td>-1004</td>\n",
              "      <td>230</td>\n",
              "      <td>21.0</td>\n",
              "      <td>1640.0</td>\n",
              "      <td>17</td>\n",
              "      <td>2</td>\n",
              "      <td>1</td>\n",
              "      <td>6</td>\n",
              "      <td>6</td>\n",
              "      <td>7</td>\n",
              "      <td>1</td>\n",
              "      <td>1</td>\n",
              "      <td>0</td>\n",
              "      <td>0</td>\n",
              "      <td>17404</td>\n",
              "      <td>7.0</td>\n",
              "      <td>18313</td>\n",
              "      <td>225</td>\n",
              "      <td>67</td>\n",
              "      <td>1004</td>\n",
              "      <td>-230</td>\n",
              "      <td>22.5</td>\n",
              "      <td>1740.4</td>\n",
              "    </tr>\n",
              "    <tr>\n",
              "      <th>...</th>\n",
              "      <td>...</td>\n",
              "      <td>...</td>\n",
              "      <td>...</td>\n",
              "      <td>...</td>\n",
              "      <td>...</td>\n",
              "      <td>...</td>\n",
              "      <td>...</td>\n",
              "      <td>...</td>\n",
              "      <td>...</td>\n",
              "      <td>...</td>\n",
              "      <td>...</td>\n",
              "      <td>...</td>\n",
              "      <td>...</td>\n",
              "      <td>...</td>\n",
              "      <td>...</td>\n",
              "      <td>...</td>\n",
              "      <td>...</td>\n",
              "      <td>...</td>\n",
              "      <td>...</td>\n",
              "      <td>...</td>\n",
              "      <td>...</td>\n",
              "      <td>...</td>\n",
              "      <td>...</td>\n",
              "      <td>...</td>\n",
              "      <td>...</td>\n",
              "      <td>...</td>\n",
              "      <td>...</td>\n",
              "      <td>...</td>\n",
              "      <td>...</td>\n",
              "      <td>...</td>\n",
              "      <td>...</td>\n",
              "      <td>...</td>\n",
              "      <td>...</td>\n",
              "      <td>...</td>\n",
              "      <td>...</td>\n",
              "      <td>...</td>\n",
              "      <td>...</td>\n",
              "      <td>...</td>\n",
              "      <td>...</td>\n",
              "      <td>...</td>\n",
              "    </tr>\n",
              "    <tr>\n",
              "      <th>9874</th>\n",
              "      <td>4527873286</td>\n",
              "      <td>1</td>\n",
              "      <td>17</td>\n",
              "      <td>2</td>\n",
              "      <td>1</td>\n",
              "      <td>7</td>\n",
              "      <td>4</td>\n",
              "      <td>5</td>\n",
              "      <td>1</td>\n",
              "      <td>1</td>\n",
              "      <td>0</td>\n",
              "      <td>0</td>\n",
              "      <td>17765</td>\n",
              "      <td>7.2</td>\n",
              "      <td>18967</td>\n",
              "      <td>211</td>\n",
              "      <td>69</td>\n",
              "      <td>2519</td>\n",
              "      <td>2469</td>\n",
              "      <td>21.1</td>\n",
              "      <td>1776.5</td>\n",
              "      <td>46</td>\n",
              "      <td>3</td>\n",
              "      <td>0</td>\n",
              "      <td>4</td>\n",
              "      <td>7</td>\n",
              "      <td>7</td>\n",
              "      <td>0</td>\n",
              "      <td>0</td>\n",
              "      <td>0</td>\n",
              "      <td>0</td>\n",
              "      <td>15246</td>\n",
              "      <td>6.8</td>\n",
              "      <td>16498</td>\n",
              "      <td>229</td>\n",
              "      <td>34</td>\n",
              "      <td>-2519</td>\n",
              "      <td>-2469</td>\n",
              "      <td>22.9</td>\n",
              "      <td>1524.6</td>\n",
              "    </tr>\n",
              "    <tr>\n",
              "      <th>9875</th>\n",
              "      <td>4527797466</td>\n",
              "      <td>1</td>\n",
              "      <td>54</td>\n",
              "      <td>0</td>\n",
              "      <td>0</td>\n",
              "      <td>6</td>\n",
              "      <td>4</td>\n",
              "      <td>8</td>\n",
              "      <td>1</td>\n",
              "      <td>1</td>\n",
              "      <td>0</td>\n",
              "      <td>0</td>\n",
              "      <td>16238</td>\n",
              "      <td>7.2</td>\n",
              "      <td>19255</td>\n",
              "      <td>233</td>\n",
              "      <td>48</td>\n",
              "      <td>782</td>\n",
              "      <td>888</td>\n",
              "      <td>23.3</td>\n",
              "      <td>1623.8</td>\n",
              "      <td>12</td>\n",
              "      <td>21</td>\n",
              "      <td>1</td>\n",
              "      <td>4</td>\n",
              "      <td>6</td>\n",
              "      <td>3</td>\n",
              "      <td>0</td>\n",
              "      <td>0</td>\n",
              "      <td>0</td>\n",
              "      <td>0</td>\n",
              "      <td>15456</td>\n",
              "      <td>7.0</td>\n",
              "      <td>18367</td>\n",
              "      <td>206</td>\n",
              "      <td>56</td>\n",
              "      <td>-782</td>\n",
              "      <td>-888</td>\n",
              "      <td>20.6</td>\n",
              "      <td>1545.6</td>\n",
              "    </tr>\n",
              "    <tr>\n",
              "      <th>9876</th>\n",
              "      <td>4527713716</td>\n",
              "      <td>0</td>\n",
              "      <td>23</td>\n",
              "      <td>1</td>\n",
              "      <td>0</td>\n",
              "      <td>6</td>\n",
              "      <td>7</td>\n",
              "      <td>5</td>\n",
              "      <td>0</td>\n",
              "      <td>0</td>\n",
              "      <td>0</td>\n",
              "      <td>0</td>\n",
              "      <td>15903</td>\n",
              "      <td>7.0</td>\n",
              "      <td>18032</td>\n",
              "      <td>210</td>\n",
              "      <td>45</td>\n",
              "      <td>-2416</td>\n",
              "      <td>-1877</td>\n",
              "      <td>21.0</td>\n",
              "      <td>1590.3</td>\n",
              "      <td>14</td>\n",
              "      <td>0</td>\n",
              "      <td>1</td>\n",
              "      <td>7</td>\n",
              "      <td>6</td>\n",
              "      <td>11</td>\n",
              "      <td>1</td>\n",
              "      <td>1</td>\n",
              "      <td>0</td>\n",
              "      <td>0</td>\n",
              "      <td>18319</td>\n",
              "      <td>7.4</td>\n",
              "      <td>19909</td>\n",
              "      <td>261</td>\n",
              "      <td>60</td>\n",
              "      <td>2416</td>\n",
              "      <td>1877</td>\n",
              "      <td>26.1</td>\n",
              "      <td>1831.9</td>\n",
              "    </tr>\n",
              "    <tr>\n",
              "      <th>9877</th>\n",
              "      <td>4527628313</td>\n",
              "      <td>0</td>\n",
              "      <td>14</td>\n",
              "      <td>4</td>\n",
              "      <td>1</td>\n",
              "      <td>2</td>\n",
              "      <td>3</td>\n",
              "      <td>3</td>\n",
              "      <td>1</td>\n",
              "      <td>1</td>\n",
              "      <td>0</td>\n",
              "      <td>0</td>\n",
              "      <td>14459</td>\n",
              "      <td>6.6</td>\n",
              "      <td>17229</td>\n",
              "      <td>224</td>\n",
              "      <td>48</td>\n",
              "      <td>-839</td>\n",
              "      <td>-1085</td>\n",
              "      <td>22.4</td>\n",
              "      <td>1445.9</td>\n",
              "      <td>66</td>\n",
              "      <td>4</td>\n",
              "      <td>0</td>\n",
              "      <td>3</td>\n",
              "      <td>2</td>\n",
              "      <td>1</td>\n",
              "      <td>0</td>\n",
              "      <td>0</td>\n",
              "      <td>0</td>\n",
              "      <td>0</td>\n",
              "      <td>15298</td>\n",
              "      <td>7.2</td>\n",
              "      <td>18314</td>\n",
              "      <td>247</td>\n",
              "      <td>40</td>\n",
              "      <td>839</td>\n",
              "      <td>1085</td>\n",
              "      <td>24.7</td>\n",
              "      <td>1529.8</td>\n",
              "    </tr>\n",
              "    <tr>\n",
              "      <th>9878</th>\n",
              "      <td>4523772935</td>\n",
              "      <td>1</td>\n",
              "      <td>18</td>\n",
              "      <td>0</td>\n",
              "      <td>1</td>\n",
              "      <td>6</td>\n",
              "      <td>6</td>\n",
              "      <td>5</td>\n",
              "      <td>0</td>\n",
              "      <td>0</td>\n",
              "      <td>0</td>\n",
              "      <td>0</td>\n",
              "      <td>16266</td>\n",
              "      <td>7.0</td>\n",
              "      <td>17321</td>\n",
              "      <td>207</td>\n",
              "      <td>44</td>\n",
              "      <td>927</td>\n",
              "      <td>-58</td>\n",
              "      <td>20.7</td>\n",
              "      <td>1626.6</td>\n",
              "      <td>9</td>\n",
              "      <td>2</td>\n",
              "      <td>0</td>\n",
              "      <td>6</td>\n",
              "      <td>6</td>\n",
              "      <td>4</td>\n",
              "      <td>1</td>\n",
              "      <td>1</td>\n",
              "      <td>0</td>\n",
              "      <td>0</td>\n",
              "      <td>15339</td>\n",
              "      <td>6.8</td>\n",
              "      <td>17379</td>\n",
              "      <td>201</td>\n",
              "      <td>46</td>\n",
              "      <td>-927</td>\n",
              "      <td>58</td>\n",
              "      <td>20.1</td>\n",
              "      <td>1533.9</td>\n",
              "    </tr>\n",
              "  </tbody>\n",
              "</table>\n",
              "<p>9879 rows × 40 columns</p>\n",
              "</div>"
            ],
            "text/plain": [
              "          gameId  blueWins  ...  redCSPerMin  redGoldPerMin\n",
              "0     4519157822         0  ...         19.7         1656.7\n",
              "1     4523371949         0  ...         24.0         1762.0\n",
              "2     4521474530         0  ...         20.3         1728.5\n",
              "3     4524384067         0  ...         23.5         1647.8\n",
              "4     4436033771         0  ...         22.5         1740.4\n",
              "...          ...       ...  ...          ...            ...\n",
              "9874  4527873286         1  ...         22.9         1524.6\n",
              "9875  4527797466         1  ...         20.6         1545.6\n",
              "9876  4527713716         0  ...         26.1         1831.9\n",
              "9877  4527628313         0  ...         24.7         1529.8\n",
              "9878  4523772935         1  ...         20.1         1533.9\n",
              "\n",
              "[9879 rows x 40 columns]"
            ]
          },
          "metadata": {},
          "execution_count": 16
        }
      ]
    },
    {
      "cell_type": "code",
      "metadata": {
        "colab": {
          "base_uri": "https://localhost:8080/",
          "height": 1000
        },
        "id": "lxiys5imSPR1",
        "outputId": "7da569b5-4e1d-47d3-f5f0-ac01746c2e6f"
      },
      "source": [
        "df.corr()[['blueWins']] #blueWi"
      ],
      "execution_count": 14,
      "outputs": [
        {
          "output_type": "execute_result",
          "data": {
            "text/html": [
              "<div>\n",
              "<style scoped>\n",
              "    .dataframe tbody tr th:only-of-type {\n",
              "        vertical-align: middle;\n",
              "    }\n",
              "\n",
              "    .dataframe tbody tr th {\n",
              "        vertical-align: top;\n",
              "    }\n",
              "\n",
              "    .dataframe thead th {\n",
              "        text-align: right;\n",
              "    }\n",
              "</style>\n",
              "<table border=\"1\" class=\"dataframe\">\n",
              "  <thead>\n",
              "    <tr style=\"text-align: right;\">\n",
              "      <th></th>\n",
              "      <th>blueWins</th>\n",
              "    </tr>\n",
              "  </thead>\n",
              "  <tbody>\n",
              "    <tr>\n",
              "      <th>gameId</th>\n",
              "      <td>0.000985</td>\n",
              "    </tr>\n",
              "    <tr>\n",
              "      <th>blueWins</th>\n",
              "      <td>1.000000</td>\n",
              "    </tr>\n",
              "    <tr>\n",
              "      <th>blueWardsPlaced</th>\n",
              "      <td>0.000087</td>\n",
              "    </tr>\n",
              "    <tr>\n",
              "      <th>blueWardsDestroyed</th>\n",
              "      <td>0.044247</td>\n",
              "    </tr>\n",
              "    <tr>\n",
              "      <th>blueFirstBlood</th>\n",
              "      <td>0.201769</td>\n",
              "    </tr>\n",
              "    <tr>\n",
              "      <th>blueKills</th>\n",
              "      <td>0.337358</td>\n",
              "    </tr>\n",
              "    <tr>\n",
              "      <th>blueDeaths</th>\n",
              "      <td>-0.339297</td>\n",
              "    </tr>\n",
              "    <tr>\n",
              "      <th>blueAssists</th>\n",
              "      <td>0.276685</td>\n",
              "    </tr>\n",
              "    <tr>\n",
              "      <th>blueEliteMonsters</th>\n",
              "      <td>0.221944</td>\n",
              "    </tr>\n",
              "    <tr>\n",
              "      <th>blueDragons</th>\n",
              "      <td>0.213768</td>\n",
              "    </tr>\n",
              "    <tr>\n",
              "      <th>blueHeralds</th>\n",
              "      <td>0.092385</td>\n",
              "    </tr>\n",
              "    <tr>\n",
              "      <th>blueTowersDestroyed</th>\n",
              "      <td>0.115566</td>\n",
              "    </tr>\n",
              "    <tr>\n",
              "      <th>blueTotalGold</th>\n",
              "      <td>0.417213</td>\n",
              "    </tr>\n",
              "    <tr>\n",
              "      <th>blueAvgLevel</th>\n",
              "      <td>0.357820</td>\n",
              "    </tr>\n",
              "    <tr>\n",
              "      <th>blueTotalExperience</th>\n",
              "      <td>0.396141</td>\n",
              "    </tr>\n",
              "    <tr>\n",
              "      <th>blueTotalMinionsKilled</th>\n",
              "      <td>0.224909</td>\n",
              "    </tr>\n",
              "    <tr>\n",
              "      <th>blueTotalJungleMinionsKilled</th>\n",
              "      <td>0.131445</td>\n",
              "    </tr>\n",
              "    <tr>\n",
              "      <th>blueGoldDiff</th>\n",
              "      <td>0.511119</td>\n",
              "    </tr>\n",
              "    <tr>\n",
              "      <th>blueExperienceDiff</th>\n",
              "      <td>0.489558</td>\n",
              "    </tr>\n",
              "    <tr>\n",
              "      <th>blueCSPerMin</th>\n",
              "      <td>0.224909</td>\n",
              "    </tr>\n",
              "    <tr>\n",
              "      <th>blueGoldPerMin</th>\n",
              "      <td>0.417213</td>\n",
              "    </tr>\n",
              "    <tr>\n",
              "      <th>redWardsPlaced</th>\n",
              "      <td>-0.023671</td>\n",
              "    </tr>\n",
              "    <tr>\n",
              "      <th>redWardsDestroyed</th>\n",
              "      <td>-0.055400</td>\n",
              "    </tr>\n",
              "    <tr>\n",
              "      <th>redFirstBlood</th>\n",
              "      <td>-0.201769</td>\n",
              "    </tr>\n",
              "    <tr>\n",
              "      <th>redKills</th>\n",
              "      <td>-0.339297</td>\n",
              "    </tr>\n",
              "    <tr>\n",
              "      <th>redDeaths</th>\n",
              "      <td>0.337358</td>\n",
              "    </tr>\n",
              "    <tr>\n",
              "      <th>redAssists</th>\n",
              "      <td>-0.271047</td>\n",
              "    </tr>\n",
              "    <tr>\n",
              "      <th>redEliteMonsters</th>\n",
              "      <td>-0.221551</td>\n",
              "    </tr>\n",
              "    <tr>\n",
              "      <th>redDragons</th>\n",
              "      <td>-0.209516</td>\n",
              "    </tr>\n",
              "    <tr>\n",
              "      <th>redHeralds</th>\n",
              "      <td>-0.097172</td>\n",
              "    </tr>\n",
              "    <tr>\n",
              "      <th>redTowersDestroyed</th>\n",
              "      <td>-0.103696</td>\n",
              "    </tr>\n",
              "    <tr>\n",
              "      <th>redTotalGold</th>\n",
              "      <td>-0.411396</td>\n",
              "    </tr>\n",
              "    <tr>\n",
              "      <th>redAvgLevel</th>\n",
              "      <td>-0.352127</td>\n",
              "    </tr>\n",
              "    <tr>\n",
              "      <th>redTotalExperience</th>\n",
              "      <td>-0.387588</td>\n",
              "    </tr>\n",
              "    <tr>\n",
              "      <th>redTotalMinionsKilled</th>\n",
              "      <td>-0.212171</td>\n",
              "    </tr>\n",
              "    <tr>\n",
              "      <th>redTotalJungleMinionsKilled</th>\n",
              "      <td>-0.110994</td>\n",
              "    </tr>\n",
              "    <tr>\n",
              "      <th>redGoldDiff</th>\n",
              "      <td>-0.511119</td>\n",
              "    </tr>\n",
              "    <tr>\n",
              "      <th>redExperienceDiff</th>\n",
              "      <td>-0.489558</td>\n",
              "    </tr>\n",
              "    <tr>\n",
              "      <th>redCSPerMin</th>\n",
              "      <td>-0.212171</td>\n",
              "    </tr>\n",
              "    <tr>\n",
              "      <th>redGoldPerMin</th>\n",
              "      <td>-0.411396</td>\n",
              "    </tr>\n",
              "  </tbody>\n",
              "</table>\n",
              "</div>"
            ],
            "text/plain": [
              "                              blueWins\n",
              "gameId                        0.000985\n",
              "blueWins                      1.000000\n",
              "blueWardsPlaced               0.000087\n",
              "blueWardsDestroyed            0.044247\n",
              "blueFirstBlood                0.201769\n",
              "blueKills                     0.337358\n",
              "blueDeaths                   -0.339297\n",
              "blueAssists                   0.276685\n",
              "blueEliteMonsters             0.221944\n",
              "blueDragons                   0.213768\n",
              "blueHeralds                   0.092385\n",
              "blueTowersDestroyed           0.115566\n",
              "blueTotalGold                 0.417213\n",
              "blueAvgLevel                  0.357820\n",
              "blueTotalExperience           0.396141\n",
              "blueTotalMinionsKilled        0.224909\n",
              "blueTotalJungleMinionsKilled  0.131445\n",
              "blueGoldDiff                  0.511119\n",
              "blueExperienceDiff            0.489558\n",
              "blueCSPerMin                  0.224909\n",
              "blueGoldPerMin                0.417213\n",
              "redWardsPlaced               -0.023671\n",
              "redWardsDestroyed            -0.055400\n",
              "redFirstBlood                -0.201769\n",
              "redKills                     -0.339297\n",
              "redDeaths                     0.337358\n",
              "redAssists                   -0.271047\n",
              "redEliteMonsters             -0.221551\n",
              "redDragons                   -0.209516\n",
              "redHeralds                   -0.097172\n",
              "redTowersDestroyed           -0.103696\n",
              "redTotalGold                 -0.411396\n",
              "redAvgLevel                  -0.352127\n",
              "redTotalExperience           -0.387588\n",
              "redTotalMinionsKilled        -0.212171\n",
              "redTotalJungleMinionsKilled  -0.110994\n",
              "redGoldDiff                  -0.511119\n",
              "redExperienceDiff            -0.489558\n",
              "redCSPerMin                  -0.212171\n",
              "redGoldPerMin                -0.411396"
            ]
          },
          "metadata": {},
          "execution_count": 14
        }
      ]
    },
    {
      "cell_type": "markdown",
      "metadata": {
        "id": "HGHvPwkNtXgj"
      },
      "source": [
        "### 문제 5. 각 컬럼의 Correlation 히트맵으로 시각화하기\n"
      ]
    },
    {
      "cell_type": "code",
      "metadata": {
        "id": "GZXSBFPyDh6R",
        "colab": {
          "base_uri": "https://localhost:8080/",
          "height": 667
        },
        "outputId": "6003e2c7-e877-4405-d5bd-772c7fbc5538"
      },
      "source": [
        "# DataFrame의 corr() 메소드와 Seaborn의 heatmap() 메소드를 이용하여 Pearson's correlation 시각화하기\n",
        "fig = plt.figure(figsize=(5,11))\n",
        "sns.heatmap(df.corr()[['blueWins']], annot=True)"
      ],
      "execution_count": 18,
      "outputs": [
        {
          "output_type": "execute_result",
          "data": {
            "text/plain": [
              "<matplotlib.axes._subplots.AxesSubplot at 0x7f016ccd0690>"
            ]
          },
          "metadata": {},
          "execution_count": 18
        },
        {
          "output_type": "display_data",
          "data": {
            "image/png": "[encoded data removed]",
            "text/plain": [
              "<Figure size 360x792 with 2 Axes>"
            ]
          },
          "metadata": {
            "needs_background": "light"
          }
        }
      ]
    },
    {
      "cell_type": "code",
      "metadata": {
        "colab": {
          "base_uri": "https://localhost:8080/"
        },
        "id": "DE2PvG7yj1TF",
        "outputId": "0e2fca9a-7c70-471e-d4af-1502117edec1"
      },
      "source": [
        "df.columns"
      ],
      "execution_count": 20,
      "outputs": [
        {
          "output_type": "execute_result",
          "data": {
            "text/plain": [
              "Index(['gameId', 'blueWins', 'blueWardsPlaced', 'blueWardsDestroyed',\n",
              "       'blueFirstBlood', 'blueKills', 'blueDeaths', 'blueAssists',\n",
              "       'blueEliteMonsters', 'blueDragons', 'blueHeralds',\n",
              "       'blueTowersDestroyed', 'blueTotalGold', 'blueAvgLevel',\n",
              "       'blueTotalExperience', 'blueTotalMinionsKilled',\n",
              "       'blueTotalJungleMinionsKilled', 'blueGoldDiff', 'blueExperienceDiff',\n",
              "       'blueCSPerMin', 'blueGoldPerMin', 'redWardsPlaced', 'redWardsDestroyed',\n",
              "       'redFirstBlood', 'redKills', 'redDeaths', 'redAssists',\n",
              "       'redEliteMonsters', 'redDragons', 'redHeralds', 'redTowersDestroyed',\n",
              "       'redTotalGold', 'redAvgLevel', 'redTotalExperience',\n",
              "       'redTotalMinionsKilled', 'redTotalJungleMinionsKilled', 'redGoldDiff',\n",
              "       'redExperienceDiff', 'redCSPerMin', 'redGoldPerMin'],\n",
              "      dtype='object')"
            ]
          },
          "metadata": {},
          "execution_count": 20
        }
      ]
    },
    {
      "cell_type": "markdown",
      "metadata": {
        "id": "KywGh9sjtYl9"
      },
      "source": [
        "### 문제 6. 각 컬럼과 승리 여부의 관계 시각화하기\n"
      ]
    },
    {
      "cell_type": "code",
      "metadata": {
        "id": "TqXkwW8JDxhH",
        "colab": {
          "base_uri": "https://localhost:8080/",
          "height": 296
        },
        "outputId": "a155a5c7-5cd2-41cb-c8e0-e13f1d9742b7"
      },
      "source": [
        "# Seaborn의 countplot() 및 histplot()을 사용하여 각 컬럼과 승/패의 관계를 시각화\n",
        "sns.histplot(x='blueGoldDiff', data=df, hue='blueWins',palette='RdBu', kde=True )\n",
        "\n",
        "\n"
      ],
      "execution_count": 23,
      "outputs": [
        {
          "output_type": "execute_result",
          "data": {
            "text/plain": [
              "<matplotlib.axes._subplots.AxesSubplot at 0x7f016cd98b50>"
            ]
          },
          "metadata": {},
          "execution_count": 23
        },
        {
          "output_type": "display_data",
          "data": {
            "image/png": "[encoded data removed]",
            "text/plain": [
              "<Figure size 432x288 with 1 Axes>"
            ]
          },
          "metadata": {
            "needs_background": "light"
          }
        }
      ]
    },
    {
      "cell_type": "code",
      "metadata": {
        "colab": {
          "base_uri": "https://localhost:8080/",
          "height": 296
        },
        "id": "JP-_K28CkyyB",
        "outputId": "ca44ba61-b2a7-45da-fdaf-a6e10d3504fc"
      },
      "source": [
        "sns.histplot(x='blueExperienceDiff', data=df, hue='blueWins',palette='RdBu', kde=True )"
      ],
      "execution_count": 24,
      "outputs": [
        {
          "output_type": "execute_result",
          "data": {
            "text/plain": [
              "<matplotlib.axes._subplots.AxesSubplot at 0x7f016ccd9450>"
            ]
          },
          "metadata": {},
          "execution_count": 24
        },
        {
          "output_type": "display_data",
          "data": {
            "image/png": "[encoded data removed]",
            "text/plain": [
              "<Figure size 432x288 with 1 Axes>"
            ]
          },
          "metadata": {
            "needs_background": "light"
          }
        }
      ]
    },
    {
      "cell_type": "code",
      "metadata": {
        "colab": {
          "base_uri": "https://localhost:8080/",
          "height": 296
        },
        "id": "3xGozRLvkeBO",
        "outputId": "02a35c87-b582-474c-84e3-0033f203e144"
      },
      "source": [
        "sns.histplot(x='blueTotalGold', data=df, hue='blueWins',palette='RdBu', kde=True )"
      ],
      "execution_count": 25,
      "outputs": [
        {
          "output_type": "execute_result",
          "data": {
            "text/plain": [
              "<matplotlib.axes._subplots.AxesSubplot at 0x7f0167f7de90>"
            ]
          },
          "metadata": {},
          "execution_count": 25
        },
        {
          "output_type": "display_data",
          "data": {
            "image/png": "[encoded data removed]",
            "text/plain": [
              "<Figure size 432x288 with 1 Axes>"
            ]
          },
          "metadata": {
            "needs_background": "light"
          }
        }
      ]
    },
    {
      "cell_type": "markdown",
      "metadata": {
        "id": "GD18QuastZy8"
      },
      "source": [
        "## Step 3. 모델 학습을 위한 데이터 전처리\n"
      ]
    },
    {
      "cell_type": "markdown",
      "metadata": {
        "id": "Dev2yLeMta85"
      },
      "source": [
        "### 문제 7. StandardScaler를 이용해 수치형 데이터 표준화하기\n"
      ]
    },
    {
      "cell_type": "code",
      "metadata": {
        "id": "_k_SDCh5xMgD"
      },
      "source": [
        "from sklearn.preprocessing import StandardScaler"
      ],
      "execution_count": 26,
      "outputs": []
    },
    {
      "cell_type": "code",
      "metadata": {
        "colab": {
          "base_uri": "https://localhost:8080/"
        },
        "id": "rqJ-HkcylbjC",
        "outputId": "988a62ba-5d69-47c7-a071-81aa1b51eefe"
      },
      "source": [
        "df.columns"
      ],
      "execution_count": 27,
      "outputs": [
        {
          "output_type": "execute_result",
          "data": {
            "text/plain": [
              "Index(['gameId', 'blueWins', 'blueWardsPlaced', 'blueWardsDestroyed',\n",
              "       'blueFirstBlood', 'blueKills', 'blueDeaths', 'blueAssists',\n",
              "       'blueEliteMonsters', 'blueDragons', 'blueHeralds',\n",
              "       'blueTowersDestroyed', 'blueTotalGold', 'blueAvgLevel',\n",
              "       'blueTotalExperience', 'blueTotalMinionsKilled',\n",
              "       'blueTotalJungleMinionsKilled', 'blueGoldDiff', 'blueExperienceDiff',\n",
              "       'blueCSPerMin', 'blueGoldPerMin', 'redWardsPlaced', 'redWardsDestroyed',\n",
              "       'redFirstBlood', 'redKills', 'redDeaths', 'redAssists',\n",
              "       'redEliteMonsters', 'redDragons', 'redHeralds', 'redTowersDestroyed',\n",
              "       'redTotalGold', 'redAvgLevel', 'redTotalExperience',\n",
              "       'redTotalMinionsKilled', 'redTotalJungleMinionsKilled', 'redGoldDiff',\n",
              "       'redExperienceDiff', 'redCSPerMin', 'redGoldPerMin'],\n",
              "      dtype='object')"
            ]
          },
          "metadata": {},
          "execution_count": 27
        }
      ]
    },
    {
      "cell_type": "code",
      "metadata": {
        "id": "pgN2Fd-blqmJ"
      },
      "source": [
        "df.drop(['gameId', 'redFirstBlood', 'redKills', 'redDeaths',\n",
        "       'redTotalGold', 'redTotalExperience', 'redGoldDiff',\n",
        "       'redExperienceDiff'], axis=1, inplace=True)"
      ],
      "execution_count": null,
      "outputs": []
    },
    {
      "cell_type": "code",
      "metadata": {
        "id": "W3EO22NCE3wG",
        "colab": {
          "base_uri": "https://localhost:8080/",
          "height": 224
        },
        "outputId": "42e1c754-48bd-40d0-d33e-0819a3516dd4"
      },
      "source": [
        "# StandardScaler를 이용해 수치형 데이터를 표준화하기\n",
        "# Hint) Multicollinearity를 피하기 위해 불필요한 컬럼은 drop한다.\n",
        "\n",
        "X_num = df[['blueWardsPlaced', 'blueWardsDestroyed', \n",
        "       'blueKills', 'blueDeaths', 'blueAssists', 'blueEliteMonsters',\n",
        "       'blueTowersDestroyed', 'blueTotalGold',\n",
        "       'blueAvgLevel', 'blueTotalExperience', 'blueTotalMinionsKilled',\n",
        "       'blueTotalJungleMinionsKilled', 'blueGoldDiff', 'blueExperienceDiff',\n",
        "       'blueCSPerMin', 'blueGoldPerMin', 'redWardsPlaced', 'redWardsDestroyed',\n",
        "       'redAssists', 'redEliteMonsters', 'redTowersDestroyed', 'redAvgLevel', 'redTotalMinionsKilled',\n",
        "       'redTotalJungleMinionsKilled', 'redCSPerMin', 'redGoldPerMin']]\n",
        "X_cat = df[['blueFirstBlood', 'blueDragons', 'blueHeralds', 'redDragons', 'redHeralds']]\n",
        "\n",
        "scaler=StandardScaler()\n",
        "scaler.fit(X_num)\n",
        "x_scaled=scaler.transform(X_num)\n",
        "x_df=pd.DataFrame(x_scaled,index=X_num.index,columns=X_num.columns)\n",
        "X = pd.concat([x_df, X_cat], axis=1)\n",
        "y = df['blueWins']\n",
        "\n",
        "X.head()"
      ],
      "execution_count": 32,
      "outputs": [
        {
          "output_type": "execute_result",
          "data": {
            "text/html": [
              "<div>\n",
              "<style scoped>\n",
              "    .dataframe tbody tr th:only-of-type {\n",
              "        vertical-align: middle;\n",
              "    }\n",
              "\n",
              "    .dataframe tbody tr th {\n",
              "        vertical-align: top;\n",
              "    }\n",
              "\n",
              "    .dataframe thead th {\n",
              "        text-align: right;\n",
              "    }\n",
              "</style>\n",
              "<table border=\"1\" class=\"dataframe\">\n",
              "  <thead>\n",
              "    <tr style=\"text-align: right;\">\n",
              "      <th></th>\n",
              "      <th>blueWardsPlaced</th>\n",
              "      <th>blueWardsDestroyed</th>\n",
              "      <th>blueKills</th>\n",
              "      <th>blueDeaths</th>\n",
              "      <th>blueAssists</th>\n",
              "      <th>blueEliteMonsters</th>\n",
              "      <th>blueTowersDestroyed</th>\n",
              "      <th>blueTotalGold</th>\n",
              "      <th>blueAvgLevel</th>\n",
              "      <th>blueTotalExperience</th>\n",
              "      <th>blueTotalMinionsKilled</th>\n",
              "      <th>blueTotalJungleMinionsKilled</th>\n",
              "      <th>blueGoldDiff</th>\n",
              "      <th>blueExperienceDiff</th>\n",
              "      <th>blueCSPerMin</th>\n",
              "      <th>blueGoldPerMin</th>\n",
              "      <th>redWardsPlaced</th>\n",
              "      <th>redWardsDestroyed</th>\n",
              "      <th>redAssists</th>\n",
              "      <th>redEliteMonsters</th>\n",
              "      <th>redTowersDestroyed</th>\n",
              "      <th>redAvgLevel</th>\n",
              "      <th>redTotalMinionsKilled</th>\n",
              "      <th>redTotalJungleMinionsKilled</th>\n",
              "      <th>redCSPerMin</th>\n",
              "      <th>redGoldPerMin</th>\n",
              "      <th>blueFirstBlood</th>\n",
              "      <th>blueDragons</th>\n",
              "      <th>blueHeralds</th>\n",
              "      <th>redDragons</th>\n",
              "      <th>redHeralds</th>\n",
              "    </tr>\n",
              "  </thead>\n",
              "  <tbody>\n",
              "    <tr>\n",
              "      <th>0</th>\n",
              "      <td>0.316996</td>\n",
              "      <td>-0.379275</td>\n",
              "      <td>0.935301</td>\n",
              "      <td>-0.046926</td>\n",
              "      <td>1.071495</td>\n",
              "      <td>-0.879231</td>\n",
              "      <td>-0.210439</td>\n",
              "      <td>0.460179</td>\n",
              "      <td>-1.035635</td>\n",
              "      <td>-0.740639</td>\n",
              "      <td>-0.992782</td>\n",
              "      <td>-1.465951</td>\n",
              "      <td>0.256228</td>\n",
              "      <td>0.013342</td>\n",
              "      <td>-0.992782</td>\n",
              "      <td>0.460179</td>\n",
              "      <td>-0.399207</td>\n",
              "      <td>1.532493</td>\n",
              "      <td>0.329496</td>\n",
              "      <td>-0.914893</td>\n",
              "      <td>-0.198353</td>\n",
              "      <td>-0.410475</td>\n",
              "      <td>-0.928741</td>\n",
              "      <td>0.367685</td>\n",
              "      <td>-0.928741</td>\n",
              "      <td>0.052293</td>\n",
              "      <td>1</td>\n",
              "      <td>0</td>\n",
              "      <td>0</td>\n",
              "      <td>0</td>\n",
              "      <td>0</td>\n",
              "    </tr>\n",
              "    <tr>\n",
              "      <th>1</th>\n",
              "      <td>-0.570992</td>\n",
              "      <td>-0.839069</td>\n",
              "      <td>-0.393216</td>\n",
              "      <td>-0.387796</td>\n",
              "      <td>-0.404768</td>\n",
              "      <td>-0.879231</td>\n",
              "      <td>-0.210439</td>\n",
              "      <td>-1.166792</td>\n",
              "      <td>-1.035635</td>\n",
              "      <td>-1.385391</td>\n",
              "      <td>-1.953558</td>\n",
              "      <td>-0.758722</td>\n",
              "      <td>-1.191254</td>\n",
              "      <td>-0.593342</td>\n",
              "      <td>-1.953558</td>\n",
              "      <td>-1.166792</td>\n",
              "      <td>-0.561751</td>\n",
              "      <td>-0.805870</td>\n",
              "      <td>-1.148188</td>\n",
              "      <td>2.277700</td>\n",
              "      <td>4.412301</td>\n",
              "      <td>-0.410475</td>\n",
              "      <td>1.033784</td>\n",
              "      <td>0.068504</td>\n",
              "      <td>1.033784</td>\n",
              "      <td>0.758619</td>\n",
              "      <td>0</td>\n",
              "      <td>0</td>\n",
              "      <td>0</td>\n",
              "      <td>1</td>\n",
              "      <td>1</td>\n",
              "    </tr>\n",
              "    <tr>\n",
              "      <th>2</th>\n",
              "      <td>-0.404494</td>\n",
              "      <td>-1.298863</td>\n",
              "      <td>0.271042</td>\n",
              "      <td>1.657424</td>\n",
              "      <td>-0.650812</td>\n",
              "      <td>0.719503</td>\n",
              "      <td>-0.210439</td>\n",
              "      <td>-0.254307</td>\n",
              "      <td>-1.691092</td>\n",
              "      <td>-1.422043</td>\n",
              "      <td>-1.404543</td>\n",
              "      <td>-0.455624</td>\n",
              "      <td>-0.483614</td>\n",
              "      <td>-0.520436</td>\n",
              "      <td>-1.404543</td>\n",
              "      <td>-0.254307</td>\n",
              "      <td>-0.399207</td>\n",
              "      <td>0.129475</td>\n",
              "      <td>1.807181</td>\n",
              "      <td>-0.914893</td>\n",
              "      <td>-0.198353</td>\n",
              "      <td>-0.410475</td>\n",
              "      <td>-0.654900</td>\n",
              "      <td>-2.324944</td>\n",
              "      <td>-0.654900</td>\n",
              "      <td>0.533909</td>\n",
              "      <td>0</td>\n",
              "      <td>1</td>\n",
              "      <td>0</td>\n",
              "      <td>0</td>\n",
              "      <td>0</td>\n",
              "    </tr>\n",
              "    <tr>\n",
              "      <th>3</th>\n",
              "      <td>1.149484</td>\n",
              "      <td>-0.839069</td>\n",
              "      <td>-0.725346</td>\n",
              "      <td>-0.387796</td>\n",
              "      <td>-0.404768</td>\n",
              "      <td>0.719503</td>\n",
              "      <td>-0.210439</td>\n",
              "      <td>-0.876959</td>\n",
              "      <td>0.275280</td>\n",
              "      <td>0.021567</td>\n",
              "      <td>-0.718275</td>\n",
              "      <td>0.453671</td>\n",
              "      <td>-0.544350</td>\n",
              "      <td>0.013863</td>\n",
              "      <td>-0.718275</td>\n",
              "      <td>-0.876959</td>\n",
              "      <td>-0.399207</td>\n",
              "      <td>-0.338198</td>\n",
              "      <td>0.822058</td>\n",
              "      <td>-0.914893</td>\n",
              "      <td>-0.198353</td>\n",
              "      <td>0.244627</td>\n",
              "      <td>0.805583</td>\n",
              "      <td>-0.430131</td>\n",
              "      <td>0.805583</td>\n",
              "      <td>-0.007406</td>\n",
              "      <td>0</td>\n",
              "      <td>0</td>\n",
              "      <td>1</td>\n",
              "      <td>0</td>\n",
              "      <td>0</td>\n",
              "    </tr>\n",
              "    <tr>\n",
              "      <th>4</th>\n",
              "      <td>2.925460</td>\n",
              "      <td>0.540312</td>\n",
              "      <td>-0.061087</td>\n",
              "      <td>-0.046926</td>\n",
              "      <td>-0.158724</td>\n",
              "      <td>-0.879231</td>\n",
              "      <td>-0.210439</td>\n",
              "      <td>-0.067382</td>\n",
              "      <td>0.275280</td>\n",
              "      <td>0.512211</td>\n",
              "      <td>-0.306513</td>\n",
              "      <td>0.655736</td>\n",
              "      <td>-0.415133</td>\n",
              "      <td>0.137283</td>\n",
              "      <td>-0.306513</td>\n",
              "      <td>-0.067382</td>\n",
              "      <td>-0.290844</td>\n",
              "      <td>-0.338198</td>\n",
              "      <td>0.083215</td>\n",
              "      <td>0.681403</td>\n",
              "      <td>-0.198353</td>\n",
              "      <td>0.244627</td>\n",
              "      <td>0.349182</td>\n",
              "      <td>1.564408</td>\n",
              "      <td>0.349182</td>\n",
              "      <td>0.613731</td>\n",
              "      <td>0</td>\n",
              "      <td>0</td>\n",
              "      <td>0</td>\n",
              "      <td>1</td>\n",
              "      <td>0</td>\n",
              "    </tr>\n",
              "  </tbody>\n",
              "</table>\n",
              "</div>"
            ],
            "text/plain": [
              "   blueWardsPlaced  blueWardsDestroyed  ...  redDragons  redHeralds\n",
              "0         0.316996           -0.379275  ...           0           0\n",
              "1        -0.570992           -0.839069  ...           1           1\n",
              "2        -0.404494           -1.298863  ...           0           0\n",
              "3         1.149484           -0.839069  ...           0           0\n",
              "4         2.925460            0.540312  ...           1           0\n",
              "\n",
              "[5 rows x 31 columns]"
            ]
          },
          "metadata": {},
          "execution_count": 32
        }
      ]
    },
    {
      "cell_type": "markdown",
      "metadata": {
        "id": "x93Tb6lptcA2"
      },
      "source": [
        "### 문제 8. 학습데이터와 테스트데이터 분리하기\n"
      ]
    },
    {
      "cell_type": "code",
      "metadata": {
        "id": "C9kMQI8SEche"
      },
      "source": [
        "from sklearn.model_selection import train_test_split"
      ],
      "execution_count": 33,
      "outputs": []
    },
    {
      "cell_type": "code",
      "metadata": {
        "id": "F07QjOFwFNEw"
      },
      "source": [
        "# train_test_split() 함수로 학습 데이터와 테스트 데이터 분리하기\n",
        "X_train, X_test, y_train, y_test = train_test_split(X,y,test_size=0.3)"
      ],
      "execution_count": 35,
      "outputs": []
    },
    {
      "cell_type": "markdown",
      "metadata": {
        "id": "DTqb-HqPtc4I"
      },
      "source": [
        "## Step 4. Classification 모델 학습하기\n"
      ]
    },
    {
      "cell_type": "markdown",
      "metadata": {
        "id": "Ckexl202tmZI"
      },
      "source": [
        "### 문제 9. Logistic Regression 모델 생성/학습하기\n"
      ]
    },
    {
      "cell_type": "code",
      "metadata": {
        "id": "2Wt_0AdNFfbN"
      },
      "source": [
        "from sklearn.linear_model import LogisticRegression"
      ],
      "execution_count": 36,
      "outputs": []
    },
    {
      "cell_type": "code",
      "metadata": {
        "id": "1lM57a_8Fdbh",
        "colab": {
          "base_uri": "https://localhost:8080/"
        },
        "outputId": "270560a8-9f02-4eef-a030-86af71f8236c"
      },
      "source": [
        "# LogisticRegression 모델 생성/학습\n",
        "model_lr = LogisticRegression()\n",
        "model_lr.fit(X_train, y_train)\n"
      ],
      "execution_count": 37,
      "outputs": [
        {
          "output_type": "execute_result",
          "data": {
            "text/plain": [
              "LogisticRegression(C=1.0, class_weight=None, dual=False, fit_intercept=True,\n",
              "                   intercept_scaling=1, l1_ratio=None, max_iter=100,\n",
              "                   multi_class='auto', n_jobs=None, penalty='l2',\n",
              "                   random_state=None, solver='lbfgs', tol=0.0001, verbose=0,\n",
              "                   warm_start=False)"
            ]
          },
          "metadata": {},
          "execution_count": 37
        }
      ]
    },
    {
      "cell_type": "markdown",
      "metadata": {
        "id": "APOI7Hc9tnvr"
      },
      "source": [
        "### 문제 10. 모델 학습 결과 평가하기\n"
      ]
    },
    {
      "cell_type": "code",
      "metadata": {
        "id": "2lIoyMjFFrif"
      },
      "source": [
        "from sklearn.metrics import classification_report"
      ],
      "execution_count": 38,
      "outputs": []
    },
    {
      "cell_type": "code",
      "metadata": {
        "id": "1dD9JnN-FnpC",
        "colab": {
          "base_uri": "https://localhost:8080/"
        },
        "outputId": "eecf4626-80b1-4aca-b45f-f07f5fe3fd1c"
      },
      "source": [
        "# Predict를 수행하고 classification_report() 결과 출력하기\n",
        "pred = model_lr.predict(X_test)\n",
        "print(classification_report(y_test, pred)) #y_test는 정답, pred는 내가 돌린 테스트모형! 둘이 비교해서 정확도 측정"
      ],
      "execution_count": 39,
      "outputs": [
        {
          "output_type": "stream",
          "text": [
            "              precision    recall  f1-score   support\n",
            "\n",
            "           0       0.73      0.73      0.73      1479\n",
            "           1       0.73      0.72      0.73      1485\n",
            "\n",
            "    accuracy                           0.73      2964\n",
            "   macro avg       0.73      0.73      0.73      2964\n",
            "weighted avg       0.73      0.73      0.73      2964\n",
            "\n"
          ],
          "name": "stdout"
        }
      ]
    },
    {
      "cell_type": "markdown",
      "metadata": {
        "id": "xTRTOLTNto3h"
      },
      "source": [
        "### 문제 11. XGBoost 모델 생성/학습하기\n"
      ]
    },
    {
      "cell_type": "code",
      "metadata": {
        "id": "ow28ZRL4F7D5"
      },
      "source": [
        "from xgboost import XGBClassifier"
      ],
      "execution_count": 41,
      "outputs": []
    },
    {
      "cell_type": "code",
      "metadata": {
        "id": "LSSNqFUrGM6R",
        "colab": {
          "base_uri": "https://localhost:8080/"
        },
        "outputId": "146487a1-a323-4857-8a59-ce9b060d5413"
      },
      "source": [
        "# XGBClassifier 모델 생성/학습\n",
        "model_xgb = XGBClassifier()\n",
        "model_xgb.fit(X_train,y_train)"
      ],
      "execution_count": 43,
      "outputs": [
        {
          "output_type": "execute_result",
          "data": {
            "text/plain": [
              "XGBClassifier(base_score=0.5, booster='gbtree', colsample_bylevel=1,\n",
              "              colsample_bynode=1, colsample_bytree=1, gamma=0,\n",
              "              learning_rate=0.1, max_delta_step=0, max_depth=3,\n",
              "              min_child_weight=1, missing=None, n_estimators=100, n_jobs=1,\n",
              "              nthread=None, objective='binary:logistic', random_state=0,\n",
              "              reg_alpha=0, reg_lambda=1, scale_pos_weight=1, seed=None,\n",
              "              silent=None, subsample=1, verbosity=1)"
            ]
          },
          "metadata": {},
          "execution_count": 43
        }
      ]
    },
    {
      "cell_type": "markdown",
      "metadata": {
        "id": "kAisZoSEtp35"
      },
      "source": [
        "### 문제 12. 모델 학습 결과 평가하기\n"
      ]
    },
    {
      "cell_type": "code",
      "metadata": {
        "id": "WLnyYNJwGRgd",
        "colab": {
          "base_uri": "https://localhost:8080/"
        },
        "outputId": "b2c7e3fa-c3be-428a-9a0c-b07f877aaae8"
      },
      "source": [
        "# Predict를 수행하고 classification_report() 결과 출력하기\n",
        "pred = model_xgb.predict(X_test)\n",
        "print(classification_report(y_test, pred))"
      ],
      "execution_count": 45,
      "outputs": [
        {
          "output_type": "stream",
          "text": [
            "              precision    recall  f1-score   support\n",
            "\n",
            "           0       0.72      0.73      0.73      1479\n",
            "           1       0.73      0.72      0.72      1485\n",
            "\n",
            "    accuracy                           0.73      2964\n",
            "   macro avg       0.73      0.73      0.73      2964\n",
            "weighted avg       0.73      0.73      0.73      2964\n",
            "\n"
          ],
          "name": "stdout"
        }
      ]
    },
    {
      "cell_type": "markdown",
      "metadata": {
        "id": "7icVVlSwtr53"
      },
      "source": [
        "## Step5 모델 학습 결과 심화 분석하기\n"
      ]
    },
    {
      "cell_type": "markdown",
      "metadata": {
        "id": "LmaEIOOItvJa"
      },
      "source": [
        "### 문제 13. Logistic Regression 모델 계수로 상관성 파악하기"
      ]
    },
    {
      "cell_type": "code",
      "metadata": {
        "id": "BUIXk9RNGnRa",
        "colab": {
          "base_uri": "https://localhost:8080/",
          "height": 397
        },
        "outputId": "b548f161-1665-47f2-c7bc-5d99d2846adf"
      },
      "source": [
        "# Logistic Regression 모델의 coef_ 속성을 plot하기\n",
        "\n",
        "coef=pd.DataFrame(data=model_lr.coef_[0], index=X.columns, columns=['Model Coefficient'])\n",
        "coef.sort_values(by='Model Coefficient',ascending=False, inplace=True) #오름차순 됨. inplace는 소트 종류 결정\n",
        "plt.bar(coef.index, coef['Model Coefficient']) #sequnce, scalar\n",
        "plt.xticks(rotation=90)\n",
        "plt.grid()\n",
        "plt.show()"
      ],
      "execution_count": 52,
      "outputs": [
        {
          "output_type": "display_data",
          "data": {
            "image/png": "[encoded data removed]",
            "text/plain": [
              "<Figure size 432x288 with 1 Axes>"
            ]
          },
          "metadata": {
            "needs_background": "light"
          }
        }
      ]
    },
    {
      "cell_type": "markdown",
      "metadata": {
        "id": "5yIbQKjktuwg"
      },
      "source": [
        "### 문제 14. XGBoost 모델로 특징의 중요도 확인하기"
      ]
    },
    {
      "cell_type": "code",
      "metadata": {
        "id": "3bY4SZZ4HBdN",
        "colab": {
          "base_uri": "https://localhost:8080/",
          "height": 609
        },
        "outputId": "233aeb4c-c977-4bbc-9487-2bdfa2c90388"
      },
      "source": [
        "# XGBoost 모델의 feature_importances_ 속성을 plot하기\n",
        "fig = plt.figure(figsize=(10, 10))\n",
        "plt.barh(X.columns, model_xgb.feature_importances_) \n",
        "#a.feature_importances_를 기억하자.."
      ],
      "execution_count": 57,
      "outputs": [
        {
          "output_type": "execute_result",
          "data": {
            "text/plain": [
              "<BarContainer object of 31 artists>"
            ]
          },
          "metadata": {},
          "execution_count": 57
        },
        {
          "output_type": "display_data",
          "data": {
            "image/png": "[encoded data removed]",
            "text/plain": [
              "<Figure size 720x720 with 1 Axes>"
            ]
          },
          "metadata": {
            "needs_background": "light"
          }
        }
      ]
    },
    {
      "cell_type": "code",
      "metadata": {
        "id": "3W0dwDAS2T99"
      },
      "source": [
        ""
      ],
      "execution_count": null,
      "outputs": []
    }
  ]
}