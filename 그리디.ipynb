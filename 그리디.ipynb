{
 "cells": [
  {
   "cell_type": "markdown",
   "id": "8844c3c5",
   "metadata": {},
   "source": [
    "# Greedy Algorithm\n",
    "\n",
    "*눈 앞의 가장 큰 걸 선택해서 채워나가는 알고리즘.\n",
    "\n",
    "*예제 : 거스름돈 \n",
    "-1260원 거슬러줘야하고, 동전 단위는 500,100,50,10이라면 500 500 100 100 50 10으로 거슬러준다.\n",
    "-화폐의 종류만큼 반복을 수행해야 한다. 거슬러주는 금액의 크기와는 무관하고 동전의 총 종류에만 영향을 받는다.\n",
    "-화폐의 종류가 K개일 때, 시간복잡도 O(K)\n",
    "\n",
    "*그리디 알고리즘의 정당성\n",
    "-예를 들어 거스름돈 문제에서는 동전의 큰 단위가 항상 작은 단위의 배수이므로 항상 최적의 해를 가져온다.\n",
    " 그렇지 않으면 안 됨. (무작위 단위로 주어진 거스름돈 문제는 다이나믹 알고리즘으로 해결 가능)"
   ]
  },
  {
   "cell_type": "markdown",
   "id": "4a6a9690",
   "metadata": {},
   "source": [
    "# 메모 of 문제 1 (큰 수의 법칙)\n",
    "\n",
    "*map : 자료 전체를 원하는 함수로 바꿔줌\n",
    " ex. a=[1.5,2.0, 3.77] \n",
    "     map(int, a) ==> a=[2,2,4] 됨.\n",
    "  \n",
    "*파이썬의 input함수. c와 다르게 아주 직관적임. 여러개 그냥 나눠서 받기 가능!\n",
    "\n",
    "*break를 쓰는 위치에 따라 while=True가 실행이 되고 안되고 다르다. "
   ]
  },
  {
   "cell_type": "code",
   "execution_count": 7,
   "id": "b061df8f",
   "metadata": {},
   "outputs": [
    {
     "name": "stdout",
     "output_type": "stream",
     "text": [
      "5 10 3\n",
      "3 4 1 6 2\n"
     ]
    }
   ],
   "source": [
    "#실전문제1 : 큰수의 법칙\n",
    "#n개의 리스트에서 m번 더해서 가장 큰 수를 만들기. 같은 인덱스의 수 k번까지만 연속 더하기 가능\n",
    "n,m,k=map(int, input().split())\n",
    "data=list(map(int, input().split()))\n",
    "data.sort() #데이터 자체가 정렬됨"
   ]
  },
  {
   "cell_type": "code",
   "execution_count": 8,
   "id": "c1198eb6",
   "metadata": {},
   "outputs": [
    {
     "data": {
      "text/plain": [
       "56"
      ]
     },
     "execution_count": 8,
     "metadata": {},
     "output_type": "execute_result"
    }
   ],
   "source": [
    "first=data[-1]\n",
    "second=data[-2] #제일 큰 수를 k번만큼 더하고 그 이상 연속 안되니까 두 번째로 작은걸 한 번만 껴줄 요량. \n",
    "ans=0\n",
    "count=0\n",
    "\n",
    "while True:\n",
    "    for j in range(0,k):\n",
    "        if count==m:\n",
    "            break  \n",
    "        ans=ans+first\n",
    "        count+=1\n",
    "    \n",
    "    if count==m:\n",
    "        break \n",
    "        \n",
    "    ans+=second\n",
    "    count+=1\n",
    "       \n",
    "ans"
   ]
  },
  {
   "cell_type": "code",
   "execution_count": null,
   "id": "b1fa9f28",
   "metadata": {},
   "outputs": [],
   "source": []
  }
 ],
 "metadata": {
  "kernelspec": {
   "display_name": "Python 3",
   "language": "python",
   "name": "python3"
  },
  "language_info": {
   "codemirror_mode": {
    "name": "ipython",
    "version": 3
   },
   "file_extension": ".py",
   "mimetype": "text/x-python",
   "name": "python",
   "nbconvert_exporter": "python",
   "pygments_lexer": "ipython3",
   "version": "3.9.2"
  }
 },
 "nbformat": 4,
 "nbformat_minor": 5
}
