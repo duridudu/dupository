{
  "nbformat": 4,
  "nbformat_minor": 0,
  "metadata": {
    "colab": {
      "name": "혼공머신 chapter03_2.ipynb",
      "provenance": [],
      "collapsed_sections": [],
      "authorship_tag": "ABX9TyOAtNurPw9+tYVZ4hYBL+Rl",
      "include_colab_link": true
    },
    "kernelspec": {
      "name": "python3",
      "display_name": "Python 3"
    },
    "language_info": {
      "name": "python"
    }
  },
  "cells": [
    {
      "cell_type": "markdown",
      "metadata": {
        "id": "view-in-github",
        "colab_type": "text"
      },
      "source": [
        "<a href=\"https://colab.research.google.com/github/duridudu/dupository/blob/%ED%98%BC%EA%B3%B5%EB%A8%B8%EC%8B%A0/%ED%98%BC%EA%B3%B5%EB%A8%B8%EC%8B%A0_chapter03_2.ipynb\" target=\"_parent\"><img src=\"https://colab.research.google.com/assets/colab-badge.svg\" alt=\"Open In Colab\"/></a>"
      ]
    },
    {
      "cell_type": "markdown",
      "metadata": {
        "id": "unBN18RZHCTe"
      },
      "source": [
        "#**03-2 선형 회귀**\n",
        "\n",
        "근처 이웃으로 판단하는 것보다 '선형 회귀'를 이용하면 예측하려는 값 근처에 샘플이 없어도 예측할 수 있다.\n",
        "\n",
        "우리는 **길이로**(특성, input) 무게(타깃, 정답)를 **예측**한다.\n",
        "\n",
        "==> train_input이랑 train_target이 짝꿍(훈련용 길이와 훈련용 정답인 무게), \n",
        "\n",
        "==>test_input이랑 test_target이 짝꿍(테스트용 길이와 테스트용 정답인 무게)\n"
      ]
    },
    {
      "cell_type": "markdown",
      "metadata": {
        "id": "VsumRNjDLUYq"
      },
      "source": [
        "##**01. K-최근접 이웃 회귀의 한계**\n",
        "\n",
        "* k-최근접 이웃 모델의 kneighbors() 메소드 쓰면 가장 가까운 이웃까지의 거리, 이웃 샘플의 인덱스 얻을 수 있다.\n",
        "\n",
        "* 파이썬에서는 두 변수에 값 저장 한번에 되는 것 기억하기!!\n",
        "\n",
        "==> 최근접 이웃 회귀는 갑자기 높은 값이 나오면 정확히 예측하지 못한다. "
      ]
    },
    {
      "cell_type": "code",
      "metadata": {
        "colab": {
          "base_uri": "https://localhost:8080/"
        },
        "id": "C5pSvzemOVsj",
        "outputId": "eb530d9b-c56f-4dc3-ebbf-618c2eee653c"
      },
      "source": [
        "import numpy as np\n",
        "perch_length = np.array([8.4, 13.7, 15.0, 16.2, 17.4, 18.0, 18.7, 19.0, 19.6, 20.0, 21.0,\n",
        "       21.0, 21.0, 21.3, 22.0, 22.0, 22.0, 22.0, 22.0, 22.5, 22.5, 22.7,\n",
        "       23.0, 23.5, 24.0, 24.0, 24.6, 25.0, 25.6, 26.5, 27.3, 27.5, 27.5,\n",
        "       27.5, 28.0, 28.7, 30.0, 32.8, 34.5, 35.0, 36.5, 36.0, 37.0, 37.0,\n",
        "       39.0, 39.0, 39.0, 40.0, 40.0, 40.0, 40.0, 42.0, 43.0, 43.0, 43.5,\n",
        "       44.0])\n",
        "perch_weight = np.array([5.9, 32.0, 40.0, 51.5, 70.0, 100.0, 78.0, 80.0, 85.0, 85.0, 110.0,\n",
        "       115.0, 125.0, 130.0, 120.0, 120.0, 130.0, 135.0, 110.0, 130.0,\n",
        "       150.0, 145.0, 150.0, 170.0, 225.0, 145.0, 188.0, 180.0, 197.0,\n",
        "       218.0, 300.0, 260.0, 265.0, 250.0, 250.0, 300.0, 320.0, 514.0,\n",
        "       556.0, 840.0, 685.0, 700.0, 700.0, 690.0, 900.0, 650.0, 820.0,\n",
        "       850.0, 900.0, 1015.0, 820.0, 1100.0, 1000.0, 1100.0, 1000.0,\n",
        "       1000.0])\n",
        "\n",
        "#훈련셋과 테스트셋으로 나눔. 특성 데이터는 2차원 배열로!\n",
        "from sklearn.model_selection import train_test_split\n",
        "train_input, test_input, train_target, test_target=train_test_split(perch_length, perch_weight, random_state=42)\n",
        "\n",
        "train_input=train_input.reshape(-1,1)\n",
        "test_input=test_input.reshape(-1,1)\n",
        "\n",
        "#최근접 이웃 개수를 3으로 하는 모델을 훈련\n",
        "from sklearn.neighbors import KNeighborsRegressor\n",
        "knr=KNeighborsRegressor(n_neighbors=3)\n",
        "knr.fit(train_input, train_target)\n",
        "\n",
        "#길이가 50cm나 되는 농어의 무게 예측\n",
        "print(knr.predict([[50]]))\n",
        "#실제 농어의 무게는 훨씬 많이 나감!"
      ],
      "execution_count": 9,
      "outputs": [
        {
          "output_type": "stream",
          "text": [
            "[1033.33333333]\n"
          ],
          "name": "stdout"
        }
      ]
    },
    {
      "cell_type": "code",
      "metadata": {
        "colab": {
          "base_uri": "https://localhost:8080/",
          "height": 279
        },
        "id": "5DTGYgJiH5G9",
        "outputId": "9b68279d-9def-42c9-b44c-858ef95e615a"
      },
      "source": [
        "import matplotlib.pyplot as plt\n",
        "distances, indexes=knr.kneighbors([[50]]) #최근접 이웃을 산점도에 표시하기.\n",
        "plt.scatter(train_input, train_target)\n",
        "\n",
        "plt.scatter(train_input[indexes], train_target[indexes], marker = 'D') #50cm농어의 이웃 샘플만\n",
        "\n",
        "plt.scatter(50,1033,marker='^') #50cm 농어 데이터\n",
        "plt.xlabel('length')\n",
        "plt.ylabel('weight')\n",
        "plt.show()"
      ],
      "execution_count": 11,
      "outputs": [
        {
          "output_type": "display_data",
          "data": {
            "image/png": "[encoded data removed]",
            "text/plain": [
              "<Figure size 432x288 with 1 Axes>"
            ]
          },
          "metadata": {
            "tags": [],
            "needs_background": "light"
          }
        }
      ]
    },
    {
      "cell_type": "code",
      "metadata": {
        "colab": {
          "base_uri": "https://localhost:8080/"
        },
        "id": "BOl2oJFOIjZu",
        "outputId": "78ba6494-8bfb-4371-cbc7-ed851eff1082"
      },
      "source": [
        "print(np.mean(train_target[indexes])) #이웃 3개의 평균."
      ],
      "execution_count": 12,
      "outputs": [
        {
          "output_type": "stream",
          "text": [
            "1033.3333333333333\n"
          ],
          "name": "stdout"
        }
      ]
    },
    {
      "cell_type": "code",
      "metadata": {
        "colab": {
          "base_uri": "https://localhost:8080/",
          "height": 265
        },
        "id": "koW70HwBImcS",
        "outputId": "22047481-526c-46b8-8365-226ba0d1e023"
      },
      "source": [
        "#그렇다면 k최근접 이웃 회귀는 100cm짜리 농어도 1033으로 예측할 것!\n",
        "distances, indexes= knr.kneighbors([[100]])\n",
        "plt.scatter(train_input, train_target) #기존 특성, 타깃 데이터\n",
        "plt.scatter(train_input[indexes], train_target[indexes], marker='D') #이웃 3개\n",
        "\n",
        "#길이 100cm짜리 농어 데이터\n",
        "plt.scatter(100,1033,marker='^')\n",
        "plt.xlabel=('length')\n",
        "plt.ylabel=('weight')\n",
        "plt.show() \n",
        "\n",
        "#이런 식이면 농어가 아무리 커져도 예측 무게가 더 늘어나지 않는다!"
      ],
      "execution_count": 16,
      "outputs": [
        {
          "output_type": "display_data",
          "data": {
            "image/png": "[encoded data removed]",
            "text/plain": [
              "<Figure size 432x288 with 1 Axes>"
            ]
          },
          "metadata": {
            "tags": [],
            "needs_background": "light"
          }
        }
      ]
    },
    {
      "cell_type": "markdown",
      "metadata": {
        "id": "sx0R35tfNiGx"
      },
      "source": [
        "##**02. 선형 회귀**\n",
        "데이터들의 특성을 잘 나타내는 직선 or 곡선으로 예측하기\n",
        "\n",
        "* sklearn.linear_model 패키지의 LinearRegression 클래스\n",
        "\n",
        "* 농어 무게 = (기울기 a) x (농어 길이) + 절편 b  (ax+b=y 식)\n",
        "\n",
        "==> a, b 값은 coef_, intercept_에 저장되어 있음.\n"
      ]
    },
    {
      "cell_type": "code",
      "metadata": {
        "colab": {
          "base_uri": "https://localhost:8080/"
        },
        "id": "wKEu9ZG7IoDB",
        "outputId": "c7298c1f-b151-4d91-b76e-0dac6d1ea6e1"
      },
      "source": [
        "from sklearn.linear_model import LinearRegression\n",
        "lr=LinearRegression()\n",
        "\n",
        "#선형회귀모델 훈련\n",
        "lr.fit(train_input, train_target)\n",
        "\n",
        "#50cm 농어 예측해보기\n",
        "print(lr.predict([[50]]))"
      ],
      "execution_count": 17,
      "outputs": [
        {
          "output_type": "stream",
          "text": [
            "[1241.83860323]\n"
          ],
          "name": "stdout"
        }
      ]
    },
    {
      "cell_type": "code",
      "metadata": {
        "colab": {
          "base_uri": "https://localhost:8080/"
        },
        "id": "2-gG4lIHIpoa",
        "outputId": "09fba7d0-f19f-49fd-ab74-54020a8d1512"
      },
      "source": [
        "#a와 b 값은\n",
        "print(lr.coef_, lr.intercept_)"
      ],
      "execution_count": 18,
      "outputs": [
        {
          "output_type": "stream",
          "text": [
            "[39.01714496] -709.0186449535477\n"
          ],
          "name": "stdout"
        }
      ]
    },
    {
      "cell_type": "code",
      "metadata": {
        "colab": {
          "base_uri": "https://localhost:8080/",
          "height": 480
        },
        "id": "FZsqQsFjObu3",
        "outputId": "bfe1d697-d6d1-4652-d980-e400949c44da"
      },
      "source": [
        "#농어의 길이 15에서 50까지를 직선으로 그려보자.\n",
        "plt.scatter(train_input, train_target)\n",
        "\n",
        "#15에서 50까지 1차 방정식 그래프 그리기\n",
        "plt.plot([15,50],[15*lr.coef_+lr.intercept_, 50*lr.coef_+lr.intercept_])\n",
        "\n",
        "#50cm 농어 데이터\n",
        "plt.scatter(50,1241.8, marker='^')\n",
        "plt.xlabel('length')\n",
        "plt.ylabel('weight')\n",
        "plt.show()"
      ],
      "execution_count": 19,
      "outputs": [
        {
          "output_type": "error",
          "ename": "TypeError",
          "evalue": "ignored",
          "traceback": [
            "\u001b[0;31m---------------------------------------------------------------------------\u001b[0m",
            "\u001b[0;31mTypeError\u001b[0m                                 Traceback (most recent call last)",
            "\u001b[0;32m<ipython-input-19-52562936c2a0>\u001b[0m in \u001b[0;36m<module>\u001b[0;34m()\u001b[0m\n\u001b[1;32m      7\u001b[0m \u001b[0;31m#50cm 농어 데이터\u001b[0m\u001b[0;34m\u001b[0m\u001b[0;34m\u001b[0m\u001b[0;34m\u001b[0m\u001b[0m\n\u001b[1;32m      8\u001b[0m \u001b[0mplt\u001b[0m\u001b[0;34m.\u001b[0m\u001b[0mscatter\u001b[0m\u001b[0;34m(\u001b[0m\u001b[0;36m50\u001b[0m\u001b[0;34m,\u001b[0m\u001b[0;36m1241.8\u001b[0m\u001b[0;34m,\u001b[0m \u001b[0mmarker\u001b[0m\u001b[0;34m=\u001b[0m\u001b[0;34m'^'\u001b[0m\u001b[0;34m)\u001b[0m\u001b[0;34m\u001b[0m\u001b[0;34m\u001b[0m\u001b[0m\n\u001b[0;32m----> 9\u001b[0;31m \u001b[0mplt\u001b[0m\u001b[0;34m.\u001b[0m\u001b[0mxlabel\u001b[0m\u001b[0;34m(\u001b[0m\u001b[0;34m'length'\u001b[0m\u001b[0;34m)\u001b[0m\u001b[0;34m\u001b[0m\u001b[0;34m\u001b[0m\u001b[0m\n\u001b[0m\u001b[1;32m     10\u001b[0m \u001b[0mplt\u001b[0m\u001b[0;34m.\u001b[0m\u001b[0mylabel\u001b[0m\u001b[0;34m(\u001b[0m\u001b[0;34m'weight'\u001b[0m\u001b[0;34m)\u001b[0m\u001b[0;34m\u001b[0m\u001b[0;34m\u001b[0m\u001b[0m\n\u001b[1;32m     11\u001b[0m \u001b[0mplt\u001b[0m\u001b[0;34m.\u001b[0m\u001b[0mshow\u001b[0m\u001b[0;34m(\u001b[0m\u001b[0;34m)\u001b[0m\u001b[0;34m\u001b[0m\u001b[0;34m\u001b[0m\u001b[0m\n",
            "\u001b[0;31mTypeError\u001b[0m: 'str' object is not callable"
          ]
        },
        {
          "output_type": "display_data",
          "data": {
            "image/png": "[encoded data removed]",
            "text/plain": [
              "<Figure size 432x288 with 1 Axes>"
            ]
          },
          "metadata": {
            "tags": [],
            "needs_background": "light"
          }
        }
      ]
    },
    {
      "cell_type": "code",
      "metadata": {
        "colab": {
          "base_uri": "https://localhost:8080/"
        },
        "id": "eUaoD3n1QVRz",
        "outputId": "00ae3dad-e5c0-477d-b717-0b6e52a91a7d"
      },
      "source": [
        "#결정계수를 확인해보자\n",
        "print(lr.score(train_input, train_target))\n",
        "print(lr.score(test_input, test_target))\n",
        "\n",
        "#훈련세트 점수가 더 높다. 전체적으로 과소적합.\n",
        "#그리고 위 그래프를 보면 농어 무게가 0까지 내려갈 예정==>2차방정식 필요!"
      ],
      "execution_count": 20,
      "outputs": [
        {
          "output_type": "stream",
          "text": [
            "0.9398463339976039\n",
            "0.8247503123313558\n"
          ],
          "name": "stdout"
        }
      ]
    },
    {
      "cell_type": "markdown",
      "metadata": {
        "id": "rXwkgf35Q8fN"
      },
      "source": [
        "##**03. 다항 회귀**\n",
        "최적의 곡선을 찾아보자 by. 2차 방정식\n",
        "\n",
        "==> 길이를 제곱한 항이 훈련 세트에 추가되어야 함. by. column_stack() 함수. 두 배열 붙임\n",
        "\n",
        "==> **타깃값은 그대로 사용함!!** 답은 그대로 두고 훈련"
      ]
    },
    {
      "cell_type": "code",
      "metadata": {
        "colab": {
          "base_uri": "https://localhost:8080/"
        },
        "id": "SUkp2zK7Qk1R",
        "outputId": "60af816c-cb3f-4107-ee13-31846245a4cf"
      },
      "source": [
        "train_poly=np.column_stack((train_input**2, train_input))\n",
        "test_poly=np.column_stack((test_input**2, test_input))\n",
        "print(train_poly.shape, test_poly.shape)\n",
        "#열이 2줄로 늘어남!"
      ],
      "execution_count": 22,
      "outputs": [
        {
          "output_type": "stream",
          "text": [
            "(42, 2) (14, 2)\n"
          ],
          "name": "stdout"
        }
      ]
    },
    {
      "cell_type": "code",
      "metadata": {
        "colab": {
          "base_uri": "https://localhost:8080/"
        },
        "id": "z_eSIpIbRkdJ",
        "outputId": "54fa7e55-d5f1-40e6-bea7-0865acca70b7"
      },
      "source": [
        "lr= LinearRegression()\n",
        "lr.fit(train_poly, train_target) #훈련 제곱셋과 안제곱 타깃\n",
        "print(lr.predict([[50**2, 50]]))"
      ],
      "execution_count": 24,
      "outputs": [
        {
          "output_type": "stream",
          "text": [
            "[1573.98423528]\n"
          ],
          "name": "stdout"
        }
      ]
    },
    {
      "cell_type": "code",
      "metadata": {
        "colab": {
          "base_uri": "https://localhost:8080/"
        },
        "id": "27C4lzk4R_WN",
        "outputId": "716b9077-94f3-4d66-eb26-75d9153f737f"
      },
      "source": [
        "#a,b,c값 보기\n",
        "print(lr.coef_, lr.intercept_)\n",
        "#==> 무게=1.01길이^2 - 21.6길이 + 116.05"
      ],
      "execution_count": 25,
      "outputs": [
        {
          "output_type": "stream",
          "text": [
            "[  1.01433211 -21.55792498] 116.05021078278276\n"
          ],
          "name": "stdout"
        }
      ]
    },
    {
      "cell_type": "code",
      "metadata": {
        "colab": {
          "base_uri": "https://localhost:8080/",
          "height": 480
        },
        "id": "X93xSuS7T1Qt",
        "outputId": "c68e08b3-90f3-45f1-f812-ae7e3eee71b1"
      },
      "source": [
        "#구간별 직선을 그려보자\n",
        "point=np.arange(15,50)\n",
        "plt.scatter(train_input, train_target) #산포도\n",
        "plt.plot(point, 1.01*point**2-21.6*point + 116.05) #곡선\n",
        "\n",
        "plt.scatter(50, 1574, marker='^')\n",
        "plt.xlabel('length')\n",
        "plt.ylabel('weight')\n",
        "plt.show()\n",
        "#더 적합, 음수 나오는 일도 없어짐"
      ],
      "execution_count": 26,
      "outputs": [
        {
          "output_type": "error",
          "ename": "TypeError",
          "evalue": "ignored",
          "traceback": [
            "\u001b[0;31m---------------------------------------------------------------------------\u001b[0m",
            "\u001b[0;31mTypeError\u001b[0m                                 Traceback (most recent call last)",
            "\u001b[0;32m<ipython-input-26-c019075c0028>\u001b[0m in \u001b[0;36m<module>\u001b[0;34m()\u001b[0m\n\u001b[1;32m      5\u001b[0m \u001b[0;34m\u001b[0m\u001b[0m\n\u001b[1;32m      6\u001b[0m \u001b[0mplt\u001b[0m\u001b[0;34m.\u001b[0m\u001b[0mscatter\u001b[0m\u001b[0;34m(\u001b[0m\u001b[0;36m50\u001b[0m\u001b[0;34m,\u001b[0m \u001b[0;36m1574\u001b[0m\u001b[0;34m,\u001b[0m \u001b[0mmarker\u001b[0m\u001b[0;34m=\u001b[0m\u001b[0;34m'^'\u001b[0m\u001b[0;34m)\u001b[0m\u001b[0;34m\u001b[0m\u001b[0;34m\u001b[0m\u001b[0m\n\u001b[0;32m----> 7\u001b[0;31m \u001b[0mplt\u001b[0m\u001b[0;34m.\u001b[0m\u001b[0mxlabel\u001b[0m\u001b[0;34m(\u001b[0m\u001b[0;34m'length'\u001b[0m\u001b[0;34m)\u001b[0m\u001b[0;34m\u001b[0m\u001b[0;34m\u001b[0m\u001b[0m\n\u001b[0m\u001b[1;32m      8\u001b[0m \u001b[0mplt\u001b[0m\u001b[0;34m.\u001b[0m\u001b[0mylabel\u001b[0m\u001b[0;34m(\u001b[0m\u001b[0;34m'weight'\u001b[0m\u001b[0;34m)\u001b[0m\u001b[0;34m\u001b[0m\u001b[0;34m\u001b[0m\u001b[0m\n\u001b[1;32m      9\u001b[0m \u001b[0mplt\u001b[0m\u001b[0;34m.\u001b[0m\u001b[0mshow\u001b[0m\u001b[0;34m(\u001b[0m\u001b[0;34m)\u001b[0m\u001b[0;34m\u001b[0m\u001b[0;34m\u001b[0m\u001b[0m\n",
            "\u001b[0;31mTypeError\u001b[0m: 'str' object is not callable"
          ]
        },
        {
          "output_type": "display_data",
          "data": {
            "image/png": "[encoded data removed]",
            "text/plain": [
              "<Figure size 432x288 with 1 Axes>"
            ]
          },
          "metadata": {
            "tags": [],
            "needs_background": "light"
          }
        }
      ]
    },
    {
      "cell_type": "code",
      "metadata": {
        "colab": {
          "base_uri": "https://localhost:8080/"
        },
        "id": "mJ2sQV-mndDf",
        "outputId": "a60672a7-da55-460f-cd66-e92c70ee1caf"
      },
      "source": [
        "#결정계수 다시 측정-->훨씬 높아짐!\n",
        "print(lr.score(train_poly, train_target))\n",
        "print(lr.score(test_poly, test_target))"
      ],
      "execution_count": 27,
      "outputs": [
        {
          "output_type": "stream",
          "text": [
            "0.9706807451768623\n",
            "0.9775935108325122\n"
          ],
          "name": "stdout"
        }
      ]
    }
  ]
}
