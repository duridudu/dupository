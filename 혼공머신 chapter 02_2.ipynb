{
  "nbformat": 4,
  "nbformat_minor": 0,
  "metadata": {
    "colab": {
      "name": "혼공머신chpt2-2.ipynb",
      "provenance": [],
      "collapsed_sections": [],
      "authorship_tag": "ABX9TyO1kK+/tUtlGnLwPSmlu3V9",
      "include_colab_link": true
    },
    "kernelspec": {
      "name": "python3",
      "display_name": "Python 3"
    },
    "language_info": {
      "name": "python"
    }
  },
  "cells": [
    {
      "cell_type": "markdown",
      "metadata": {
        "id": "view-in-github",
        "colab_type": "text"
      },
      "source": [
        "<a href=\"https://colab.research.google.com/github/duridudu/dupository/blob/%ED%98%BC%EA%B3%B5%EB%A8%B8%EC%8B%A0/%ED%98%BC%EA%B3%B5%EB%A8%B8%EC%8B%A0chpt2_2.ipynb\" target=\"_parent\"><img src=\"https://colab.research.google.com/assets/colab-badge.svg\" alt=\"Open In Colab\"/></a>"
      ]
    },
    {
      "cell_type": "code",
      "metadata": {
        "colab": {
          "base_uri": "https://localhost:8080/"
        },
        "id": "d7M3vIKExxKQ",
        "outputId": "1209b50b-ba36-4cc0-a5c9-18e1866a84a8"
      },
      "source": [
        "import numpy as np\n",
        "\n",
        "fish_length = [25.4, 26.3, 26.5, 29.0, 29.0, 29.7, 29.7, 30.0, 30.0, 30.7, 31.0, 31.0, \n",
        "                31.5, 32.0, 32.0, 32.0, 33.0, 33.0, 33.5, 33.5, 34.0, 34.0, 34.5, 35.0, \n",
        "                35.0, 35.0, 35.0, 36.0, 36.0, 37.0, 38.5, 38.5, 39.5, 41.0, 41.0, 9.8, \n",
        "                10.5, 10.6, 11.0, 11.2, 11.3, 11.8, 11.8, 12.0, 12.2, 12.4, 13.0, 14.3, 15.0]\n",
        "fish_weight = [242.0, 290.0, 340.0, 363.0, 430.0, 450.0, 500.0, 390.0, 450.0, 500.0, 475.0, 500.0, \n",
        "                500.0, 340.0, 600.0, 600.0, 700.0, 700.0, 610.0, 650.0, 575.0, 685.0, 620.0, 680.0, \n",
        "                700.0, 725.0, 720.0, 714.0, 850.0, 1000.0, 920.0, 955.0, 925.0, 975.0, 950.0, 6.7, \n",
        "                7.5, 7.0, 9.7, 9.8, 8.7, 10.0, 9.9, 9.8, 12.2, 13.4, 12.2, 19.7, 19.9]\n",
        "\n",
        "fish_data=np.column_stack((fish_length, fish_weight)) #column_stack:두 배열 한개씩 짝지어서 배열 만들어 \n",
        "print(fish_data[:5])"
      ],
      "execution_count": 2,
      "outputs": [
        {
          "output_type": "stream",
          "text": [
            "[[ 25.4 242. ]\n",
            " [ 26.3 290. ]\n",
            " [ 26.5 340. ]\n",
            " [ 29.  363. ]\n",
            " [ 29.  430. ]]\n"
          ],
          "name": "stdout"
        }
      ]
    },
    {
      "cell_type": "code",
      "metadata": {
        "colab": {
          "base_uri": "https://localhost:8080/"
        },
        "id": "1s9RGqUTyfpW",
        "outputId": "cc4b8320-e03d-4bd8-a40f-31cbd43fa832"
      },
      "source": [
        "fish_target=np.concatenate((np.ones(35), np.zeros(14))) #concatenate:가로 순으로 이어서 배열 만들어 줌\n",
        "#알아서 트레이닝셋이랑 훈련셋을 만들어줌(랜덤으로 섞어주기까지..)\n",
        "from sklearn.model_selection import train_test_split\n",
        "train_input, test_input, train_target, test_target=train_test_split(fish_data,fish_target, stratify=fish_target, random_state=42)\n",
        "#fish 데이터랑 타겟을 각각 트레이닝셋과 훈련셋으로 나눠줌. (랜덤으로) stratify는 훈련데이터의 비율 지정.(fish_data 비율에 맞춰서)\n",
        "print(test_target) #이제 비율이 비슷해짐"
      ],
      "execution_count": 3,
      "outputs": [
        {
          "output_type": "stream",
          "text": [
            "[0. 0. 1. 0. 1. 0. 1. 1. 1. 1. 1. 1. 1.]\n"
          ],
          "name": "stdout"
        }
      ]
    },
    {
      "cell_type": "code",
      "metadata": {
        "colab": {
          "base_uri": "https://localhost:8080/",
          "height": 279
        },
        "id": "4lUaQhjx_i9w",
        "outputId": "d85b960f-6217-4df3-eb55-5f24f499f32b"
      },
      "source": [
        "from sklearn.neighbors import KNeighborsClassifier\n",
        "kn=KNeighborsClassifier()\n",
        "kn.fit(train_input, train_target) #k최근접 이웃으로 훈련. \n",
        "kn.score(test_input, test_target)\n",
        "\n",
        "import matplotlib.pyplot as plt\n",
        "plt.scatter(train_input[:,0], train_input[:,1]) #왼쪽거 한 줄(length), 오른쪽거 한 줄(weight)을 그릴 것 [-,-]여기에서\n",
        "plt.scatter(25,150,marker='^') \n",
        "plt.xlabel('length')\n",
        "plt.ylabel('weight')\n",
        "plt.show() #25,150은 도미랑 가까운데 왜 빙어에 가깝다고 판단한것?-->응 착시현상~ *길이와 무게의 sclae이 달라서 달라보임\n",
        "##데이터전처리로 두 데이터의 스케일을 동일하게 맞춰줘야함\n",
        "#표준점수=(원본데이터-평균)/표준편차"
      ],
      "execution_count": 10,
      "outputs": [
        {
          "output_type": "display_data",
          "data": {
            "image/png": "[encoded data removed]",
            "text/plain": [
              "<Figure size 432x288 with 1 Axes>"
            ]
          },
          "metadata": {
            "tags": [],
            "needs_background": "light"
          }
        }
      ]
    },
    {
      "cell_type": "code",
      "metadata": {
        "colab": {
          "base_uri": "https://localhost:8080/",
          "height": 296
        },
        "id": "nw_tK0wcAL7f",
        "outputId": "a4d72e5d-f425-4ae8-d2fa-74749af7a7b7"
      },
      "source": [
        "mean=np.mean(train_input, axis=0)\n",
        "std=np.mean(train_input, axis=0) #행을 따라 각 열의 통계값을 계산함\n",
        "train_scaled=(train_input-mean)/std\n",
        "new=([25,150]-mean)/std\n",
        "plt.scatter(train_scaled[:,0], train_scaled[:,1]) #왼쪽거 한 줄(length), 오른쪽거 한 줄(weight)을 그릴 것 [-,-]여기에서\n",
        "plt.scatter(new[0],new[1],marker='^') \n",
        "plt.xlabel('length')\n",
        "plt.ylabel('weight')"
      ],
      "execution_count": 13,
      "outputs": [
        {
          "output_type": "execute_result",
          "data": {
            "text/plain": [
              "Text(0, 0.5, 'weight')"
            ]
          },
          "metadata": {
            "tags": []
          },
          "execution_count": 13
        },
        {
          "output_type": "display_data",
          "data": {
            "image/png": "[encoded data removed]",
            "text/plain": [
              "<Figure size 432x288 with 1 Axes>"
            ]
          },
          "metadata": {
            "tags": [],
            "needs_background": "light"
          }
        }
      ]
    },
    {
      "cell_type": "code",
      "metadata": {
        "colab": {
          "base_uri": "https://localhost:8080/"
        },
        "id": "HCT4hBp1GYFT",
        "outputId": "c90f1cc0-e969-4dbd-bcff-0225caeaccb6"
      },
      "source": [
        "kn.fit(train_scaled, train_target)\n",
        "test_scaled=(test_input-mean)/std\n",
        "kn.score(test_scaled, test_target)"
      ],
      "execution_count": 15,
      "outputs": [
        {
          "output_type": "execute_result",
          "data": {
            "text/plain": [
              "1.0"
            ]
          },
          "metadata": {
            "tags": []
          },
          "execution_count": 15
        }
      ]
    },
    {
      "cell_type": "code",
      "metadata": {
        "colab": {
          "base_uri": "https://localhost:8080/"
        },
        "id": "2usfQtuRHMs4",
        "outputId": "75c9fa55-b809-4d88-ea2e-e025c244d24f"
      },
      "source": [
        "print(kn.predict([new]))"
      ],
      "execution_count": 16,
      "outputs": [
        {
          "output_type": "stream",
          "text": [
            "[1.]\n"
          ],
          "name": "stdout"
        }
      ]
    },
    {
      "cell_type": "code",
      "metadata": {
        "colab": {
          "base_uri": "https://localhost:8080/",
          "height": 296
        },
        "id": "iZ2no894HUoe",
        "outputId": "d1c40bc4-668e-47c6-840c-68a5b8258ffc"
      },
      "source": [
        "distances, indexes=kn.kneighbors([new]) \n",
        "plt.scatter(train_scaled[:,0], train_scaled[:,1]) #왼쪽거 한 줄(length), 오른쪽거 한 줄(weight)을 그릴 것 [-,-]여기에서\n",
        "plt.scatter(new[0],new[1],marker='^')\n",
        "plt.scatter(train_scaled[indexes, 0], train_scaled[indexes,1], marker='D')\n",
        "plt.xlabel('length')\n",
        "plt.ylabel('weight') #가까운 5개 쌍까지 출력 오나료"
      ],
      "execution_count": 20,
      "outputs": [
        {
          "output_type": "execute_result",
          "data": {
            "text/plain": [
              "Text(0, 0.5, 'weight')"
            ]
          },
          "metadata": {
            "tags": []
          },
          "execution_count": 20
        },
        {
          "output_type": "display_data",
          "data": {
            "image/png": "[encoded data removed]",
            "text/plain": [
              "<Figure size 432x288 with 1 Axes>"
            ]
          },
          "metadata": {
            "tags": [],
            "needs_background": "light"
          }
        }
      ]
    },
    {
      "cell_type": "code",
      "metadata": {
        "id": "KLNcRGYBPItX"
      },
      "source": [
        ""
      ],
      "execution_count": null,
      "outputs": []
    },
    {
      "cell_type": "code",
      "metadata": {
        "id": "vqRa1a5QP9lO"
      },
      "source": [
        ""
      ],
      "execution_count": null,
      "outputs": []
    },
    {
      "cell_type": "code",
      "metadata": {
        "id": "rNgLcHA3SBt2"
      },
      "source": [
        ""
      ],
      "execution_count": null,
      "outputs": []
    },
    {
      "cell_type": "markdown",
      "metadata": {
        "id": "HsVfqUt_IKgz"
      },
      "source": [
        "# <스케일이 다른 특성 처리>\n",
        "1.특성을 표준점수로 변환 : 표준점수=(원본데이터-평균)/표준편차\n",
        "2.훈련셋을 변환한 방식 그대로 텍스트셋을 변환해야 함!"
      ]
    }
  ]
}
