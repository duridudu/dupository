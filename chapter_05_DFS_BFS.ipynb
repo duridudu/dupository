{
  "nbformat": 4,
  "nbformat_minor": 0,
  "metadata": {
    "colab": {
      "name": "chapter_05_DFS/BFS.ipynb",
      "provenance": [],
      "collapsed_sections": [],
      "authorship_tag": "ABX9TyPgPvVJVp5idoDzKoXJgz4p",
      "include_colab_link": true
    },
    "kernelspec": {
      "name": "python3",
      "display_name": "Python 3"
    },
    "language_info": {
      "name": "python"
    }
  },
  "cells": [
    {
      "cell_type": "markdown",
      "metadata": {
        "id": "view-in-github",
        "colab_type": "text"
      },
      "source": [
        "<a href=\"https://colab.research.google.com/github/duridudu/dupository/blob/%EC%9D%B4%EA%B2%83%EC%9D%B4-%EC%95%8C%EA%B3%A0%EB%A6%AC%EC%A6%98%EC%9D%B4%EB%8B%A4/chapter_05_DFS_BFS.ipynb\" target=\"_parent\"><img src=\"https://colab.research.google.com/assets/colab-badge.svg\" alt=\"Open In Colab\"/></a>"
      ]
    },
    {
      "cell_type": "markdown",
      "metadata": {
        "id": "cXCj-JXWCuHA"
      },
      "source": [
        "#**01. 꼭 필요한 자료구조 기초**\n",
        "* DFS, BFS 같은 탐색을 하려면 스택, 큐를 알아야 함.\n",
        "\n",
        "* 자료구조 : 데이터를 표현하고 관리하고 처리하기 위한 구조\n"
      ]
    },
    {
      "cell_type": "markdown",
      "metadata": {
        "id": "hR_I2qHnEPaw"
      },
      "source": [
        "##**스택**\n",
        "* 후입선출 : 박스 쌓기. 나중에 들어간게 가장 먼저 삭제됨. (입구 하나! Like 엘레베이터)\n",
        "\n",
        "* 별도의 라이브러리 필요 없음!\n",
        "\n",
        "* append()와 pop() 사용 (pop 메소드는 리스트의 가장 뒤쪽에서 데이터 꺼내기 때문)\n",
        "\n",
        "##**큐**\n",
        "* 선입선출(FIFO) : 줄서기. 처음 들어간게 먼저 삭제됨. (입구/출구 Like 미끄럼틀)\n",
        "\n",
        "* 구현시 **collections 모듈**에서 제공하는 deque 자료구조 이용! \n",
        "\n",
        "  ==> 입력은 append(), 삭제는 popleft(), reverser()로 역순 가능. list(queue)하면 리스트 자료형으로 변경됨.\n",
        "\n",
        "##**재귀함수**\n",
        "* 자기 자신을 다시 호출하는 함수. \n",
        "\n",
        "* 재귀함수의 종료 조건을 꼭 정해야 함.\n",
        "\n",
        "* 재귀함수는 내부적으로 스택 자료구조와 동일 (가장 마지막에 호출한 함수가 먼저 수행을 끝내야 그 앞의 함수 호출이 종료되기 때문) ex. DFS\n",
        "\n",
        "* 다이나믹 프로그래밍과 밀접한 관련이 있다. by. 점화식"
      ]
    },
    {
      "cell_type": "code",
      "metadata": {
        "colab": {
          "base_uri": "https://localhost:8080/"
        },
        "id": "rAH5__BsCPZJ",
        "outputId": "4a6150c2-52a9-41ed-baf2-3cc8539fc40d"
      },
      "source": [
        "#스택 간단 구현\n",
        "stack=[]\n",
        "\n",
        "#+5 2 3 7, -, +1 4, -\n",
        "stack.append(5)\n",
        "stack.append(2)\n",
        "stack.append(3)\n",
        "stack.append(7)\n",
        "stack.pop()\n",
        "stack.append(1)\n",
        "stack.append(4)\n",
        "stack.pop()\n",
        "\n",
        "print(stack) #최하단 원소부터 출력\n",
        "print(stack[::-1]) #최상단 원소부터 출력(삭제시 이 순서대로 삭제됨)"
      ],
      "execution_count": null,
      "outputs": [
        {
          "output_type": "stream",
          "text": [
            "[5, 2, 3, 1]\n",
            "[1, 3, 2, 5]\n"
          ],
          "name": "stdout"
        }
      ]
    },
    {
      "cell_type": "code",
      "metadata": {
        "colab": {
          "base_uri": "https://localhost:8080/"
        },
        "id": "w-8GcS0ZF2vQ",
        "outputId": "1b513701-4859-4377-9c55-137cf0c8abf9"
      },
      "source": [
        "#큐 간단구현\n",
        "from collections import deque\n",
        "queue=deque()\n",
        "\n",
        "#+5 2 3 7, -, +1 4, -\n",
        "queue.append(5)\n",
        "queue.append(2)\n",
        "queue.append(3)\n",
        "queue.append(7)\n",
        "queue.popleft()\n",
        "queue.append(1)\n",
        "queue.append(4)\n",
        "queue.popleft()\n",
        "\n",
        "print(queue) #먼저 들어온 순서대로 출력. 이 순서대로 삭제됨\n",
        "queue.reverse() #나중에 들어온 순서대로 출력하기 위해 리버스. \n",
        "print(queue)\n"
      ],
      "execution_count": null,
      "outputs": [
        {
          "output_type": "stream",
          "text": [
            "deque([3, 7, 1, 4])\n",
            "deque([4, 1, 7, 3])\n"
          ],
          "name": "stdout"
        }
      ]
    },
    {
      "cell_type": "code",
      "metadata": {
        "colab": {
          "base_uri": "https://localhost:8080/"
        },
        "id": "a97No-IMHAZX",
        "outputId": "d53c4022-6441-46aa-efdb-cefbbce7aa03"
      },
      "source": [
        "#재귀함수 간단 구현-팩토리얼 문제가 대표적임\n",
        "#1*2*3*...*(n-1)*n --> n이 1 이하가 되었을 때 함수를 종료하는 재귀함수의 형태\n",
        "\n",
        "#반복적으로 구현한 n!\n",
        "def factorial_iterative(n):\n",
        "  result=1\n",
        "  #1부터 n까지 차례대로 곱하기\n",
        "  for i in range(1,n+1):\n",
        "    result*=i\n",
        "  return result\n",
        "\n",
        "#재귀적으로 구현한 n!\n",
        "def factorial_recursive(n):\n",
        "  #n이 1 이하일 때 1 반환\n",
        "  if n<=1:\n",
        "    return 1\n",
        "  #n!=n*(n-1)!을 그대로 코드로 작성\n",
        "  return n*factorial_recursive(n-1)\n",
        "\n",
        "#비교\n",
        "print('반복적으로 구현 :', factorial_iterative(5))\n",
        "print('재귀적으로 구현 :', factorial_recursive(5))\n",
        "\n",
        "#==> 점화식 종료조건 : n이 0 혹은 1일때"
      ],
      "execution_count": null,
      "outputs": [
        {
          "output_type": "stream",
          "text": [
            "반복적으로 구현 : 120\n",
            "재귀적으로 구현 : 120\n"
          ],
          "name": "stdout"
        }
      ]
    },
    {
      "cell_type": "markdown",
      "metadata": {
        "id": "bkF-XaFENhA4"
      },
      "source": [
        "##**02. DFS/BFS**\n",
        "0. 그래프를 표현하는 두가지 방법\n",
        "\n",
        "- 인접 행렬 (Adjacency Matrix) : 2차원 배열에 각 노드가 연결된 형태를 기록하는 방식\n",
        "\n",
        "  ==> 인접 리스트에 비해 찾고자 하는 노드 바로 찾을 수 있음. (인접리스트는 연결된 것 타고 타고 가봐야하기 때문)\n",
        "\n",
        "- 인접 리스트 (Adjacency List) : 모든 노드에 연결된 노드에 대한 정보를 차례대로 연결하여 저장 by.연결 리스트라는 자료구조\n",
        "\n",
        "  ==> 인접 행렬에 비해 메모리를 효율적으로 사용. 모두 저장 안하고 연결된 것만 저장하면 되기 때문\n",
        "\n",
        "</br>\n",
        "\n",
        "1. DFS : Depth-First Search, 깊이 우선 탐색\n",
        "\n",
        "  최대한 깊숙이 들어가서 노드 방문 후, 다시 돌아가 다른 경로로 탐색하는 알고리즘. **스택, 재귀함수 사용**\n",
        "\n",
        "  1) 탐색 시작 노드를 스택에 삽입하고 방문 처리를 한다.\n",
        "\n",
        "  2) 스택의 최상단 노드에 방문하지 않은 인접 노드가 있으면 그 인접 노드를 스택에 넣고 방문 처리를 한다. \n",
        "  \n",
        "  방문하지 않은 인접 노드가 없으면 스택에서 최상단 노드를 꺼낸다.\n",
        "\n",
        "  3) 2번 과정을 더이상 수행할 수 없을 때까지 반복한다.\n",
        "  \n",
        "</br>\n",
        "\n",
        "2. BFS : Breadth First Search, 너비 우선 탐색\n",
        "\n",
        "  가까운 노드부터 탐색하는 알고리즘. **큐 사용** \n",
        "\n",
        "  인접한 노드를 반복적으로 큐에 넣도록 알고리즘을 작성하면 자연스럽게 먼저 들어온 것이 먼저 나가게 되어, 가까운 노드부터 탐색을 진행하게 된다.\n",
        "\n",
        "  1) 탐색 시작 노드를 큐에 삽입하고 방문 처리를 한다.\n",
        "\n",
        "  2) 큐에서 노드를 꺼내 해당 노드의 인접 노드 중에서 방문하지 않은 \n",
        "\n",
        "\n"
      ]
    },
    {
      "cell_type": "code",
      "metadata": {
        "colab": {
          "base_uri": "https://localhost:8080/"
        },
        "id": "OrEP1k795bG3",
        "outputId": "9bba2b26-94d2-4c12-f3db-312928629196"
      },
      "source": [
        "#인접 행렬 방식의 그래프\n",
        "INF=9999999999\n",
        "graph=[\n",
        "       [0,7,5],\n",
        "       [7,0,INF],\n",
        "       [5,INF,0]\n",
        "]\n",
        "\n",
        "print(graph)"
      ],
      "execution_count": null,
      "outputs": [
        {
          "output_type": "stream",
          "text": [
            "[[0, 7, 5], [7, 0, 9999999999], [5, 9999999999, 0]]\n"
          ],
          "name": "stdout"
        }
      ]
    },
    {
      "cell_type": "code",
      "metadata": {
        "colab": {
          "base_uri": "https://localhost:8080/"
        },
        "id": "4YrLrkor5zus",
        "outputId": "8a9082b8-af09-40f1-d331-4592694f28e4"
      },
      "source": [
        "#인접 리스트 방식의 그래프\n",
        "#행이 3개인 2차원 리스트로 인접 리스트 표현\n",
        "graph=[[] for _ in range(3)]\n",
        "\n",
        "#노드 0에 연결된 노드 정보 저장(노드, 거리)\n",
        "graph[0].append((1,7))\n",
        "graph[0].append((2,5))\n",
        "\n",
        "#노드 1에 연결된 노드 정보 저장\n",
        "graph[1].append((0,7))\n",
        "\n",
        "#노드 2에 저장\n",
        "graph[2].append((0,5))\n",
        "\n",
        "print(graph)"
      ],
      "execution_count": null,
      "outputs": [
        {
          "output_type": "stream",
          "text": [
            "[[(1, 7), (2, 5)], [(0, 7)], [(0, 5)]]\n"
          ],
          "name": "stdout"
        }
      ]
    },
    {
      "cell_type": "code",
      "metadata": {
        "colab": {
          "base_uri": "https://localhost:8080/"
        },
        "id": "zTk1IX2v68Qe",
        "outputId": "99b85633-b7c2-408f-e402-e76ba07f7e5e"
      },
      "source": [
        "#DFS\n",
        "def dfs(graph, v, visited):\n",
        "  #현재 노드 방문 처리\n",
        "  visited[v]=True\n",
        "  print(v, end=' ')\n",
        "  #현재 노드와 연결된 노드 재귀적으로 방문\n",
        "  for i in graph[v]:\n",
        "    if not visited[i]:\n",
        "      dfs(graph, i, visited)\n",
        "\n",
        "#각 노드가 연결된 정보를 리스트 자료형으로 표현(2차원 리스트)\n",
        "graph=[\n",
        "       [],\n",
        "       [2,3,8],\n",
        "       [1,7],\n",
        "       [1,4,5],\n",
        "       [3,5],\n",
        "       [3,4],\n",
        "       [7],\n",
        "       [2,6,8],\n",
        "       [1,7]\n",
        "]\n",
        "\n",
        "visited=[False]*9\n",
        "dfs(graph, 1, visited)"
      ],
      "execution_count": null,
      "outputs": [
        {
          "output_type": "stream",
          "text": [
            "1 2 7 6 8 3 4 5 "
          ],
          "name": "stdout"
        }
      ]
    },
    {
      "cell_type": "code",
      "metadata": {
        "colab": {
          "base_uri": "https://localhost:8080/"
        },
        "id": "mFEgVMKG9r21",
        "outputId": "83f9311c-4149-49e2-e18f-b89865af21e1"
      },
      "source": [
        "#BFS\n",
        "from collections import deque\n",
        "\n",
        "def bfs(graph, start, visited):\n",
        "  queue=deque([start])\n",
        "  #현재 노드 방문 처리\n",
        "  visited[start]=Tru리\n",
        "  #큐가 빌 때까지 방문\n",
        "  while queue:\n",
        "    #큐에서 하나의 원소 뽑아 출력\n",
        "    v=queue.popleft()\n",
        "    print(v, end=' ')\n",
        "    #해당 원소와 연결된, 아직 방문하지 않은 원소들을 큐에 삽입\n",
        "    for i in graph[v]:\n",
        "      if not visited[i]:\n",
        "        queue.append(i)\n",
        "        visited[i]=True\n",
        "\n",
        "#각 노드가 연결된 정보를 리스트 자료형으로 표현(2차원 리스트)\n",
        "graph=[\n",
        "       [],\n",
        "       [2,3,8],\n",
        "       [1,7],\n",
        "       [1,4,5],\n",
        "       [3,5],\n",
        "       [3,4],\n",
        "       [7],\n",
        "       [2,6,8],\n",
        "       [1,7]\n",
        "]\n",
        "\n",
        "#각 노드가 방문된 정보를 리스트 자료형으로 표현(1차원 리스트)\n",
        "visited=[False]*9\n",
        "bfs(graph, 1,visited)"
      ],
      "execution_count": null,
      "outputs": [
        {
          "output_type": "stream",
          "text": [
            "1 2 3 8 7 4 5 6 "
          ],
          "name": "stdout"
        }
      ]
    },
    {
      "cell_type": "markdown",
      "metadata": {
        "id": "cS3nNkfVmAYC"
      },
      "source": [
        "## **실전 문제 01 : 음료수 얼려 먹기**\n",
        "\n",
        "* DFS 이용\n",
        "\n",
        "* NxM 크기의 얼음틀에 몇 개의 아이스크림 만들 수 있는지? \n",
        "\n",
        " ==> 0은 구멍, 1은 칸막이. 구멍 뚫려있느느 부분끼리 상하좌우로 붙어있는 경우 서로 연결되어있는 것으로 간주\n",
        "\n",
        " 1. 첫번째 줄에 얼음틀 세로, 가로 길이 주어짐\n",
        "\n",
        " 2. 두번째 줄부터 N+1 번째 줄까지 얼음틀의 형태가 주어짐\n",
        "\n",
        " 3. 구멍이 뚫려있는 부분은 0, 그렇지 않은 부분은 1"
      ]
    },
    {
      "cell_type": "code",
      "metadata": {
        "id": "hOzjI9aM_zQS",
        "colab": {
          "base_uri": "https://localhost:8080/"
        },
        "outputId": "0f6926b7-9b2b-4b9a-ec4e-045a87ac3e29"
      },
      "source": [
        "n, m = map(int, input().split())\n",
        "\n",
        "graph=[]\n",
        "for i in range(n):\n",
        "  graph.append(list(map(int, input())))\n",
        "\n",
        "def dfs(graph, v, visited):\n",
        "  count=0\n",
        "  #현재 노드 방문 처리\n",
        "  visited[v]=True\n",
        "  #현재 노드와 연결된 노드 재귀적으로 방문\n",
        "  for i in graph[v]:\n",
        "    if ((not visited[i]) and (visited[i]==0)):\n",
        "      dfs(graph, i, visited)\n",
        "      count+=1\n",
        "  print(count)\n",
        "\n",
        "visited=[False]*n\n",
        "dfs(graph, 0, visited)\n",
        "print(count)\n",
        "print(n*m-count)"
      ],
      "execution_count": null,
      "outputs": [
        {
          "output_type": "stream",
          "text": [
            "3 3\n",
            "001\n",
            "010\n",
            "101\n",
            "0\n",
            "1\n",
            "0\n",
            "9\n"
          ],
          "name": "stdout"
        }
      ]
    },
    {
      "cell_type": "code",
      "metadata": {
        "colab": {
          "base_uri": "https://localhost:8080/"
        },
        "id": "FI_CtktDnQY-",
        "outputId": "c47a8d16-17f4-44d8-9748-ec20ad11e18a"
      },
      "source": [
        "#해답\n",
        "n, m = map(int, input().split())\n",
        "\n",
        "graph=[]\n",
        "for i in range(n):\n",
        "  graph.append(list(map(int, input())))\n",
        "\n",
        "def dfs(x,y):\n",
        "  #범위 벗어나면 바로 종료\n",
        "  if x<=-1 or x>=n or y<=-1 or y>=m:\n",
        "    return False\n",
        "  #현재 노드를 방문하지 않았다면\n",
        "  if graph[x][y]==0:\n",
        "    #방문 처리\n",
        "    graph[x][y]=1\n",
        "    #상하좌우 위치 재귀적으로 호출\n",
        "    dfs(x-1,y)\n",
        "    dfs(x,y-1)\n",
        "    dfs(x+1, y)\n",
        "    dfs(x,y+1)\n",
        "    return True\n",
        "  return False\n",
        "\n",
        "#모든 노드(위치)에 대하여 음료수 채우기\n",
        "result=0\n",
        "for i in range(n):\n",
        "  for j in range(m):\n",
        "    if dfs(i,j)==True:\n",
        "      result+=1\n",
        "\n",
        "print(result)#정답 출력"
      ],
      "execution_count": null,
      "outputs": [
        {
          "output_type": "stream",
          "text": [
            "3 3\n",
            "001\n",
            "010\n",
            "101\n",
            "3\n"
          ],
          "name": "stdout"
        }
      ]
    },
    {
      "cell_type": "markdown",
      "metadata": {
        "id": "SmfOl2YSz25D"
      },
      "source": [
        "##**실전 문제 02 : 미로 탈출**\n",
        "\n",
        "* BFS 이용\n",
        "\n",
        "* (1,1)에서 시작, 1은 괴물, 0은 길. 1로 시작하고 1로 끝나는 미로에서 빠져나가는 최단 칸 수를 구하라. (시작, 끝도 카운트 함)\n"
      ]
    },
    {
      "cell_type": "code",
      "metadata": {
        "colab": {
          "base_uri": "https://localhost:8080/"
        },
        "id": "uPYvKszP7KaN",
        "outputId": "64be0cf1-269a-4d62-d3b4-c6a8e110943d"
      },
      "source": [
        "from collections import deque\n",
        "n,m = map(int, input().split())\n",
        "graph=[]\n",
        "for i in range(n):\n",
        "  graph.append(list(map(int, input())))\n",
        "\n",
        "dx=[-1,1,0,0]\n",
        "dy=[0,0,-1,1]\n",
        "\n",
        "def bfs(x,y):\n",
        "  queue=deque()\n",
        "  queue.append((x,y))\n",
        "  while queue:\n",
        "    x,y=queue.popleft()\n",
        "\n",
        "    #현재위치에서 네 방향으로의 위치 확인\n",
        "    for i in range(4):\n",
        "      nx = x+dx[i]\n",
        "      ny = y +dy[i]\n",
        "\n",
        "      #공간 초과한 경우 무\n",
        "      if nx<0 or ny<0 or nx>=n or ny>=m :\n",
        "        continue\n",
        "      #벽인 경우 무시\n",
        "      if graph[nx][ny]==0:\n",
        "        continue\n",
        "      #해당 노트 처음 방문하는 경우에만 최단 거리 기록\n",
        "      if graph[nx][ny] == 1:\n",
        "        graph[nx][ny] = graph[x][y] + 1\n",
        "        queue.append((nx, ny))\n",
        "  return graph[n-1][m-1]\n",
        "\n",
        "print(bfs(0,0))"
      ],
      "execution_count": 4,
      "outputs": [
        {
          "output_type": "stream",
          "text": [
            "3 3\n",
            "110\n",
            "010\n",
            "011\n",
            "5\n"
          ],
          "name": "stdout"
        }
      ]
    },
    {
      "cell_type": "code",
      "metadata": {
        "id": "LAfFr9SjBZv7"
      },
      "source": [
        ""
      ],
      "execution_count": 3,
      "outputs": []
    }
  ]
}