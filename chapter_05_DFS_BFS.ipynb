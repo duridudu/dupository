{
  "nbformat": 4,
  "nbformat_minor": 0,
  "metadata": {
    "colab": {
      "name": "chapter_05_DFS/BFS.ipynb",
      "provenance": [],
      "collapsed_sections": [],
      "authorship_tag": "ABX9TyND+sCSe7mg59srMRfc44A1",
      "include_colab_link": true
    },
    "kernelspec": {
      "name": "python3",
      "display_name": "Python 3"
    },
    "language_info": {
      "name": "python"
    }
  },
  "cells": [
    {
      "cell_type": "markdown",
      "metadata": {
        "id": "view-in-github",
        "colab_type": "text"
      },
      "source": [
        "<a href=\"https://colab.research.google.com/github/duridudu/dupository/blob/%EC%9D%B4%EA%B2%83%EC%9D%B4-%EC%95%8C%EA%B3%A0%EB%A6%AC%EC%A6%98%EC%9D%B4%EB%8B%A4/chapter_05_DFS_BFS.ipynb\" target=\"_parent\"><img src=\"https://colab.research.google.com/assets/colab-badge.svg\" alt=\"Open In Colab\"/></a>"
      ]
    },
    {
      "cell_type": "markdown",
      "metadata": {
        "id": "cXCj-JXWCuHA"
      },
      "source": [
        "#**01. 꼭 필요한 자료구조 기초**\n",
        "* DFS, BFS 같은 탐색을 하려면 스택, 큐를 알아야 함.\n",
        "\n",
        "* 자료구조 : 데이터를 표현하고 관리하고 처리하기 위한 구조\n"
      ]
    },
    {
      "cell_type": "markdown",
      "metadata": {
        "id": "hR_I2qHnEPaw"
      },
      "source": [
        "##**스택**\n",
        "* 후입선출 : 박스 쌓기. 나중에 들어간게 가장 먼저 삭제됨. (입구 하나! Like 엘레베이터)\n",
        "\n",
        "* 별도의 라이브러리 필요 없음!\n",
        "\n",
        "* append()와 pop() 사용 (pop 메소드는 리스트의 가장 뒤쪽에서 데이터 꺼내기 때문)\n",
        "\n",
        "##**큐**\n",
        "* 선입선출(FIFO) : 줄서기. 처음 들어간게 먼저 삭제됨. (입구/출구 Like 미끄럼틀)\n",
        "\n",
        "* 구현시 **collections 모듈**에서 제공하는 deque 자료구조 이용! \n",
        "\n",
        "  ==> 입력은 append(), 삭제는 popleft(), reverser()로 역순 가능. list(queue)하면 리스트 자료형으로 변경됨.\n",
        "\n",
        "##**재귀함수**\n",
        "* 자기 자신을 다시 호출하는 함수. \n",
        "\n",
        "* 재귀함수의 종료 조건을 꼭 정해야 함.\n",
        "\n",
        "* 재귀함수는 내부적으로 스택 자료구조와 동일 (가장 마지막에 호출한 함수가 먼저 수행을 끝내야 그 앞의 함수 호출이 종료되기 때문) ex. DFS\n",
        "\n",
        "* 다이나믹 프로그래밍과 밀접한 관련이 있다. by. 점화식"
      ]
    },
    {
      "cell_type": "code",
      "metadata": {
        "colab": {
          "base_uri": "https://localhost:8080/"
        },
        "id": "rAH5__BsCPZJ",
        "outputId": "4a6150c2-52a9-41ed-baf2-3cc8539fc40d"
      },
      "source": [
        "#스택 간단 구현\n",
        "stack=[]\n",
        "\n",
        "#+5 2 3 7, -, +1 4, -\n",
        "stack.append(5)\n",
        "stack.append(2)\n",
        "stack.append(3)\n",
        "stack.append(7)\n",
        "stack.pop()\n",
        "stack.append(1)\n",
        "stack.append(4)\n",
        "stack.pop()\n",
        "\n",
        "print(stack) #최하단 원소부터 출력\n",
        "print(stack[::-1]) #최상단 원소부터 출력(삭제시 이 순서대로 삭제됨)"
      ],
      "execution_count": null,
      "outputs": [
        {
          "output_type": "stream",
          "text": [
            "[5, 2, 3, 1]\n",
            "[1, 3, 2, 5]\n"
          ],
          "name": "stdout"
        }
      ]
    },
    {
      "cell_type": "code",
      "metadata": {
        "colab": {
          "base_uri": "https://localhost:8080/"
        },
        "id": "w-8GcS0ZF2vQ",
        "outputId": "1b513701-4859-4377-9c55-137cf0c8abf9"
      },
      "source": [
        "#큐 간단구현\n",
        "from collections import deque\n",
        "queue=deque()\n",
        "\n",
        "#+5 2 3 7, -, +1 4, -\n",
        "queue.append(5)\n",
        "queue.append(2)\n",
        "queue.append(3)\n",
        "queue.append(7)\n",
        "queue.popleft()\n",
        "queue.append(1)\n",
        "queue.append(4)\n",
        "queue.popleft()\n",
        "\n",
        "print(queue) #먼저 들어온 순서대로 출력. 이 순서대로 삭제됨\n",
        "queue.reverse() #나중에 들어온 순서대로 출력하기 위해 리버스. \n",
        "print(queue)\n"
      ],
      "execution_count": null,
      "outputs": [
        {
          "output_type": "stream",
          "text": [
            "deque([3, 7, 1, 4])\n",
            "deque([4, 1, 7, 3])\n"
          ],
          "name": "stdout"
        }
      ]
    },
    {
      "cell_type": "code",
      "metadata": {
        "colab": {
          "base_uri": "https://localhost:8080/"
        },
        "id": "a97No-IMHAZX",
        "outputId": "d53c4022-6441-46aa-efdb-cefbbce7aa03"
      },
      "source": [
        "#재귀함수 간단 구현-팩토리얼 문제가 대표적임\n",
        "#1*2*3*...*(n-1)*n --> n이 1 이하가 되었을 때 함수를 종료하는 재귀함수의 형태\n",
        "\n",
        "#반복적으로 구현한 n!\n",
        "def factorial_iterative(n):\n",
        "  result=1\n",
        "  #1부터 n까지 차례대로 곱하기\n",
        "  for i in range(1,n+1):\n",
        "    result*=i\n",
        "  return result\n",
        "\n",
        "#재귀적으로 구현한 n!\n",
        "def factorial_recursive(n):\n",
        "  #n이 1 이하일 때 1 반환\n",
        "  if n<=1:\n",
        "    return 1\n",
        "  #n!=n*(n-1)!을 그대로 코드로 작성\n",
        "  return n*factorial_recursive(n-1)\n",
        "\n",
        "#비교\n",
        "print('반복적으로 구현 :', factorial_iterative(5))\n",
        "print('재귀적으로 구현 :', factorial_recursive(5))\n",
        "\n",
        "#==> 점화식 종료조건 : n이 0 혹은 1일때"
      ],
      "execution_count": null,
      "outputs": [
        {
          "output_type": "stream",
          "text": [
            "반복적으로 구현 : 120\n",
            "재귀적으로 구현 : 120\n"
          ],
          "name": "stdout"
        }
      ]
    },
    {
      "cell_type": "markdown",
      "metadata": {
        "id": "bkF-XaFENhA4"
      },
      "source": [
        "##**02. DFS/BFS**\n",
        "0. 그래프를 표현하는 두가지 방법\n",
        "\n",
        "- 인접 행렬 (Adjacency Matrix) : 2차원 배열에 각 노드가 연결된 형태를 기록하는 방식\n",
        "\n",
        "  ==> 인접 리스트에 비해 찾고자 하는 노드 바로 찾을 수 있음. (인접리스트는 연결된 것 타고 타고 가봐야하기 때문)\n",
        "\n",
        "- 인접 리스트 (Adjacency List) : 모든 노드에 연결된 노드에 대한 정보를 차례대로 연결하여 저장 by.연결 리스트라는 자료구조\n",
        "\n",
        "  ==> 인접 행렬에 비해 메모리를 효율적으로 사용. 모두 저장 안하고 연결된 것만 저장하면 되기 때문\n",
        "\n",
        "1. DFS : Depth-First Search \n",
        "\n",
        "  최대한 깊숙이 들어가서 노드 방문 후, 다시 돌아가 다른 경로로 탐색하는 알고리즘.\n",
        "\n",
        "  1) 탐색 시작 노드를 스택에 삽입하고 방문 처리를 한다.\n",
        "\n",
        "  2) 스택의 최상단 노드에 방문하지 않은 인접 노드가 있으면 그 인접 노드를 스택에 넣고 방문 처리를 한다. \n",
        "  \n",
        "  방문하지 않은 인접 노드가 없으면 스택에서 최상단 노드를 꺼낸다.\n",
        "\n",
        "  3) 2번 과정을 더이상 수행할 수 없을 때까지 반복한다.\n",
        "\n"
      ]
    },
    {
      "cell_type": "code",
      "metadata": {
        "colab": {
          "base_uri": "https://localhost:8080/"
        },
        "id": "OrEP1k795bG3",
        "outputId": "9bba2b26-94d2-4c12-f3db-312928629196"
      },
      "source": [
        "#인접 행렬 방식의 그래프\n",
        "INF=9999999999\n",
        "graph=[\n",
        "       [0,7,5],\n",
        "       [7,0,INF],\n",
        "       [5,INF,0]\n",
        "]\n",
        "\n",
        "print(graph)"
      ],
      "execution_count": 1,
      "outputs": [
        {
          "output_type": "stream",
          "text": [
            "[[0, 7, 5], [7, 0, 9999999999], [5, 9999999999, 0]]\n"
          ],
          "name": "stdout"
        }
      ]
    },
    {
      "cell_type": "code",
      "metadata": {
        "colab": {
          "base_uri": "https://localhost:8080/"
        },
        "id": "4YrLrkor5zus",
        "outputId": "8a9082b8-af09-40f1-d331-4592694f28e4"
      },
      "source": [
        "#인접 리스트 방식의 그래프\n",
        "#행이 3개인 2차원 리스트로 인접 리스트 표현\n",
        "graph=[[] for _ in range(3)]\n",
        "\n",
        "#노드 0에 연결된 노드 정보 저장(노드, 거리)\n",
        "graph[0].append((1,7))\n",
        "graph[0].append((2,5))\n",
        "\n",
        "#노드 1에 연결된 노드 정보 저장\n",
        "graph[1].append((0,7))\n",
        "\n",
        "#노드 2에 저장\n",
        "graph[2].append((0,5))\n",
        "\n",
        "print(graph)"
      ],
      "execution_count": 2,
      "outputs": [
        {
          "output_type": "stream",
          "text": [
            "[[(1, 7), (2, 5)], [(0, 7)], [(0, 5)]]\n"
          ],
          "name": "stdout"
        }
      ]
    },
    {
      "cell_type": "code",
      "metadata": {
        "colab": {
          "base_uri": "https://localhost:8080/"
        },
        "id": "zTk1IX2v68Qe",
        "outputId": "bdd25150-9ea4-4196-c713-0279cd983263"
      },
      "source": [
        "#DFS\n",
        "def dfs(graph, v, visited):\n",
        "  #현재 노드 방문 처리\n",
        "  visited[v]=True\n",
        "  print(v, end=' ')\n",
        "  #현재 노드와 연결된 노드 재귀적으로 방문\n",
        "  for i in graph[v]:\n",
        "    if not visited[i]:\n",
        "      dfs(graph, i, visited)\n",
        "\n",
        "#각 노드가 연결된 정보를 리스트 자료형으로 표현(2차원 리스트)\n",
        "graph=[\n",
        "       [],\n",
        "       [2,3,8],\n",
        "       [1,7],\n",
        "       [1,4,5],\n",
        "       [3,5],\n",
        "       [3,4],\n",
        "       [7],\n",
        "       [2,6,8],\n",
        "       [1,7]\n",
        "]\n",
        "\n",
        "visited=[False]*9\n",
        "dfs(graph, 1, visited)"
      ],
      "execution_count": 3,
      "outputs": [
        {
          "output_type": "stream",
          "text": [
            "1 2 7 6 8 3 4 5 "
          ],
          "name": "stdout"
        }
      ]
    },
    {
      "cell_type": "code",
      "metadata": {
        "colab": {
          "base_uri": "https://localhost:8080/"
        },
        "id": "mFEgVMKG9r21",
        "outputId": "83f9311c-4149-49e2-e18f-b89865af21e1"
      },
      "source": [
        "#BFS\n",
        "from collections import deque\n",
        "\n",
        "def bfs(graph, start, visited):\n",
        "  queue=deque([start])\n",
        "\n",
        "  visited[start]=True\n",
        "  while queue:\n",
        "    v=queue.popleft()\n",
        "    print(v, end=' ')\n",
        "    for i in graph[v]:\n",
        "      if not visited[i]:\n",
        "        queue.append(i)\n",
        "        visited[i]=True\n",
        "\n",
        "#각 노드가 연결된 정보를 리스트 자료형으로 표현(2차원 리스트)\n",
        "graph=[\n",
        "       [],\n",
        "       [2,3,8],\n",
        "       [1,7],\n",
        "       [1,4,5],\n",
        "       [3,5],\n",
        "       [3,4],\n",
        "       [7],\n",
        "       [2,6,8],\n",
        "       [1,7]\n",
        "]\n",
        "\n",
        "visited=[False]*9\n",
        "bfs(graph, 1,visited)"
      ],
      "execution_count": 4,
      "outputs": [
        {
          "output_type": "stream",
          "text": [
            "1 2 3 8 7 4 5 6 "
          ],
          "name": "stdout"
        }
      ]
    },
    {
      "cell_type": "code",
      "metadata": {
        "id": "hOzjI9aM_zQS"
      },
      "source": [
        ""
      ],
      "execution_count": null,
      "outputs": []
    }
  ]
}