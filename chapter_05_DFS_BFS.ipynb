{
  "nbformat": 4,
  "nbformat_minor": 0,
  "metadata": {
    "colab": {
      "name": "chapter_05_DFS/BFS.ipynb",
      "provenance": [],
      "collapsed_sections": [],
      "authorship_tag": "ABX9TyOcHhqpksIvz55oFCiibMeP",
      "include_colab_link": true
    },
    "kernelspec": {
      "name": "python3",
      "display_name": "Python 3"
    },
    "language_info": {
      "name": "python"
    }
  },
  "cells": [
    {
      "cell_type": "markdown",
      "metadata": {
        "id": "view-in-github",
        "colab_type": "text"
      },
      "source": [
        "<a href=\"https://colab.research.google.com/github/duridudu/dupository/blob/%EC%9D%B4%EA%B2%83%EC%9D%B4-%EC%95%8C%EA%B3%A0%EB%A6%AC%EC%A6%98%EC%9D%B4%EB%8B%A4/chapter_05_DFS_BFS.ipynb\" target=\"_parent\"><img src=\"https://colab.research.google.com/assets/colab-badge.svg\" alt=\"Open In Colab\"/></a>"
      ]
    },
    {
      "cell_type": "markdown",
      "metadata": {
        "id": "cXCj-JXWCuHA"
      },
      "source": [
        "#**01. 꼭 필요한 자료구조 기초**\n",
        "* DFS, BFS 같은 탐색을 하려면 스택, 큐를 알아야 함.\n",
        "\n",
        "* 자료구조 : 데이터를 표현하고 관리하고 처리하기 위한 구조\n"
      ]
    },
    {
      "cell_type": "markdown",
      "metadata": {
        "id": "hR_I2qHnEPaw"
      },
      "source": [
        "##**스택**\n",
        "* 후입선출 : 박스 쌓기. 나중에 들어간게 가장 먼저 삭제됨. (입구 하나! Like 엘레베이터)\n",
        "\n",
        "* 별도의 라이브러리 필요 없음!\n",
        "\n",
        "* append()와 pop() 사용 (pop 메소드는 리스트의 가장 뒤쪽에서 데이터 꺼내기 때문)\n",
        "\n",
        "##**큐**\n",
        "* 선입선출(FIFO) : 줄서기. 처음 들어간게 먼저 삭제됨. (입구/출구 Like 미끄럼틀)\n",
        "\n",
        "* 구현시 **collections 모듈**에서 제공하는 deque 자료구조 이용! \n",
        "\n",
        "  ==> 입력은 append(), 삭제는 popleft(), reverser()로 역순 가능. list(queue)하면 리스트 자료형으로 변경됨.\n",
        "\n",
        "##**재귀함수**\n",
        "* 자기 자신을 다시 호출하는 함수. \n",
        "\n",
        "* 재귀함수의 종료 조건을 꼭 정해야 함.\n",
        "\n",
        "* 재귀함수는 내부적으로 스택 자료구조와 동일 (가장 마지막에 호출한 함수가 먼저 수행을 끝내야 그 앞의 함수 호출이 종료되기 때문) ex. DFS\n",
        "\n",
        "* 다이나믹 프로그래밍과 밀접한 관련이 있다. by. 점화식"
      ]
    },
    {
      "cell_type": "code",
      "metadata": {
        "colab": {
          "base_uri": "https://localhost:8080/"
        },
        "id": "rAH5__BsCPZJ",
        "outputId": "4a6150c2-52a9-41ed-baf2-3cc8539fc40d"
      },
      "source": [
        "#스택 간단 구현\n",
        "stack=[]\n",
        "\n",
        "#+5 2 3 7, -, +1 4, -\n",
        "stack.append(5)\n",
        "stack.append(2)\n",
        "stack.append(3)\n",
        "stack.append(7)\n",
        "stack.pop()\n",
        "stack.append(1)\n",
        "stack.append(4)\n",
        "stack.pop()\n",
        "\n",
        "print(stack) #최하단 원소부터 출력\n",
        "print(stack[::-1]) #최상단 원소부터 출력(삭제시 이 순서대로 삭제됨)"
      ],
      "execution_count": 1,
      "outputs": [
        {
          "output_type": "stream",
          "text": [
            "[5, 2, 3, 1]\n",
            "[1, 3, 2, 5]\n"
          ],
          "name": "stdout"
        }
      ]
    },
    {
      "cell_type": "code",
      "metadata": {
        "colab": {
          "base_uri": "https://localhost:8080/"
        },
        "id": "w-8GcS0ZF2vQ",
        "outputId": "1b513701-4859-4377-9c55-137cf0c8abf9"
      },
      "source": [
        "#큐 간단구현\n",
        "from collections import deque\n",
        "queue=deque()\n",
        "\n",
        "#+5 2 3 7, -, +1 4, -\n",
        "queue.append(5)\n",
        "queue.append(2)\n",
        "queue.append(3)\n",
        "queue.append(7)\n",
        "queue.popleft()\n",
        "queue.append(1)\n",
        "queue.append(4)\n",
        "queue.popleft()\n",
        "\n",
        "print(queue) #먼저 들어온 순서대로 출력. 이 순서대로 삭제됨\n",
        "queue.reverse() #나중에 들어온 순서대로 출력하기 위해 리버스. \n",
        "print(queue)\n"
      ],
      "execution_count": 2,
      "outputs": [
        {
          "output_type": "stream",
          "text": [
            "deque([3, 7, 1, 4])\n",
            "deque([4, 1, 7, 3])\n"
          ],
          "name": "stdout"
        }
      ]
    },
    {
      "cell_type": "code",
      "metadata": {
        "colab": {
          "base_uri": "https://localhost:8080/"
        },
        "id": "a97No-IMHAZX",
        "outputId": "d53c4022-6441-46aa-efdb-cefbbce7aa03"
      },
      "source": [
        "#재귀함수 간단 구현-팩토리얼 문제가 대표적임\n",
        "#1*2*3*...*(n-1)*n --> n이 1 이하가 되었을 때 함수를 종료하는 재귀함수의 형태\n",
        "\n",
        "#반복적으로 구현한 n!\n",
        "def factorial_iterative(n):\n",
        "  result=1\n",
        "  #1부터 n까지 차례대로 곱하기\n",
        "  for i in range(1,n+1):\n",
        "    result*=i\n",
        "  return result\n",
        "\n",
        "#재귀적으로 구현한 n!\n",
        "def factorial_recursive(n):\n",
        "  #n이 1 이하일 때 1 반환\n",
        "  if n<=1:\n",
        "    return 1\n",
        "  #n!=n*(n-1)!을 그대로 코드로 작성\n",
        "  return n*factorial_recursive(n-1)\n",
        "\n",
        "#비교\n",
        "print('반복적으로 구현 :', factorial_iterative(5))\n",
        "print('재귀적으로 구현 :', factorial_recursive(5))\n",
        "\n",
        "#==> 점화식 종료조건 : n이 0 혹은 1일때"
      ],
      "execution_count": 3,
      "outputs": [
        {
          "output_type": "stream",
          "text": [
            "반복적으로 구현 : 120\n",
            "재귀적으로 구현 : 120\n"
          ],
          "name": "stdout"
        }
      ]
    }
  ]
}