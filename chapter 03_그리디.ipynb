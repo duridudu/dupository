{
 "cells": [
  {
   "cell_type": "markdown",
   "id": "93f04412",
   "metadata": {},
   "source": [
    "# Greedy Algorithm\n",
    "\n",
    "*눈 앞의 가장 큰 걸 선택해서 채워나가는 알고리즘.\n",
    "\n",
    "*예제 : 거스름돈 \n",
    "-1260원 거슬러줘야하고, 동전 단위는 500,100,50,10이라면 500 500 100 100 50 10으로 거슬러준다.\n",
    "-화폐의 종류만큼 반복을 수행해야 한다. 거슬러주는 금액의 크기와는 무관하고 동전의 총 종류에만 영향을 받는다.\n",
    "-화폐의 종류가 K개일 때, 시간복잡도 O(K)\n",
    "\n",
    "*그리디 알고리즘의 정당성\n",
    "-예를 들어 거스름돈 문제에서는 동전의 큰 단위가 항상 작은 단위의 배수이므로 항상 최적의 해를 가져온다.\n",
    " 그렇지 않으면 안 됨. (무작위 단위로 주어진 거스름돈 문제는 다이나믹 알고리즘으로 해결 가능)"
   ]
  },
  {
   "cell_type": "markdown",
   "id": "05bd00f5",
   "metadata": {},
   "source": [
    "# 메모 of 문제 1 (큰 수의 법칙)\n",
    "\n",
    "*map : 자료 전체를 원하는 함수로 바꿔줌\n",
    " ex. a=[1.5,2.0, 3.77] \n",
    "     map(int, a) ==> a=[2,2,4] 됨.\n",
    "  \n",
    "*파이썬의 input함수. c와 다르게 아주 직관적임. 여러개 그냥 나눠서 받기 가능!\n",
    "\n",
    "*break를 쓰는 위치에 따라 while=True가 실행이 되고 안되고 다르다. "
   ]
  },
  {
   "cell_type": "code",
   "execution_count": 7,
   "id": "d08a34b7",
   "metadata": {},
   "outputs": [
    {
     "name": "stdout",
     "output_type": "stream",
     "text": [
      "5 10 3\n",
      "3 4 1 6 2\n"
     ]
    }
   ],
   "source": [
    "#실전문제1 : 큰수의 법칙\n",
    "#n개의 리스트에서 m번 더해서 가장 큰 수를 만들기. 같은 인덱스의 수 k번까지만 연속 더하기 가능\n",
    "n,m,k=map(int, input().split())\n",
    "data=list(map(int, input().split()))\n",
    "data.sort() #데이터 자체가 정렬됨"
   ]
  },
  {
   "cell_type": "code",
   "execution_count": 8,
   "id": "c1198eb6",
   "metadata": {},
   "outputs": [
    {
     "data": {
      "text/plain": [
       "56"
      ]
     },
     "execution_count": 8,
     "metadata": {},
     "output_type": "execute_result"
    }
   ],
   "source": [
    "first=data[-1]\n",
    "second=data[-2] #제일 큰 수를 k번만큼 더하고 그 이상 연속 안되니까 두 번째로 작은걸 한 번만 껴줄 요량. \n",
    "ans=0\n",
    "count=0\n",
    "\n",
    "while True:\n",
    "    for j in range(0,k):\n",
    "        if count==m:\n",
    "            break  \n",
    "        ans=ans+first\n",
    "        count+=1\n",
    "    \n",
    "    if count==m:\n",
    "        break \n",
    "        \n",
    "    ans+=second\n",
    "    count+=1\n",
    "       \n",
    "ans"
   ]
  },
  {
   "cell_type": "markdown",
   "id": "2e732d45",
   "metadata": {},
   "source": [
    "# 메모 of 문제2 (숫자 카드 게임)\n",
    "\n",
    "*리스트를 input으로 받으려면 ' '으로 하나씩 받고 list로 변환\n",
    "-->input의 기본 자료형은 str!!\n",
    "\n",
    "*min(a), max(a,b) 적극 활용하기!\n",
    " (반복해서 적지 말자)\n",
    " \n",
    "*result=max(result, min_value) 이런 형태 잘 쓰기!"
   ]
  },
  {
   "cell_type": "code",
   "execution_count": 24,
   "id": "7373fcda",
   "metadata": {},
   "outputs": [
    {
     "name": "stdout",
     "output_type": "stream",
     "text": [
      "2 4\n",
      "7 3 1 8\n",
      "3 3 3 4\n"
     ]
    },
    {
     "data": {
      "text/plain": [
       "3"
      ]
     },
     "execution_count": 24,
     "metadata": {},
     "output_type": "execute_result"
    }
   ],
   "source": [
    "#실전문제 2: 숫자 카드 게임\n",
    "#NxM 형태로 놓여있는 카드에서 행 선택 후 그 행에서 가장 작은 숫자를 뽑을 때 \n",
    "#결과적으로 뽑을 수 있는 가장 큰 수 뽑아야함!\n",
    "n,m=map(int,input().split())\n",
    "\n",
    "for i in range(0,n):\n",
    "    a=list(map(int,input().split()))\n",
    "    num=min(a)\n",
    "    if i==0 :\n",
    "        org=num\n",
    "        minnum=num\n",
    "        \n",
    "    if org>num :\n",
    "        minnum=num\n",
    "        org=num\n",
    "    elif org<num:\n",
    "        minnum=num\n",
    "        org=num\n",
    "minnum"
   ]
  },
  {
   "cell_type": "code",
   "execution_count": 25,
   "id": "adb2934d",
   "metadata": {},
   "outputs": [
    {
     "name": "stdout",
     "output_type": "stream",
     "text": [
      "2 4\n",
      "7 3 1 8\n",
      "3 3 3 4\n",
      "3\n"
     ]
    }
   ],
   "source": [
    "#해설 답 (more efficient)\n",
    "\n",
    "n,m=map(int, input().split())\n",
    "result=0\n",
    "for i in range(n):\n",
    "    data=list(map(int, input().split()))\n",
    "    #현재 줄에서 가장 작은 수 찾기\n",
    "    min_value=min(data)\n",
    "    #가장 작은 수들 중에서 가장 큰 수 찾기\n",
    "    result=max(result, min_value) #result는 전 기의 최대값\n",
    "print(result)\n",
    "\n",
    "#내가 9줄로 한게 두 줄로 됨 ㅠㅠ\n",
    "#난 변수 3개 썼는데 답은 2개로 해결.-->org가 없어도 됐던 애다."
   ]
  },
  {
   "cell_type": "markdown",
   "id": "a069b68a",
   "metadata": {},
   "source": [
    "# 메모 of 문제3 (1이 될 때까지)\n",
    "\n",
    "-문제3: 어떤 수 N이 1이 될 때까지 두 과정 중 하나를 반복적으로 선택해서 수행하려고 한다.\n",
    "단, 두번째 연산은 N이 K로 나누어떨어질 때만 선택할 수 있다.\n",
    "1. N에서 1을 뺀다\n",
    "2. N을 K로 나눈다.\n"
   ]
  },
  {
   "cell_type": "code",
   "execution_count": 15,
   "id": "a6504beb",
   "metadata": {},
   "outputs": [
    {
     "name": "stdout",
     "output_type": "stream",
     "text": [
      "98763 131\n"
     ]
    },
    {
     "data": {
      "text/plain": [
       "224"
      ]
     },
     "execution_count": 15,
     "metadata": {},
     "output_type": "execute_result"
    }
   ],
   "source": [
    "n, k = map(int, input().split())\n",
    "count=0\n",
    "\n",
    "while n!=1:\n",
    "    if n%k==0:\n",
    "        n=n/k\n",
    "        count+=1\n",
    "    else :\n",
    "        n=n-1\n",
    "        count+=1\n",
    "count     "
   ]
  },
  {
   "cell_type": "code",
   "execution_count": 16,
   "id": "a536daa7",
   "metadata": {},
   "outputs": [
    {
     "name": "stdout",
     "output_type": "stream",
     "text": [
      "98763 131\n",
      "224\n"
     ]
    }
   ],
   "source": [
    "#해설 답\n",
    "n, k =map(int, input().split())\n",
    "result=0\n",
    "\n",
    "while True:\n",
    "    target=(n//k)*k\n",
    "    result+=(n-target)\n",
    "    n=target\n",
    "    \n",
    "    if n<k:\n",
    "        break\n",
    "    result+=1\n",
    "    n//=k\n",
    "    \n",
    "result+=(n-1)\n",
    "print(result)"
   ]
  }
 ],
 "metadata": {
  "kernelspec": {
   "display_name": "Python 3",
   "language": "python",
   "name": "python3"
  },
  "language_info": {
   "codemirror_mode": {
    "name": "ipython",
    "version": 3
   },
   "file_extension": ".py",
   "mimetype": "text/x-python",
   "name": "python",
   "nbconvert_exporter": "python",
   "pygments_lexer": "ipython3",
   "version": "3.9.2"
  }
 },
 "nbformat": 4,
 "nbformat_minor": 5
}
