{
  "nbformat": 4,
  "nbformat_minor": 0,
  "metadata": {
    "colab": {
      "name": "혼공머신 chpater 04_1_로지스틱 회귀.ipynb",
      "provenance": [],
      "collapsed_sections": [],
      "authorship_tag": "ABX9TyOdz92tfZF3q9h3sheJmwiS",
      "include_colab_link": true
    },
    "kernelspec": {
      "name": "python3",
      "display_name": "Python 3"
    },
    "language_info": {
      "name": "python"
    }
  },
  "cells": [
    {
      "cell_type": "markdown",
      "metadata": {
        "id": "view-in-github",
        "colab_type": "text"
      },
      "source": [
        "<a href=\"https://colab.research.google.com/github/duridudu/dupository/blob/%ED%98%BC%EA%B3%B5%EB%A8%B8%EC%8B%A0/%ED%98%BC%EA%B3%B5%EB%A8%B8%EC%8B%A0_chpater_04_1_%EB%A1%9C%EC%A7%80%EC%8A%A4%ED%8B%B1_%ED%9A%8C%EA%B7%80.ipynb\" target=\"_parent\"><img src=\"https://colab.research.google.com/assets/colab-badge.svg\" alt=\"Open In Colab\"/></a>"
      ]
    },
    {
      "cell_type": "markdown",
      "metadata": {
        "id": "bSMAerAbeBeB"
      },
      "source": [
        "#**chapter 04. 다양한 분류 알고리즘**\n",
        "\n",
        "##**럭키백의 확률**\n",
        "\n",
        "* 럭키백에 들어갈 수 있는 생선은 7개. 사용할 수 있는 특성은 **길이, 높이, 두께, 대각선 길이, 무게**\n",
        "\n",
        "* 럭키백에 들어갈 생선 7개의 확률을 출력해야 함. \n",
        "\n",
        "1. k-최근접 이웃을 써보자 : 이웃의 클래스 비율을 확률이라고 출력하면 되지 않을까?\n",
        "\n",
        "2. 로지스틱 회귀로 7개의 생선 예측. 회귀 아니라 분류 모델이지만 계산한 값을 0~1 사이로 압축해서 확률로 보여줌.\n",
        "\n",
        "\n",
        "\n"
      ]
    },
    {
      "cell_type": "markdown",
      "metadata": {
        "id": "AaxU_SaSEWiT"
      },
      "source": [
        "###**K-최근접 이웃**\n",
        "* 훈련셋과 테스트셋 표준화 전처리할 때 **훈련셋의 통계값으로 테스트셋을 변환해야함!**\n",
        "\n",
        "* fish_target인 타깃 데이터에 7종의 생선이 있음. \n",
        "  \n",
        "  ==> **다중 분류** : 타깃 데이터에 2개 이상의 클래스가 포함된 문제\n",
        "\n",
        "  ==> 타깃값들은 사이킷런 모델에 전달되면 순서가 자동으로 알파벳 순으로 매겨짐. \n",
        "  \n",
        "  KNeighborsClassifier 에서 정렬된 타깃값은 classes_ 속성에 저장되어 있음.\n",
        "\n",
        "\n",
        "\n"
      ]
    },
    {
      "cell_type": "code",
      "metadata": {
        "id": "aEpgGjb0cT3G",
        "colab": {
          "base_uri": "https://localhost:8080/",
          "height": 204
        },
        "outputId": "2e1fa608-899c-496d-d712-1ce07ec340e3"
      },
      "source": [
        "import pandas as pd\n",
        "fish = pd.read_csv('https://bit.ly/fish_csv_data')\n",
        "fish.head()"
      ],
      "execution_count": 1,
      "outputs": [
        {
          "output_type": "execute_result",
          "data": {
            "text/html": [
              "<div>\n",
              "<style scoped>\n",
              "    .dataframe tbody tr th:only-of-type {\n",
              "        vertical-align: middle;\n",
              "    }\n",
              "\n",
              "    .dataframe tbody tr th {\n",
              "        vertical-align: top;\n",
              "    }\n",
              "\n",
              "    .dataframe thead th {\n",
              "        text-align: right;\n",
              "    }\n",
              "</style>\n",
              "<table border=\"1\" class=\"dataframe\">\n",
              "  <thead>\n",
              "    <tr style=\"text-align: right;\">\n",
              "      <th></th>\n",
              "      <th>Species</th>\n",
              "      <th>Weight</th>\n",
              "      <th>Length</th>\n",
              "      <th>Diagonal</th>\n",
              "      <th>Height</th>\n",
              "      <th>Width</th>\n",
              "    </tr>\n",
              "  </thead>\n",
              "  <tbody>\n",
              "    <tr>\n",
              "      <th>0</th>\n",
              "      <td>Bream</td>\n",
              "      <td>242.0</td>\n",
              "      <td>25.4</td>\n",
              "      <td>30.0</td>\n",
              "      <td>11.5200</td>\n",
              "      <td>4.0200</td>\n",
              "    </tr>\n",
              "    <tr>\n",
              "      <th>1</th>\n",
              "      <td>Bream</td>\n",
              "      <td>290.0</td>\n",
              "      <td>26.3</td>\n",
              "      <td>31.2</td>\n",
              "      <td>12.4800</td>\n",
              "      <td>4.3056</td>\n",
              "    </tr>\n",
              "    <tr>\n",
              "      <th>2</th>\n",
              "      <td>Bream</td>\n",
              "      <td>340.0</td>\n",
              "      <td>26.5</td>\n",
              "      <td>31.1</td>\n",
              "      <td>12.3778</td>\n",
              "      <td>4.6961</td>\n",
              "    </tr>\n",
              "    <tr>\n",
              "      <th>3</th>\n",
              "      <td>Bream</td>\n",
              "      <td>363.0</td>\n",
              "      <td>29.0</td>\n",
              "      <td>33.5</td>\n",
              "      <td>12.7300</td>\n",
              "      <td>4.4555</td>\n",
              "    </tr>\n",
              "    <tr>\n",
              "      <th>4</th>\n",
              "      <td>Bream</td>\n",
              "      <td>430.0</td>\n",
              "      <td>29.0</td>\n",
              "      <td>34.0</td>\n",
              "      <td>12.4440</td>\n",
              "      <td>5.1340</td>\n",
              "    </tr>\n",
              "  </tbody>\n",
              "</table>\n",
              "</div>"
            ],
            "text/plain": [
              "  Species  Weight  Length  Diagonal   Height   Width\n",
              "0   Bream   242.0    25.4      30.0  11.5200  4.0200\n",
              "1   Bream   290.0    26.3      31.2  12.4800  4.3056\n",
              "2   Bream   340.0    26.5      31.1  12.3778  4.6961\n",
              "3   Bream   363.0    29.0      33.5  12.7300  4.4555\n",
              "4   Bream   430.0    29.0      34.0  12.4440  5.1340"
            ]
          },
          "metadata": {
            "tags": []
          },
          "execution_count": 1
        }
      ]
    },
    {
      "cell_type": "code",
      "metadata": {
        "colab": {
          "base_uri": "https://localhost:8080/"
        },
        "id": "aMiqNavIEhcf",
        "outputId": "792a5fce-1186-4094-fda5-4f0d242f8061"
      },
      "source": [
        "print(pd.unique(fish['Species']))"
      ],
      "execution_count": 2,
      "outputs": [
        {
          "output_type": "stream",
          "text": [
            "['Bream' 'Roach' 'Whitefish' 'Parkki' 'Perch' 'Pike' 'Smelt']\n"
          ],
          "name": "stdout"
        }
      ]
    },
    {
      "cell_type": "code",
      "metadata": {
        "id": "S7VJ7mfpEn5k"
      },
      "source": [
        "fish_input=fish[['Weight','Length','Diagonal','Height','Width']].to_numpy()\n",
        "fish_target=fish['Species'].to_numpy()"
      ],
      "execution_count": 6,
      "outputs": []
    },
    {
      "cell_type": "code",
      "metadata": {
        "colab": {
          "base_uri": "https://localhost:8080/"
        },
        "id": "9wkFoIJrE2j8",
        "outputId": "6bd4f5dd-1453-4e19-d312-f5aa143d8e01"
      },
      "source": [
        "from sklearn.model_selection import train_test_split\n",
        "train_input, test_input, train_target, test_target = train_test_split(fish_input, fish_target, random_state=42)\n",
        "\n",
        "#StandardScaler 클래스를 사용해 훈련셋과 테스트셋 표준화 전처리. \n",
        "##훈련셋의 통계값으로 테스트셋을 변환해야 함!! \n",
        "from sklearn.preprocessing import StandardScaler\n",
        "ss=StandardScaler()\n",
        "ss.fit(train_input) ##<--이걸로 테스트셋도 변환해야함!\n",
        "train_scaled=ss.transform(train_input)\n",
        "test_scaled=ss.transform(test_input)\n",
        "\n",
        "#k-최근접 이웃 분류기의 확률 예측\n",
        "from sklearn.neighbors import KNeighborsClassifier\n",
        "kn=KNeighborsClassifier(n_neighbors=3)\n",
        "kn.fit(train_scaled, train_target)\n",
        "print(kn.score(train_scaled, train_target))\n",
        "print(kn.score(test_scaled, test_target))\n"
      ],
      "execution_count": 8,
      "outputs": [
        {
          "output_type": "stream",
          "text": [
            "0.8907563025210085\n",
            "0.85\n"
          ],
          "name": "stdout"
        }
      ]
    },
    {
      "cell_type": "code",
      "metadata": {
        "colab": {
          "base_uri": "https://localhost:8080/"
        },
        "id": "nlxBNEMdIkfx",
        "outputId": "cd20a94c-09a3-4d04-f22e-70c0cc68f453"
      },
      "source": [
        "print(kn.predict(test_scaled[:5])) #처음 5개 샘플의 타깃값"
      ],
      "execution_count": 9,
      "outputs": [
        {
          "output_type": "stream",
          "text": [
            "['Perch' 'Smelt' 'Pike' 'Perch' 'Perch']\n"
          ],
          "name": "stdout"
        }
      ]
    },
    {
      "cell_type": "code",
      "metadata": {
        "colab": {
          "base_uri": "https://localhost:8080/"
        },
        "id": "JlZ0UWbHK4Cr",
        "outputId": "64ab8d38-ac9e-436f-807d-ea6ca6cce1a0"
      },
      "source": [
        "import numpy as np\n",
        "proba = kn.predict_proba(test_scaled[:5])\n",
        "print(np.round(proba, decimals=4)) \n",
        "#첫번째 열이 bream, 두번째 열이 parkki에 대한 확률\n",
        "#행은 n번째 샘플"
      ],
      "execution_count": 10,
      "outputs": [
        {
          "output_type": "stream",
          "text": [
            "[[0.     0.     1.     0.     0.     0.     0.    ]\n",
            " [0.     0.     0.     0.     0.     1.     0.    ]\n",
            " [0.     0.     0.     1.     0.     0.     0.    ]\n",
            " [0.     0.     0.6667 0.     0.3333 0.     0.    ]\n",
            " [0.     0.     0.6667 0.     0.3333 0.     0.    ]]\n"
          ],
          "name": "stdout"
        }
      ]
    },
    {
      "cell_type": "code",
      "metadata": {
        "id": "mtMHDqgJLMUI"
      },
      "source": [
        "#그러나! 3개의 최근접 이웃을 사용하기 때문에 확률은 항상 0/3, 1/3, 2/3, 3/3 중 하나일 것! 좀 이상함. \n",
        "#==> 로지스틱 회귀를 알아보자."
      ],
      "execution_count": null,
      "outputs": []
    },
    {
      "cell_type": "markdown",
      "metadata": {
        "id": "zeNvkMVaLsRX"
      },
      "source": [
        "###**로지스틱 회귀-이진분류**\n",
        "* 회귀이지만 분류 모델. 선형 방정식을 학습함. \n",
        "\n",
        "* 다중 회귀를 위한 선형 방정식과 같지만, **값이 아주 큰 음수일 때 0이 되고, 아주 큰 양수일 때 1이 됨** (확률이므로)\n",
        "\n",
        "* sklearn.linear_model 하의 LogisticRegression 모듈\n",
        "\n",
        "* 이진 분류 시 predict_proba()는 음성/양성 클래스에 대한 확률 출력,\n",
        "\n",
        "  decision_function()는 양성 클래스에 대한 z값을 계산"
      ]
    },
    {
      "cell_type": "code",
      "metadata": {
        "colab": {
          "base_uri": "https://localhost:8080/"
        },
        "id": "QVgvyzMyMO-i",
        "outputId": "6d83e5fd-45ce-4e9f-d27e-1f01a713cb6b"
      },
      "source": [
        "#로지스틱 회귀로 이진 분류 수행하기 : 빙어와 도마 분류해보자\n",
        "bream_smelt_indexes=(train_target == 'Bream') | (train_target=='Smelt') #도미와 빙어일 경우 True, 나머지는 False 들어감.\n",
        "train_bream_smelt=train_scaled[bream_smelt_indexes]\n",
        "target_bream_smelt=train_target[bream_smelt_indexes]\n",
        "\n",
        "from sklearn.linear_model import LogisticRegression\n",
        "lr=LogisticRegression()\n",
        "lr.fit(train_bream_smelt, target_bream_smelt)\n",
        "\n",
        "#훈련한 모델로 처음 5개 샘플 예측\n",
        "print(lr.predict(train_bream_smelt[:5]))"
      ],
      "execution_count": 11,
      "outputs": [
        {
          "output_type": "stream",
          "text": [
            "['Bream' 'Smelt' 'Bream' 'Bream' 'Bream']\n"
          ],
          "name": "stdout"
        }
      ]
    },
    {
      "cell_type": "code",
      "metadata": {
        "colab": {
          "base_uri": "https://localhost:8080/"
        },
        "id": "akVlM2VWOLwO",
        "outputId": "8aeadc25-d265-441e-b5c9-96b4aa39b222"
      },
      "source": [
        "#이 샘플의 확률\n",
        "#첫번째 열이 음성 클래스(0)에 대한 확률이고, 두번째 열이 양성 클래스(1)에 대한 확률\n",
        "print(lr.predict_proba(train_bream_smelt[:5]))"
      ],
      "execution_count": 12,
      "outputs": [
        {
          "output_type": "stream",
          "text": [
            "[[0.99759855 0.00240145]\n",
            " [0.02735183 0.97264817]\n",
            " [0.99486072 0.00513928]\n",
            " [0.98584202 0.01415798]\n",
            " [0.99767269 0.00232731]]\n"
          ],
          "name": "stdout"
        }
      ]
    },
    {
      "cell_type": "code",
      "metadata": {
        "colab": {
          "base_uri": "https://localhost:8080/"
        },
        "id": "caji2jjvOSEj",
        "outputId": "0c26b956-9031-4815-c77e-15a62f37d378"
      },
      "source": [
        "#머가 양성이고 머가 음성 클래스?\n",
        "print(lr.classes_)"
      ],
      "execution_count": 14,
      "outputs": [
        {
          "output_type": "stream",
          "text": [
            "['Bream' 'Smelt']\n"
          ],
          "name": "stdout"
        }
      ]
    },
    {
      "cell_type": "code",
      "metadata": {
        "colab": {
          "base_uri": "https://localhost:8080/"
        },
        "id": "DKA7CJNrPJy-",
        "outputId": "d6448c5b-682c-464d-bec8-e074f2f23bcc"
      },
      "source": [
        "#이 로지스틱 회귀가 학습한 계수 확인\n",
        "print(lr.coef_, lr.intercept_)\n",
        "#z=-0.404wight-0.576length-0.663diagonal-1.013height-0.732width-2.161"
      ],
      "execution_count": 15,
      "outputs": [
        {
          "output_type": "stream",
          "text": [
            "[[-0.4037798  -0.57620209 -0.66280298 -1.01290277 -0.73168947]] [-2.16155132]\n"
          ],
          "name": "stdout"
        }
      ]
    },
    {
      "cell_type": "code",
      "metadata": {
        "colab": {
          "base_uri": "https://localhost:8080/"
        },
        "id": "UEXFbFJ5PWlz",
        "outputId": "e167ece4-399d-4d2d-c8db-11ca3ff4dfc5"
      },
      "source": [
        "#로지스틱 회귀의 z값 출력\n",
        "decisions=lr.decision_function(train_bream_smelt[:5])\n",
        "print(decisions)"
      ],
      "execution_count": 17,
      "outputs": [
        {
          "output_type": "stream",
          "text": [
            "[-6.02927744  3.57123907 -5.26568906 -4.24321775 -6.0607117 ]\n"
          ],
          "name": "stdout"
        }
      ]
    },
    {
      "cell_type": "code",
      "metadata": {
        "colab": {
          "base_uri": "https://localhost:8080/"
        },
        "id": "tu7G1GypPqs0",
        "outputId": "a3f5e790-207e-4c42-b34f-655e29300708"
      },
      "source": [
        "#이를 확률로 변환 ==> 양성 클래스에 대한 z값 반\n",
        "from scipy.special import expit\n",
        "print(expit(decisions))"
      ],
      "execution_count": 18,
      "outputs": [
        {
          "output_type": "stream",
          "text": [
            "[0.00240145 0.97264817 0.00513928 0.01415798 0.00232731]\n"
          ],
          "name": "stdout"
        }
      ]
    },
    {
      "cell_type": "markdown",
      "metadata": {
        "id": "oCsnzO3xQSii"
      },
      "source": [
        "###**로지스틱 회귀-다중분류**\n",
        "* 이제 도미/빙어 2진 분류 말고 7개 종류 생선을 다 분류해보자.\n",
        "\n",
        "* 학습 시 반복 횟수가 기본 100. 충분한 훈련을 위해 반복 횟수를 1000으로 늘려보자.\n",
        "\n",
        "* 기본적으로 계수의 제곱을 규제함 like 릿지 회귀 --> by 매개변수 C **C가 작을수록 규제가 커짐 unlike alpha in 릿지"
      ]
    },
    {
      "cell_type": "code",
      "metadata": {
        "colab": {
          "base_uri": "https://localhost:8080/"
        },
        "id": "zZnQUIpUP2mG",
        "outputId": "f88734b5-1609-4f38-cf18-469f3895bcac"
      },
      "source": [
        "lr=LogisticRegression(C=20, max_iter=1000)\n",
        "lr.fit(train_scaled, train_target)\n",
        "print(lr.score(train_scaled, train_target))\n",
        "print(lr.score(test_scaled, test_target))\n",
        "\n",
        "#훈련셋, 테스트셋 점수 모두 높고 과대,과소적합으로 치우친 것 같지 X"
      ],
      "execution_count": 19,
      "outputs": [
        {
          "output_type": "stream",
          "text": [
            "0.9327731092436975\n",
            "0.925\n"
          ],
          "name": "stdout"
        }
      ]
    },
    {
      "cell_type": "code",
      "metadata": {
        "colab": {
          "base_uri": "https://localhost:8080/"
        },
        "id": "e4mUjkdJRFLB",
        "outputId": "e49857f4-fa8a-4575-bcc3-72bdeeb728a3"
      },
      "source": [
        "print(lr.predict(test_scaled[:5]))"
      ],
      "execution_count": 20,
      "outputs": [
        {
          "output_type": "stream",
          "text": [
            "['Perch' 'Smelt' 'Pike' 'Roach' 'Perch']\n"
          ],
          "name": "stdout"
        }
      ]
    },
    {
      "cell_type": "code",
      "metadata": {
        "colab": {
          "base_uri": "https://localhost:8080/"
        },
        "id": "BvmZMdmmRO8Y",
        "outputId": "da307ad6-83c5-4d69-b374-ad54602f078b"
      },
      "source": [
        "#위 샘플 5개의 확률 출력\n",
        "proba=lr.predict_proba(test_scaled[:5])\n",
        "print(np.round(proba, decimals=3))"
      ],
      "execution_count": 21,
      "outputs": [
        {
          "output_type": "stream",
          "text": [
            "[[0.    0.014 0.841 0.    0.136 0.007 0.003]\n",
            " [0.    0.003 0.044 0.    0.007 0.946 0.   ]\n",
            " [0.    0.    0.034 0.935 0.015 0.016 0.   ]\n",
            " [0.011 0.034 0.306 0.007 0.567 0.    0.076]\n",
            " [0.    0.    0.904 0.002 0.089 0.002 0.001]]\n"
          ],
          "name": "stdout"
        }
      ]
    },
    {
      "cell_type": "code",
      "metadata": {
        "colab": {
          "base_uri": "https://localhost:8080/"
        },
        "id": "89OvJI1URW2o",
        "outputId": "4e3b1568-4d92-4e0c-dfa5-edea800e906f"
      },
      "source": [
        "#위의 열들이 먼 순서냐? 바로 이 순서\n",
        "print(lr.classes_)"
      ],
      "execution_count": 22,
      "outputs": [
        {
          "output_type": "stream",
          "text": [
            "['Bream' 'Parkki' 'Perch' 'Pike' 'Roach' 'Smelt' 'Whitefish']\n"
          ],
          "name": "stdout"
        }
      ]
    },
    {
      "cell_type": "code",
      "metadata": {
        "colab": {
          "base_uri": "https://localhost:8080/"
        },
        "id": "uHXSlYFzShfC",
        "outputId": "39781298-82a1-44be-ce59-1964ef7e3247"
      },
      "source": [
        "#어떤 선형 방정식을 쓴걸까\n",
        "print(lr.coef_.shape, lr.intercept_.shape)\n",
        "#다중분류는 클래스마다 z값을 하나씩 계산하고 가장 높은 z값을 출력하는 클래스가 예측 클래스가 됨. \n",
        "#확률은 이진 분류의 시그모이드 함수와 다르게 '소프트맥스' 함수를 사용하여 7개의 z값을 확률로 변환함.\n",
        "#소프트맥스 함수 : 여러 개의 선형 방정식의 출력값을 0~1 사이로 압축하고"
      ],
      "execution_count": 23,
      "outputs": [
        {
          "output_type": "stream",
          "text": [
            "(7, 5) (7,)\n"
          ],
          "name": "stdout"
        }
      ]
    },
    {
      "cell_type": "code",
      "metadata": {
        "colab": {
          "base_uri": "https://localhost:8080/"
        },
        "id": "p-wIPhXASoxN",
        "outputId": "ad6cf19f-70e6-4057-a460-a19191d20eba"
      },
      "source": [
        "#소프트맥스 함수를 사용하여 확률로 바꿔보자\n",
        "decision=lr.decision_function(test_scaled[:5])\n",
        "print(np.round(decision, decimals=2))"
      ],
      "execution_count": 24,
      "outputs": [
        {
          "output_type": "stream",
          "text": [
            "[[ -6.5    1.03   5.16  -2.73   3.34   0.33  -0.63]\n",
            " [-10.86   1.93   4.77  -2.4    2.98   7.84  -4.26]\n",
            " [ -4.34  -6.23   3.17   6.49   2.36   2.42  -3.87]\n",
            " [ -0.68   0.45   2.65  -1.19   3.26  -5.75   1.26]\n",
            " [ -6.4   -1.99   5.82  -0.11   3.5   -0.11  -0.71]]\n"
          ],
          "name": "stdout"
        }
      ]
    },
    {
      "cell_type": "code",
      "metadata": {
        "colab": {
          "base_uri": "https://localhost:8080/"
        },
        "id": "Xw-0CZLVZO0T",
        "outputId": "2f01701a-b8c6-4cc3-b774-16011e7b6177"
      },
      "source": [
        "#소프트맥스 함수를 사용해보자. 위 배열을 소프트맥스에 전달\n",
        "#axis는 소프트맥스를 계산할 축을 지정. 각 샘플에 대해 소프트맥스를 계산! 지정하지 않으면 배열 전체에 대해 소프트맥스를 계산한다.\n",
        "from scipy.special import softmax\n",
        "proba=softmax(decision, axis=1)\n",
        "print(np.round(proba, decimals=3))\n"
      ],
      "execution_count": 25,
      "outputs": [
        {
          "output_type": "stream",
          "text": [
            "[[0.    0.014 0.841 0.    0.136 0.007 0.003]\n",
            " [0.    0.003 0.044 0.    0.007 0.946 0.   ]\n",
            " [0.    0.    0.034 0.935 0.015 0.016 0.   ]\n",
            " [0.011 0.034 0.306 0.007 0.567 0.    0.076]\n",
            " [0.    0.    0.904 0.002 0.089 0.002 0.001]]\n"
          ],
          "name": "stdout"
        }
      ]
    },
    {
      "cell_type": "code",
      "metadata": {
        "id": "2E0Pg5XQbDiF"
      },
      "source": [
        ""
      ],
      "execution_count": null,
      "outputs": []
    }
  ]
}
