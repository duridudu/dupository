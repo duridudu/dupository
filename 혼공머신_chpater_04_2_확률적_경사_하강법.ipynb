{
  "nbformat": 4,
  "nbformat_minor": 0,
  "metadata": {
    "colab": {
      "name": "혼공머신 chpater 04_2_확률적 경사 하강법.ipynb",
      "provenance": [],
      "collapsed_sections": [],
      "authorship_tag": "ABX9TyPx6/ZL+GSHcWgL90bshEcL",
      "include_colab_link": true
    },
    "kernelspec": {
      "name": "python3",
      "display_name": "Python 3"
    },
    "language_info": {
      "name": "python"
    }
  },
  "cells": [
    {
      "cell_type": "markdown",
      "metadata": {
        "id": "view-in-github",
        "colab_type": "text"
      },
      "source": [
        "<a href=\"https://colab.research.google.com/github/duridudu/dupository/blob/%ED%98%BC%EA%B3%B5%EB%A8%B8%EC%8B%A0/%ED%98%BC%EA%B3%B5%EB%A8%B8%EC%8B%A0_chpater_04_2_%ED%99%95%EB%A5%A0%EC%A0%81_%EA%B2%BD%EC%82%AC_%ED%95%98%EA%B0%95%EB%B2%95.ipynb\" target=\"_parent\"><img src=\"https://colab.research.google.com/assets/colab-badge.svg\" alt=\"Open In Colab\"/></a>"
      ]
    },
    {
      "cell_type": "markdown",
      "metadata": {
        "id": "8bKfYdR2QSLP"
      },
      "source": [
        "##**확률적 경사 하강법**\n",
        "* 럭키백이 너무 인기 많아져서 우리 업체에 생선 팔겠다는 사람 쇄도! 샘플 알지도 못하고 확률 계산하기 힘들어짐\n",
        "\n",
        "  ==> 조금씩 계속 추가되는 샘플을 어케 훈련할까? (훈련 데이터가 모두 준비되어 있지 않고 매일매일 업데이트되어도 학습 이어나가기 가능)\n",
        "\n",
        "* **점진적 학습** : 기존의 모델을 유지하면서 추가되는 새 데이터를 조금씩 더 훈련하는 것. 대표적인 예가 확률적 경사 하강법\n",
        "\n",
        "* **확률적 경사 하강법** \n",
        "\n",
        "  : 훈련셋에서 랜덤으로 하나의 샘플을 골라 가파른 경사를 조금 내려오고, 다음 샘플을 골라 또 조금 \n",
        "  내려온다. \n",
        "  \n",
        "   그랬는데 경사 안끝났으면(가고자 하는 위치에 못 갔으면)? 처음부터 다시\n",
        "\n",
        "  by. **SGDClassifier 클래스** of sklearn.linear_model 패키지\n",
        "\n",
        "  ==> 모델을 추가적으로 훈련 가능. **partial_fit()** 메소드로. (fit과 같지만 호출할 때마다 1 에포크씩 이어서 훈련할 수 있음)\n",
        "\n",
        "  ==> SGDClassifier는 일정 에포크 동안 성능이 향상되지 않으면 더 훈련하지 않고 자동으로 멈춤. tol 매개변수에 향상될 최솟값을 지정. \n",
        "  \n",
        "  None으로 하면 max_iter만큼 무조건 반복하도록 하는 것.\n",
        "\n",
        "\n",
        "* **에포크** :  확률적 경사 하강법에서 훈련셋을 한 번 모두 사용하는 과정. 일반적으로 수십, 수백 번 이상 에포크를 수행한다.\n",
        "\n",
        "  ==> 에포크 횟수가 적으면 모델이 훈련세트를 덜 학습함. 훈련셋과 테스트셋에 잘 맞지 않는 과소적합된 모델일 가능성이 많다\n",
        "\n",
        "  ==> 에포크 횟수가 많을수록 정확도가 증가하지만 어느 순간 감소함. 과대적합되기 시작한 곳. 따라서 과대적합이 시작되기 전 훈련을 멈추는 **조기 종료** 해야함. \n",
        "</br>\n",
        "* 한 개 말고 여러개 랜덤 샘플 선택하면 **미니배치 경사 하강법**, 전체 샘플을 이용하여 경사로 조금 내려가면 **배치 경사 하강법**\n",
        "\n",
        "  ==> 그래서 내려가고자 하는 산은 ? **손실 함수**\n",
        "\n",
        "* **손실 함수** : 머신러닝 알고리즘이 얼마나 엉터리인지를 측정하는 기준. 분류에서 손실은? 정답을 못 맞히는 것!\n",
        "\n",
        " 경사 하강법으로 조금씩 내려와야 하기 때문에 손실 함수는 **미분 가능한 연속**함수여야 한다~!\n",
        "\n",
        " ==> 양성 클래스(타깃=1)일 때 손실은 -log(예측확률). 예측 확률이 1에서 멀어질수록 손실은 아주 큰 양수 됨.\n",
        "\n",
        " ==> 음성 클래스(타깃=0)일 때 손실은 -log(1-예측확률). 예측 확률에 0에서 멀어질수록 손실은 아주 큰 양수 됨.\n",
        "\n",
        " ==> **로지스틱 손실 함수** 혹은 **이진 크로스엔트로피 손실 함수**라고 함.\n",
        "\n",
        " ==> 다중분류에서는 **크로스엔트로피 손실 함수** 사용\n",
        "\n",
        " ==> 보통 회귀에서는 **평균 제곱 오차(Mean Square Error)** 많이 사용\n"
      ]
    },
    {
      "cell_type": "code",
      "metadata": {
        "id": "YDPP0RoCd4Vp"
      },
      "source": [
        "import pandas as pd\n",
        "fish=pd.read_csv('https://bit.ly/fish_csv_data')\n",
        "\n",
        "#species 열은 타깃 데이터, 나머지는 입력 데이터\n",
        "fish_input=fish[['Weight','Length','Diagonal','Height','Width']].to_numpy()\n",
        "fish_target=fish['Species'].to_numpy()\n",
        "\n",
        "#훈련셋과 테스트셋으로 나누기\n",
        "from sklearn.model_selection import train_test_split\n",
        "train_input, test_input, train_target, test_target=train_test_split(fish_input, fish_target, random_state=42)\n",
        "\n",
        "#훈련세소가 테스트셋의 특성을 표준화 전처리. 훈련세트에서 학습한 통계값으로 테스트셋도 변환해야 함!\n",
        "from sklearn.preprocessing import StandardScaler\n",
        "ss=StandardScaler()\n",
        "ss.fit(train_input)\n",
        "train_scaled=ss.transform(train_input)\n",
        "test_scaled=ss.transform(test_input)"
      ],
      "execution_count": 2,
      "outputs": []
    },
    {
      "cell_type": "code",
      "metadata": {
        "colab": {
          "base_uri": "https://localhost:8080/"
        },
        "id": "69zUiT0yPFNr",
        "outputId": "05854f1f-9de3-41b5-a5d7-944a197e850b"
      },
      "source": [
        "#확률적 경사 하강법 제공하는 분류용 클래스 SGDClassifier\n",
        "from sklearn.linear_model import SGDClassifier\n",
        "\n",
        "#객체 만들 때 2개의 매개변수 지정\n",
        "#loss:손실 함수의 종류 지정, 여기서는 로지스틱 손실 함수 지정. \n",
        "#max_iter는 수행할 에포크 횟수 지정.\n",
        "sc=SGDClassifier(loss='log',max_iter=10, random_state=42)\n",
        "sc.fit(train_scaled, train_target) #트레인셋으로 훈련\n",
        "\n",
        "print(sc.score(train_scaled, train_target)) #트레인 점수\n",
        "print(sc.score(test_scaled, test_target))   #테스트 점수"
      ],
      "execution_count": 3,
      "outputs": [
        {
          "output_type": "stream",
          "text": [
            "0.773109243697479\n",
            "0.775\n"
          ],
          "name": "stdout"
        },
        {
          "output_type": "stream",
          "text": [
            "/usr/local/lib/python3.7/dist-packages/sklearn/linear_model/_stochastic_gradient.py:557: ConvergenceWarning: Maximum number of iteration reached before convergence. Consider increasing max_iter to improve the fit.\n",
            "  ConvergenceWarning)\n"
          ],
          "name": "stderr"
        }
      ]
    },
    {
      "cell_type": "code",
      "metadata": {
        "colab": {
          "base_uri": "https://localhost:8080/"
        },
        "id": "Z7nB_b_EQSkT",
        "outputId": "122c1e78-3657-4bb1-e158-f0e96760cef4"
      },
      "source": [
        "#추가 훈련해보자\n",
        "sc.partial_fit(train_scaled, train_target)\n",
        "print(sc.score(train_scaled, train_target))\n",
        "print(sc.score(test_scaled, test_target))\n",
        "\n",
        "#점수가 높아지긴 했는데 얼마나 더 늘려야 하는? 에포크 늘리는 기준이 필요하다!"
      ],
      "execution_count": 4,
      "outputs": [
        {
          "output_type": "stream",
          "text": [
            "0.8151260504201681\n",
            "0.825\n"
          ],
          "name": "stdout"
        }
      ]
    },
    {
      "cell_type": "code",
      "metadata": {
        "colab": {
          "base_uri": "https://localhost:8080/",
          "height": 279
        },
        "id": "PGR6Todwm5RF",
        "outputId": "33149655-716d-43d6-fc8c-b43910368d19"
      },
      "source": [
        "#partial_fit 메소드만 사용하려면 훈련셋에 있는 전체 클래스의 레이블을 partial_fit()에 전달해야함\n",
        "import numpy as np\n",
        "sc=SGDClassifier(loss='log', random_state=42)\n",
        "train_score=[]\n",
        "test_score=[]\n",
        "classes=np.unique(train_target)\n",
        "\n",
        "#300번 에포크 동안 훈련 반복하여 진행\n",
        "for _ in range(0,300):\n",
        "  sc.partial_fit(train_scaled, train_target, classes=classes)\n",
        "  train_score.append(sc.score(train_scaled, train_target))\n",
        "  test_score.append(sc.score(test_scaled, test_target))\n",
        "\n",
        "#plot\n",
        "import matplotlib.pyplot as plt\n",
        "plt.plot(train_score)\n",
        "plt.plot(test_score)\n",
        "plt.xlabel('epoch')\n",
        "plt.ylabel('accuracy')\n",
        "plt.show()\n",
        "\n",
        "#백 번째 에포크 이후 훈련셋과 테스트셋이 점점 격차 생김-->100번이 적합하겠다!"
      ],
      "execution_count": 6,
      "outputs": [
        {
          "output_type": "display_data",
          "data": {
            "image/png": "[encoded data removed]",
            "text/plain": [
              "<Figure size 432x288 with 1 Axes>"
            ]
          },
          "metadata": {
            "tags": [],
            "needs_background": "light"
          }
        }
      ]
    },
    {
      "cell_type": "code",
      "metadata": {
        "colab": {
          "base_uri": "https://localhost:8080/"
        },
        "id": "Iok1JaT5rdje",
        "outputId": "d529e491-6adb-4a69-9e6f-790b79136e66"
      },
      "source": [
        "#반복횟수를 100으로 맞추고 모델 다시 훈련해보자.\n",
        "sc=SGDClassifier(loss='log', max_iter=100, tol=None, random_state=42)\n",
        "sc.fit(train_scaled, train_target)\n",
        "print(sc.score(train_scaled, train_target))\n",
        "print(sc.score(test_scaled, test_target))"
      ],
      "execution_count": 7,
      "outputs": [
        {
          "output_type": "stream",
          "text": [
            "0.957983193277311\n",
            "0.925\n"
          ],
          "name": "stdout"
        }
      ]
    }
  ]
}