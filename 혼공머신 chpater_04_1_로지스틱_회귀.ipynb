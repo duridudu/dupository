{
  "nbformat": 4,
  "nbformat_minor": 0,
  "metadata": {
    "colab": {
      "name": "혼공머신 chpater 04_1_로지스틱 회귀.ipynb",
      "provenance": [],
      "collapsed_sections": [],
      "authorship_tag": "ABX9TyOUsBoJvarYnhz8nUDJPagY",
      "include_colab_link": true
    },
    "kernelspec": {
      "name": "python3",
      "display_name": "Python 3"
    },
    "language_info": {
      "name": "python"
    }
  },
  "cells": [
    {
      "cell_type": "markdown",
      "metadata": {
        "id": "view-in-github",
        "colab_type": "text"
      },
      "source": [
        "<a href=\"https://colab.research.google.com/github/duridudu/dupository/blob/%ED%98%BC%EA%B3%B5%EB%A8%B8%EC%8B%A0/%ED%98%BC%EA%B3%B5%EB%A8%B8%EC%8B%A0_chpater_04_1_%EB%A1%9C%EC%A7%80%EC%8A%A4%ED%8B%B1_%ED%9A%8C%EA%B7%80.ipynb\" target=\"_parent\"><img src=\"https://colab.research.google.com/assets/colab-badge.svg\" alt=\"Open In Colab\"/></a>"
      ]
    },
    {
      "cell_type": "markdown",
      "metadata": {
        "id": "bSMAerAbeBeB"
      },
      "source": [
        "#**chapter 04. 다양한 분류 알고리즘**\n",
        "\n",
        "##**01. 럭키백의 확률**\n",
        "\n",
        "* 럭키백에 들어갈 수 있는 생선은 7개. 사용할 수 있는 특성은 **길이, 높이, 두께, 대각선 길이, 무게**\n",
        "\n",
        "* 럭키백에 들어갈 생선 7개의 확률을 출력해야 함. \n",
        "\n",
        "1. k-최근접 이웃을 써보자 : 이웃의 클래스 비율을 확률이라고 출력하면 되지 않을까?\n",
        "\n",
        "\n",
        "\n"
      ]
    },
    {
      "cell_type": "code",
      "metadata": {
        "id": "aEpgGjb0cT3G"
      },
      "source": [
        ""
      ],
      "execution_count": null,
      "outputs": []
    }
  ]
}
