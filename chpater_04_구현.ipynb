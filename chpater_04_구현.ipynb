{
  "nbformat": 4,
  "nbformat_minor": 0,
  "metadata": {
    "colab": {
      "name": "chpater 04_구현.ipynb의 사본",
      "provenance": [],
      "collapsed_sections": [
        "KdIZPHc1A9PD"
      ],
      "authorship_tag": "ABX9TyM+m7fvA7vulNxzXNReyrIj",
      "include_colab_link": true
    },
    "kernelspec": {
      "name": "python3",
      "display_name": "Python 3"
    },
    "language_info": {
      "name": "python"
    }
  },
  "cells": [
    {
      "cell_type": "markdown",
      "metadata": {
        "id": "view-in-github",
        "colab_type": "text"
      },
      "source": [
        "<a href=\"https://colab.research.google.com/github/duridudu/dupository/blob/%EC%9D%B4%EA%B2%83%EC%9D%B4-%EC%95%8C%EA%B3%A0%EB%A6%AC%EC%A6%98%EC%9D%B4%EB%8B%A4/chpater_04_%EA%B5%AC%ED%98%84_ipynb%EC%9D%98_%EC%82%AC%EB%B3%B8.ipynb\" target=\"_parent\"><img src=\"https://colab.research.google.com/assets/colab-badge.svg\" alt=\"Open In Colab\"/></a>"
      ]
    },
    {
      "cell_type": "markdown",
      "metadata": {
        "id": "vwGsDWpX8jih"
      },
      "source": [
        "#**chapter 04. 구현**\n",
        "구현이란? : 머릿속에 있는 알고리즘을 소스코드로 바꾸는 과정\n",
        "* 어떤 알고리즘 쓸지는 알겠는데 코드로 구현하는데 오래 걸리면 안된다!!\n",
        "\n",
        "  ==> 문법을 잘 알아야하고 코드 작성 속도가 빨라야한다. \n",
        "\n",
        "* 구현이 어려운 문제는 ?\n",
        " \n",
        " : 특정 소수점 자리까지 출력해야 하는 문제, 문자열이 입력으로 주어졌을 때 한 문자 단위로 끊어서 리스트에 넣어야하는(파싱) 문제 등.\n",
        " \n",
        "  **완전탐색**(모든 유형을 다 해봐야하는 경우)과 **시뮬레이션**(문제에서 제시한 알고리즘을 한 단계씩 차례대로 직접 수행해야 하는 경우)\n",
        "\n",
        "* 파이썬에서의 리스트 크기\n",
        "\n",
        "  : 데이터 처리량이 많을 경우 꼭 **메모리 제한**을 염두에 둬야 한다! (보통 128~512MB러 메모리 제한 in 코테)\n",
        "   \n",
        "    ex. 리스트 길이 1000이면 메모리 사용량 약 4KB, 1000000이면 약 4MB, 10000000이면 약 40MB.\n"
      ]
    },
    {
      "cell_type": "markdown",
      "metadata": {
        "id": "KdIZPHc1A9PD"
      },
      "source": [
        "##**예제문제 1** : 상하좌우\n",
        "NxN 공간에 R, L, U, D 이동 시 최종 도착지 좌표는?\n",
        "\n",
        "--> 일련의 명령에 따라서 개체를 차례대로 이동시킨다. **시뮬레이션형**\n",
        "\n",
        "--> 연산 횟수는 이동 횟수에 비례. 이동 횟수 N번이면 시간복잡도는 O(N)\n",
        "\n",
        "##**배운것**##\n",
        "\n",
        "* for ~ in ~: 이거 **문자열 리스트**에도 적용가능!!!\n",
        "\n",
        "  ex. plans=['R','R','U','D','D']\n",
        "   \n",
        "   일 때, for plan in plans: 하면 plans 리스트의 문자열이 하나씩 나옴.\n",
        "\n",
        "* 파이썬 **기타 제어문**\n",
        "\n",
        "  -continue : 해당 단계만 건너뛰고 다음 단계로 간다.\n",
        "\n",
        "  -break : 제어문 중단하고 빠져나간다.\n",
        "\n",
        "  -pass : 조건 만족시키면 그냥 넘어간다. \n",
        "\n"
      ]
    },
    {
      "cell_type": "code",
      "metadata": {
        "colab": {
          "base_uri": "https://localhost:8080/"
        },
        "id": "ZWl6Ro1u8knJ",
        "outputId": "200777ce-77a7-4b9f-9976-5ba746269f70"
      },
      "source": [
        "#내 답\n",
        "n=int(input())\n",
        "dir=list(input().split())\n",
        "\n",
        "x=1; y=1\n",
        "for i in range(len(dir)):\n",
        "  if dir[i]=='R':\n",
        "    if y < 5:\n",
        "      y=y+1\n",
        "  elif dir[i]=='L':\n",
        "    if y > 1:\n",
        "      y=y-1\n",
        "  elif dir[i]=='U':\n",
        "    if x > 1 :\n",
        "      x=x-1\n",
        "  else:\n",
        "    if x < 5:\n",
        "      x=x+1\n",
        "\n",
        "print(x,y)"
      ],
      "execution_count": null,
      "outputs": [
        {
          "output_type": "stream",
          "text": [
            "5\n",
            "R R R U D D\n",
            "3 4\n"
          ],
          "name": "stdout"
        }
      ]
    },
    {
      "cell_type": "code",
      "metadata": {
        "colab": {
          "base_uri": "https://localhost:8080/"
        },
        "id": "slQF6hb2C8u5",
        "outputId": "aeee9e1e-81b9-4e96-978c-00e90a066f62"
      },
      "source": [
        "#문제 답\n",
        "n=int(input())\n",
        "x, y=1,1\n",
        "plans=input().split()\n",
        "\n",
        "#L,R,U,D에 따른 이동방향\n",
        "dx=[0,0,-1,1]\n",
        "dy=[-1,1,0,0]\n",
        "move_types=['L','R','U','D']\n",
        "\n",
        "#이동 계획 하나씩 확인\n",
        "for plan in plans:\n",
        "  #이동 후 좌표 구하기\n",
        "  for i in range(len(move_types)):\n",
        "    if plan==move_types[i]:\n",
        "      nx=x+dx[i] #nx, ny는 매번 리셋, 누적되는건 x, y임!\n",
        "      ny=y+dy[i]\n",
        "  #공간을 벗어나는 경우 무시\n",
        "  if nx<1 or ny<1 or nx>n or ny>n:\n",
        "    continue\n",
        "  #이동 수행\n",
        "  x,y = nx,ny\n",
        "\n",
        "print(x,y)"
      ],
      "execution_count": null,
      "outputs": [
        {
          "output_type": "stream",
          "text": [
            "5\n",
            "R R R U D D\n",
            "3 4\n"
          ],
          "name": "stdout"
        }
      ]
    },
    {
      "cell_type": "markdown",
      "metadata": {
        "id": "CFARgKHHI8IQ"
      },
      "source": [
        "##**예제문제 2** : 시각\n",
        "00시 00분 00초부터 입력받은 N시 59분 59초까지 숫자 3이 하나라도 포함된 경우 총 몇 개?\n",
        "\n",
        "--> 모든 초단위 시간 확인해보는 **완전탐색형**\n",
        "\n",
        "##**배운것**\n",
        "* 시계의 경우 24 * 60 * 60=86400가지임. 10만개가 되지 않으므로 완전탐색으로 풀어도 무방.\n",
        "\n",
        "* 보통 확인해야 할 전체 데이터의 개수가 **100만 개 이하**이면 완전 탐색 사용하기 적절!"
      ]
    },
    {
      "cell_type": "code",
      "metadata": {
        "colab": {
          "base_uri": "https://localhost:8080/"
        },
        "id": "GcBUrx06J9HH",
        "outputId": "83ba625b-3437-4c84-97d3-66aac808f483"
      },
      "source": [
        "n=int(input())\n",
        "count=0\n",
        "\n",
        "for hour in range(0,n+1):\n",
        "  for min in range(0,60):\n",
        "    for sec in range(0,60):\n",
        "      if '3' in str(hour)+str(min)+str(sec):\n",
        "        count+=1\n",
        "count"
      ],
      "execution_count": null,
      "outputs": [
        {
          "output_type": "stream",
          "text": [
            "5\n"
          ],
          "name": "stdout"
        },
        {
          "output_type": "execute_result",
          "data": {
            "text/plain": [
              "11475"
            ]
          },
          "metadata": {
            "tags": []
          },
          "execution_count": 22
        }
      ]
    },
    {
      "cell_type": "markdown",
      "metadata": {
        "id": "wwjJ3GBv12Ca"
      },
      "source": [
        "##**실전문제 02 : 왕실의 나이트**\n",
        "\n",
        "나이트는 L자 형태로만 이동할 수 있고 정원 밖으로 못 나감. 특정한 위치에서는 다음의 2가지 경우로 이동할 수 있다.\n",
        "\n",
        "1. 수평으로 두 칸 이동한 뒤에 수직으로 한 칸 이동하기\n",
        "\n",
        "2. 수직으로 두 칸 이동한 뒤에 수평으로 한 칸 이동하기\n",
        "\n",
        "  ==> 8x8 좌표평면상에서 나이트의 위치가 주어졌을 때 나이트가 이동할 수 있는 경우의 수를 출력하는 프로그램을 작성하시오. (행은 1-8, 열은 a-h 로 표현)"
      ]
    },
    {
      "cell_type": "code",
      "metadata": {
        "id": "OgV47Ioy4qdJ",
        "colab": {
          "base_uri": "https://localhost:8080/"
        },
        "outputId": "6697f150-f629-4dbe-e9fb-6fe97246b09a"
      },
      "source": [
        "input_data = input()\n",
        "row = int(input_data[1])\n",
        "column = int(ord(input_data[0])) - int(ord('a')) + 1\n",
        "\n",
        "#나이트가 이동할 수 있는 8가지 방향 정의\n",
        "steps = [(-2,-1), (-1,-2), (1,-2), (2,-1), (2,1),(1,2), (-1,2), (-2,1)]\n",
        "\n",
        "#8가지 방향에 대해서 각 위치로 이동이 가능한지 확인\n",
        "result = 0\n",
        "for step in steps : \n",
        "  #이동하고자 하는 위치 확인\n",
        "  next_row=row + step[0]\n",
        "  next_column = column + step[1]\n",
        "\n",
        "  #해당 위치로 이동이 가능하다면 카운트 증가\n",
        "  if next_row >= 1 and next_row <=8 and next_column >=1 and next_column <=8:\n",
        "    result += 1\n",
        "\n",
        "print(result)\n"
      ],
      "execution_count": null,
      "outputs": [
        {
          "output_type": "stream",
          "text": [
            "a1\n",
            "2\n"
          ],
          "name": "stdout"
        }
      ]
    },
    {
      "cell_type": "code",
      "metadata": {
        "id": "79zOC6Q37SVO"
      },
      "source": [
        ""
      ],
      "execution_count": null,
      "outputs": []
    }
  ]
}
