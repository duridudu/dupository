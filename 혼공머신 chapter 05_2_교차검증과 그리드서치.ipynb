{
  "nbformat": 4,
  "nbformat_minor": 0,
  "metadata": {
    "colab": {
      "name": "혼공머신 chapter 05_2 교차검증과 그리드서치.ipynb",
      "provenance": [],
      "collapsed_sections": [],
      "authorship_tag": "ABX9TyNUNmQ2gCu/TP7bYQ/icmNz",
      "include_colab_link": true
    },
    "kernelspec": {
      "name": "python3",
      "display_name": "Python 3"
    },
    "language_info": {
      "name": "python"
    }
  },
  "cells": [
    {
      "cell_type": "markdown",
      "metadata": {
        "id": "view-in-github",
        "colab_type": "text"
      },
      "source": [
        "<a href=\"https://colab.research.google.com/github/duridudu/dupository/blob/%ED%98%BC%EA%B3%B5%EB%A8%B8%EC%8B%A0/%ED%98%BC%EA%B3%B5%EB%A8%B8%EC%8B%A0%20chapter%2005_2_%EA%B5%90%EC%B0%A8%EA%B2%80%EC%A6%9D%EA%B3%BC%20%EA%B7%B8%EB%A6%AC%EB%93%9C%EC%84%9C%EC%B9%98.ipynb\" target=\"_parent\"><img src=\"https://colab.research.google.com/assets/colab-badge.svg\" alt=\"Open In Colab\"/></a>"
      ]
    },
    {
      "cell_type": "markdown",
      "metadata": {
        "id": "1LlbpVfDIF74"
      },
      "source": [
        "##**Chapter 05-2 교차검증과 그리드서치**\n",
        "\n",
        "* Before start : 흠 근데 이렇게 테스트값을 마구 넣고 결정 트리 돌리면 결국 테스트 세트에 잘 맞는 모델이 만들어지는거 아냐? ==> 검증세트의 필요성\n",
        "\n",
        "###**검증 세트**\n",
        "\n",
        "테스트세트를 사용하지 않고 모델이 과대/과소적합인지 측정하는 방법. 훈련 세트를 또 나눔!\n",
        "\n",
        "ex. 약 60%는 훈련세트, 약 20%는 검증세트, 약 20%는 테스트세트\n",
        "\n",
        "(보통 20~30%를 테스트 세트와 검증 세트로 떼어 놓음. 그러나 훈련 데이터가 아주 많다면 단 몇%만 떼어 놓아도 전체 데이터를 대표하는데 문제가 없음)\n",
        "\n",
        "* 훈련세트에서 모델을 훈련하고 검증세트로 모델을 평가함. 이런 식으로 테스트하고 싶은 매개변수를 바꿔가며 가장 좋은 모델을 고름. \n",
        "\n",
        "  그 다음 이 매개변수를 사용해 훈련세트와 검증세트를 합쳐 전체 훈련함. \n",
        "  \n",
        "  그리고 마지막에 테스트세트에서 최종 점수를 평가 --> 실전에 투입했을 때 테스트세트의 점수와 비슷한 성능을 기대할 수 있을 것. \n",
        "\n"
      ]
    },
    {
      "cell_type": "code",
      "metadata": {
        "id": "2mwHliH9v1zr",
        "colab": {
          "base_uri": "https://localhost:8080/"
        },
        "outputId": "bbee6923-153f-44f9-da6e-da92ba3c0963"
      },
      "source": [
        "#검증세트 만들기\n",
        "import pandas as pd\n",
        "wine = pd.read_csv('https://bit.ly/wine_csv_data')\n",
        "\n",
        "#class열을 타깃으로, 나머지 열은 특성 배열에 저장\n",
        "data=wine[['alcohol','sugar','pH']].to_numpy()\n",
        "target = wine['class'].to_numpy()\n",
        "\n",
        "#테스트세트와 훈련세트 나눔.\n",
        "from sklearn.model_selection import train_test_split\n",
        "train_input, test_input, train_target, test_target = train_test_split(data, target, test_size=0.2, random_state=42)\n",
        "\n",
        "#train_input과 train_target을 다시 훈련세트(sub)와 검증세트(val)로 나눔.\n",
        "sub_input, val_input, sub_target, val_target = train_test_split(train_input, train_target, test_size=0.2, random_state=42)\n",
        "\n",
        "#훈련, 검증세트로 모델 만들고 평가하기\n",
        "from sklearn.tree import DecisionTreeClassifier\n",
        "dt=DecisionTreeClassifier(random_state=42)\n",
        "dt.fit(sub_input, sub_target)\n",
        "print(dt.score(sub_input, sub_target))\n",
        "print(dt.score(val_input, val_target))\n",
        "#==> 훈련세트에 과대적합 됨!"
      ],
      "execution_count": 2,
      "outputs": [
        {
          "output_type": "stream",
          "text": [
            "0.9971133028626413\n",
            "0.864423076923077\n"
          ],
          "name": "stdout"
        }
      ]
    },
    {
      "cell_type": "markdown",
      "metadata": {
        "id": "NKGxFyblMChY"
      },
      "source": [
        "### **교차 검증**\n",
        "\n",
        "검증 세트 만드느라 훈련 세트가 줄었다. 그런데 보통 훈련 세트가 많을수록 좋은 모델이 만들어짐.\n",
        "\n",
        "그렇다고 검증 세트를 너무 조금 떼어 놓으면 검증 점수가 들쭉날쭉할 것임. 이럴 때 **교차검증** 사용.\n",
        "\n",
        "* 검증 세트를 떼어 내어 평가하는 과정을 여러 번 반복. 그 다음 이 점수를 평균하여 최종 검증 점수를 얻음. \n",
        "\n",
        "* k-폴드 교차 검증 : 훈련 세트를 k겹으로 나누어 교차 검증을 수행하는 것. 보통 5-폴드나 10-폴드를 많이 이용. 이렇게 하면 데이터의 80~90%까지 훈련에 사용할 수 있다. \n",
        "\n",
        "* by **cross_validate()** 라는 교차 검증 함수 : 평가할 모델 객체를 첫번째 매개변수로 전달,\n",
        "\n",
        " 그 다음 앞처럼 직접 검증세트를 떼어내지 않고 훈련세트 전체를 cross_calidate() 함수에 전달함.\n",
        "\n",
        "* **cross_validate()는 훈련세트를 섞어 폴드를 나누지 않음! \n",
        "\n",
        " 우리는 앞서 train_test_split으로 전체 데이터 섞고 훈련세트를 나눴기 때문에 따로 안섞어도 되는데 따로 하려면 분할기(spliter)를 지정해야 함.\n",
        "\n",
        " ==> 기본으로 KFold 분할기. 분류 모델일 경우 타깃 틀래스를 골고루 나누기 위해 StraintifedKFold 사용"
      ]
    },
    {
      "cell_type": "code",
      "metadata": {
        "colab": {
          "base_uri": "https://localhost:8080/"
        },
        "id": "-pJk8EejKc5K",
        "outputId": "572f065a-1c62-46de-925b-e07ba3b3274a"
      },
      "source": [
        "from sklearn.model_selection import cross_validate\n",
        "scores = cross_validate(dt, train_input, train_target)\n",
        "print(scores) #최종 점수 아니고 검증 폴드의 점수임!"
      ],
      "execution_count": 3,
      "outputs": [
        {
          "output_type": "stream",
          "text": [
            "{'fit_time': array([0.01098251, 0.00737858, 0.00715971, 0.0067215 , 0.00663805]), 'score_time': array([0.00078988, 0.00063491, 0.00060177, 0.00053191, 0.00058794]), 'test_score': array([0.86923077, 0.84615385, 0.87680462, 0.84889317, 0.83541867])}\n"
          ],
          "name": "stdout"
        }
      ]
    },
    {
      "cell_type": "code",
      "metadata": {
        "colab": {
          "base_uri": "https://localhost:8080/"
        },
        "id": "MroWRZ2fMzvt",
        "outputId": "2fcc7b62-7c12-47ce-f1b6-745d9af619bd"
      },
      "source": [
        "#교차검증의 최종 점수는 test_score 키에 담긴 5개의 점수를 평균하여 얻을 수 있음\n",
        "import numpy as np\n",
        "print(np.mean(scores['test_score']))"
      ],
      "execution_count": 4,
      "outputs": [
        {
          "output_type": "stream",
          "text": [
            "0.855300214703487\n"
          ],
          "name": "stdout"
        }
      ]
    },
    {
      "cell_type": "code",
      "metadata": {
        "colab": {
          "base_uri": "https://localhost:8080/"
        },
        "id": "XLxhyVG8Q18G",
        "outputId": "ad9e0613-6b1a-4a08-b3dc-4a810854136f"
      },
      "source": [
        "#분할기\n",
        "from sklearn.model_selection import StratifiedKFold\n",
        "scores = cross_validate(dt, train_input, train_target, cv=StratifiedKFold())\n",
        "print(np.mean(scores['test_score']))"
      ],
      "execution_count": 5,
      "outputs": [
        {
          "output_type": "stream",
          "text": [
            "0.855300214703487\n"
          ],
          "name": "stdout"
        }
      ]
    },
    {
      "cell_type": "code",
      "metadata": {
        "colab": {
          "base_uri": "https://localhost:8080/"
        },
        "id": "IlkVAET2ReIz",
        "outputId": "8f73ef34-ae90-4cc1-e01d-07d0dc1c6447"
      },
      "source": [
        "#만약 훈련세트를 섞은 후 10-폴드 교차 검증을 수행하려면 다음과 같이 작성해야 함.\n",
        "splitter = StratifiedKFold(n_splits=10, shuffle=True, random_state=42)\n",
        "scores=cross_validate(dt, train_input, train_target, cv=splitter)\n",
        "print(np.mean(scores['test_score']))\n",
        "\n",
        "#이제 교차검증을 알았으니 매개변수를 바꿔가며 테스트를 해보"
      ],
      "execution_count": 6,
      "outputs": [
        {
          "output_type": "stream",
          "text": [
            "0.8574181117533719\n"
          ],
          "name": "stdout"
        }
      ]
    },
    {
      "cell_type": "markdown",
      "metadata": {
        "id": "cODAKAOvSF5B"
      },
      "source": [
        "###**하이파라미터 튜닝**\n",
        "\n",
        "하이퍼파라미터 : 모델이 학습할 수 없어서 사용자가 지정해야만 하는 파라미터. 매개변수로 표현됨.\n",
        "\n",
        "* 매개변수가 여러 개이면 하나가 달라지면 다른 것들의 결과도 달라져서 동시에 제어해야 함. 이 때 **그리드 서치** 사용\n",
        "\n",
        "* by **GridSearchCV 클래스**\n",
        "\n",
        "* 과정 정리\n",
        "\n",
        "  1. 탐색할 매개변수를 지정함.\n",
        "  2. 그 다음 훈련 세트에서 그리드 서치를 수행하여 최상의 평균 검증 점수가 나오는 매개변수를 조합을 찾는다. 이 조합은 그리드 서치 객체에 저장됨.\n",
        "  3. 그리드서치는 최상의 매개변수에서 (교차 검증에 사용한 훈련 세트가 아니라) 전체 훈련 세트를 사용해 최종 모델을 훈련함.\n",
        "  \n",
        "    이 모델도 그리드서치 객체에 저장됨. \n",
        "\n",
        "* **배운것**\n",
        "\n",
        "- 넘파이의 arange(-,-,-) : -부터 -까지 -씩 더해가면서 증 \n",
        "\n",
        "- 넘파이의 range(-,-,-) : 똑같지만 **정수만 사용 가능**\n"
      ]
    },
    {
      "cell_type": "code",
      "metadata": {
        "colab": {
          "base_uri": "https://localhost:8080/"
        },
        "id": "maa6r_WmR2wR",
        "outputId": "4a46852e-bb8b-4d9e-81ca-7d1b17934aaa"
      },
      "source": [
        "from sklearn.model_selection import GridSearchCV\n",
        "params={'min_impurity_decrease': [0.0001, 0.0002, 0.0003, 0.0004, 0.00055] } #탐색할 매개변수와 탐색할 값\n",
        "\n",
        "#탐색 대상 모델과 변수를 전달하여 그리드서치 객체를 만듦\n",
        "gs = GridSearchCV(DecisionTreeClassifier(random_state=42), params, n_jobs=-1)\n",
        "#==> 이 객체는 결정트리모델 min_impurity_decrease 값을 바꿔가며 총 5번 실행됨. \n",
        "#GridSearchCV의 cv 매개변수 기본값은 5. 따라서 min_~값마다 5-폴드 교차검증을 수행. 결국 5*5=25개의 모델을 훈련하는 것. \n",
        "#n_jobs 매개변수에서 병렬 실행에 사용할 CPU 코어 수 지정. 매개변수의 기본값은 1\n",
        "#==> -1로 지정하면 시스템에 있는 모든 코어를 사용함.\n",
        "\n",
        "#그리드서치 수행\n",
        "gs.fit(train_input, train_target)\n",
        "\n",
        "#최적의 하이퍼파라미터 찾으면 전체 훈련 세트로 모델을 다시 만들어야 하지만, \n",
        "#사이킷런의 그리드서치는 훈련이 끝나면 25개의 모델 중에서 검증 점수가 가장 높은 모델의 매개변수 조합으로 전체 훈련 세트에서 자동으로 다시 모델 훈련\n",
        "#best_estimator_ 속성에 저장되어 있음. 이 모델을 일반 결정트리처럼 똑같이 사용할 수 있음.\n",
        "dt = gs.best_estimator_\n",
        "print(dt.score(train_input, train_target))"
      ],
      "execution_count": 7,
      "outputs": [
        {
          "output_type": "stream",
          "text": [
            "0.9615162593804117\n"
          ],
          "name": "stdout"
        }
      ]
    },
    {
      "cell_type": "code",
      "metadata": {
        "colab": {
          "base_uri": "https://localhost:8080/"
        },
        "id": "eDdicQ81T6da",
        "outputId": "9df3b8e2-7dd6-4401-9a8d-d3cd0cd8a2bc"
      },
      "source": [
        "print(gs.best_params_)\n",
        "#0.0001이 가장 좋은 값으로 선택됨!"
      ],
      "execution_count": 8,
      "outputs": [
        {
          "output_type": "stream",
          "text": [
            "{'min_impurity_decrease': 0.0001}\n"
          ],
          "name": "stdout"
        }
      ]
    },
    {
      "cell_type": "code",
      "metadata": {
        "colab": {
          "base_uri": "https://localhost:8080/"
        },
        "id": "P56r87klT9QY",
        "outputId": "4c53c466-d99b-41bb-9fa3-b7307a54ea17"
      },
      "source": [
        "#5번의 교차검증으로 얻은 점수\n",
        "print(gs.cv_results_['mean_test_score'])"
      ],
      "execution_count": 9,
      "outputs": [
        {
          "output_type": "stream",
          "text": [
            "[0.86819297 0.86453617 0.86492226 0.86780891 0.86607574]\n"
          ],
          "name": "stdout"
        }
      ]
    },
    {
      "cell_type": "code",
      "metadata": {
        "id": "eS64_PJ-UFaE",
        "colab": {
          "base_uri": "https://localhost:8080/"
        },
        "outputId": "fa6cabcf-7ed4-415c-f3df-5a7673a2c18d"
      },
      "source": [
        "#위 점수들에서 가장 좋은 값을 자동으로 뽑아보자\n",
        "best_index=np.argmax(gs.cv_results_['mean_test_score'])\n",
        "print(gs.cv_results_['params'][best_index])"
      ],
      "execution_count": 10,
      "outputs": [
        {
          "output_type": "stream",
          "text": [
            "{'min_impurity_decrease': 0.0001}\n"
          ],
          "name": "stdout"
        }
      ]
    },
    {
      "cell_type": "code",
      "metadata": {
        "colab": {
          "base_uri": "https://localhost:8080/"
        },
        "id": "qJuWcP5Y1AWR",
        "outputId": "27ac1768-9cd2-448f-800c-02204a6e5df2"
      },
      "source": [
        "#조금 더 복잡한 매개변수 조합 탐색\n",
        "#불순도 감소 최소량을 지정, max_depth로 트리의 깊이 제한, min_samples_split으로 노드를 나누기 위한 최소 샘플 수도 골라보자\n",
        "params = {'min_impurity_decrease':np.arange(0.0001, 0.001, 0.0001), \n",
        "          'max_depth': range(5,20,1),\n",
        "          'min_samples_split':range(2,100,10)}\n",
        "\n",
        "#그리드서치 실행\n",
        "gs=GridSearchCV(DecisionTreeClassifier(random_state=42), params, n_jobs=-1)\n",
        "gs.fit(train_input, train_target)\n",
        "\n",
        "#최상의 매개변수 조합을 확인\n",
        "print(gs.best_params_)"
      ],
      "execution_count": 12,
      "outputs": [
        {
          "output_type": "stream",
          "text": [
            "{'max_depth': 14, 'min_impurity_decrease': 0.0004, 'min_samples_split': 12}\n"
          ],
          "name": "stdout"
        }
      ]
    },
    {
      "cell_type": "code",
      "metadata": {
        "colab": {
          "base_uri": "https://localhost:8080/"
        },
        "id": "89dJgGzv937T",
        "outputId": "513975c3-3114-4ed2-a460-123acab59f66"
      },
      "source": [
        "#최상의 교차검증 점수 확인\n",
        "print(np.max(gs.cv_results_['mean_test_score']))"
      ],
      "execution_count": 13,
      "outputs": [
        {
          "output_type": "stream",
          "text": [
            "0.8683865773302731\n"
          ],
          "name": "stdout"
        }
      ]
    },
    {
      "cell_type": "markdown",
      "metadata": {
        "id": "g3zxz1XHFrjo"
      },
      "source": [
        "* 간격을 0.001, 0.0001로 설정했는데 사실 특별한 근거가 없음. 이보다 더 좁거나 넓은 간격으로 시도해볼 수 있지 않을까?"
      ]
    },
    {
      "cell_type": "markdown",
      "metadata": {
        "id": "VH0O-qnuFxqr"
      },
      "source": [
        "### **랜덤 서치**\n",
        "* 매개변수 조건이 너무 많거나 값이 수치일 때 간격 정하기 어려움. 이 때 랜덤 서치 사용.\n",
        "\n",
        "* 매개변수 값의 목록을 전달하는 것이 아니라 **매개변수를 샘플링할 수 있는 확률 분포 객체**를 전달\n",
        "\n",
        "* **from scipy.stats import uniform, randiant**\n",
        "\n",
        " - uniform : 주어진 범위에서 고르게 실숫값 뽑음.\n",
        "\n",
        " - randiant : 주어진 범위에서 고르게 정숫값 뽑음. \n",
        "\n",
        " ==> 랜덤서치에 이 클래스 객체들을 넘겨주고 총 몇 번을 샘플링해서 최적의 매개변수를 찾으라고 명령할 수 있음. 샘플링 횟수는 시스템 자원이 허락하는 범위 내에서 최대한 크게 할수록 좋음."
      ]
    },
    {
      "cell_type": "code",
      "metadata": {
        "id": "_Yt26LDfFoZw"
      },
      "source": [
        "#min_samples_leaf 매개변수를 탐색대상에 추가하자. --> 이 매개변수는 리프 노드가 되기 위한 최소 샘플의 개수\n",
        "#어떤 노드가 분할하여 만들어질 자식 노드의 샘플 수가 이 값보다 작을 경우 분할하지 않음\n",
        "from scipy.stats import uniform, randint\n",
        "params={'min_impurity_decrease':uniform(0.0001, 0.001),\n",
        "        'max_depth':randint(20,50),\n",
        "        'min_samples_split':randint(2,25),\n",
        "        'min_samples_leaf': randint(1,25),\n",
        "        }\n",
        "\n",
        "#min_impurity_decrease는 0.0001에서 0.001 사이의 실숫값을 샘플링 함. \n",
        "#샘플링 횟수는 사이킷런의 랜덤서치 클래스인 RandomizedSearchCV의 n_iter 매개변수에 지"
      ],
      "execution_count": 15,
      "outputs": []
    },
    {
      "cell_type": "code",
      "metadata": {
        "colab": {
          "base_uri": "https://localhost:8080/"
        },
        "id": "N-bXuTn1Kjh-",
        "outputId": "113f31ea-ea5b-45e7-f71d-be93122efab3"
      },
      "source": [
        "from sklearn.model_selection import RandomizedSearchCV\n",
        "gs=RandomizedSearchCV(DecisionTreeClassifier(random_state=42), params,\n",
        "                      n_iter=100, n_jobs=-1, random_state=42)\n",
        "gs.fit(train_input, train_target)\n",
        "#총 100번을 샘플링하여 교차검증을 수행, 최적의 매개변수 조합을 찾음. \n",
        "#그리드서치보다 훨씬 교차 검증 수를 줄ㄹ이면서 넓은 영역을 효과적으로 탐색할 수 있음. \n",
        "\n",
        "#최적의 매개변수 조합\n",
        "print(gs.best_params_)"
      ],
      "execution_count": 17,
      "outputs": [
        {
          "output_type": "stream",
          "text": [
            "{'max_depth': 39, 'min_impurity_decrease': 0.00034102546602601173, 'min_samples_leaf': 7, 'min_samples_split': 13}\n"
          ],
          "name": "stdout"
        }
      ]
    },
    {
      "cell_type": "code",
      "metadata": {
        "colab": {
          "base_uri": "https://localhost:8080/"
        },
        "id": "tduzs7qFLHwq",
        "outputId": "2a80b32c-c773-44dd-95c6-df8ef0e148c4"
      },
      "source": [
        "#최고의 교차 검증 점수\n",
        "print(np.max(gs.cv_results_['mean_test_score']))"
      ],
      "execution_count": 18,
      "outputs": [
        {
          "output_type": "stream",
          "text": [
            "0.8695428296438884\n"
          ],
          "name": "stdout"
        }
      ]
    },
    {
      "cell_type": "code",
      "metadata": {
        "colab": {
          "base_uri": "https://localhost:8080/"
        },
        "id": "BXVmNO30LfGt",
        "outputId": "7eb5c485-fd5b-4d4f-d522-5c02ed06be1e"
      },
      "source": [
        "#최적의 모델은 이미 전체 훈련세트(train_iput, train_target)로 훈련되어 best_estimator_속성에 저장되어 있음.\n",
        "#이 모델을 최종 모델로 결정하고 테스트세트의 성능을 확인해보자\n",
        "dt = gs.best_estimator_\n",
        "print(dt.score(test_input, test_target))\n",
        "\n",
        "#결론 : 수동으로 매개변수를 바꾸는 대신, 그리드 서치나 랜덤 서치를 쓰자!"
      ],
      "execution_count": 19,
      "outputs": [
        {
          "output_type": "stream",
          "text": [
            "0.86\n"
          ],
          "name": "stdout"
        }
      ]
    }
  ]
}